{
 "cells": [
  {
   "cell_type": "code",
   "execution_count": null,
   "metadata": {},
   "outputs": [
    {
     "data": {
      "text/plain": [
       "7"
      ]
     },
     "execution_count": 4,
     "metadata": {},
     "output_type": "execute_result"
    }
   ],
   "source": [
    "sum1 = lambda a, b: a + b  # noqa: E731\n",
    "sum1(3, 4)"
   ]
  },
  {
   "cell_type": "code",
   "execution_count": 13,
   "metadata": {},
   "outputs": [
    {
     "name": "stdout",
     "output_type": "stream",
     "text": [
      "[<function <lambda> at 0x000001CF2BF96CA0>, <function <lambda> at 0x000001CF2BF95800>]\n"
     ]
    }
   ],
   "source": [
    "my_list = [lambda a, b: a + b, lambda a, b: a * b]\n",
    "my_list[0](3, 4)\n",
    "my_list[1](5, 6)\n",
    "\n",
    "print(my_list)"
   ]
  },
  {
   "cell_type": "code",
   "execution_count": null,
   "metadata": {},
   "outputs": [
    {
     "name": "stdout",
     "output_type": "stream",
     "text": [
      "100과 123의 합: 223\n",
      "12와 34의 곱: 408\n"
     ]
    }
   ],
   "source": [
    "add = lambda a, b: a + b  # noqa: E731\n",
    "\n",
    "print(f\"100과 123의 합: {add(100, 123)}\")\n",
    "\n",
    "print(f\"12와 34의 곱: {(lambda a, b: a * b)(12, 34)}\")"
   ]
  },
  {
   "cell_type": "code",
   "execution_count": 31,
   "metadata": {},
   "outputs": [
    {
     "name": "stdout",
     "output_type": "stream",
     "text": [
      "2\n",
      "5\n",
      "10\n"
     ]
    }
   ],
   "source": [
    "f = [lambda x: x + 1, lambda x: x + 2, lambda x: x + 3]\n",
    "\n",
    "print(f[0](1))\n",
    "print(f[1](3))\n",
    "print(f[2](7))"
   ]
  },
  {
   "cell_type": "code",
   "execution_count": null,
   "metadata": {},
   "outputs": [
    {
     "name": "stdout",
     "output_type": "stream",
     "text": [
      "200 - 100 = 100\n"
     ]
    }
   ],
   "source": [
    "def sub(a, b):\n",
    "    return a - b\n",
    "\n",
    "\n",
    "print(f\"200 - 100 = {sub(200, 100)}\")"
   ]
  },
  {
   "cell_type": "code",
   "execution_count": null,
   "metadata": {},
   "outputs": [
    {
     "name": "stdout",
     "output_type": "stream",
     "text": [
      "200 - 100 = 100\n"
     ]
    }
   ],
   "source": [
    "sub = lambda a, b: a - b  # noqa: E731\n",
    "\n",
    "print(f\"200 - 100 = {sub(200, 100)}\")"
   ]
  },
  {
   "cell_type": "code",
   "execution_count": 40,
   "metadata": {},
   "outputs": [
    {
     "name": "stdout",
     "output_type": "stream",
     "text": [
      "[1, 2, 3, 4]\n"
     ]
    }
   ],
   "source": [
    "f = lambda x: x > 0  # noqa: E731\n",
    "\n",
    "\n",
    "# filter() 함수는 첫 번째 인자로 주어진 함수를 두 번째 인자로 주어진 iterable 객체의 각 요소에 적용하여 True인 요소만 남긴다.\n",
    "print(list(filter(f, range(-5, 5))))"
   ]
  },
  {
   "cell_type": "code",
   "execution_count": null,
   "metadata": {},
   "outputs": [
    {
     "name": "stdout",
     "output_type": "stream",
     "text": [
      "[-5, -4, -3, -2, -1, 0, 1, 2, 3, 4]\n"
     ]
    }
   ],
   "source": [
    "def func(x):\n",
    "    if x > 0:\n",
    "        return x\n",
    "    else:\n",
    "        return x - 100\n",
    "\n",
    "\n",
    "print(list(filter(func, range(-5, 5))))\n",
    "\n",
    "# 필터 함수에서 사용되는 함수는 논리값을 반환하는 함수로 인지함\n",
    "# 그러므로, 반환값이 0이 아닌 모든 값은 True값으로 간주하게 됨\n",
    "# 결국 어떤 반환 형태도 0을 반환하지 않으므로 모두 다 True 값이 되어, 범위를 그대로 반환하게 됨"
   ]
  },
  {
   "cell_type": "code",
   "execution_count": null,
   "metadata": {},
   "outputs": [
    {
     "name": "stdout",
     "output_type": "stream",
     "text": [
      "성년 리스트 : 34 39 20 54 "
     ]
    }
   ],
   "source": [
    "ages = [34, 39, 20, 18, 13, 54]\n",
    "\n",
    "\n",
    "def adult_func(n):\n",
    "    if n >= 19:\n",
    "        return True\n",
    "    else:\n",
    "        return False\n",
    "\n",
    "\n",
    "print(\"성년 리스트 :\", end=\" \")\n",
    "for a1 in filter(adult_func, ages):\n",
    "    print(a1, end=\" \")"
   ]
  },
  {
   "cell_type": "code",
   "execution_count": null,
   "metadata": {},
   "outputs": [
    {
     "name": "stdout",
     "output_type": "stream",
     "text": [
      "성년 리스트 : 34 39 20 54 "
     ]
    }
   ],
   "source": [
    "ages = [34, 39, 20, 18, 13, 54]\n",
    "\n",
    "print(\"성년 리스트 :\", end=\" \")\n",
    "for a1 in filter(lambda n: n >= 19, ages):\n",
    "    print(a1, end=\" \")"
   ]
  },
  {
   "cell_type": "code",
   "execution_count": null,
   "metadata": {},
   "outputs": [
    {
     "name": "stdout",
     "output_type": "stream",
     "text": [
      "음수 리스트 : [-30, -5, -90, -36]\n"
     ]
    }
   ],
   "source": [
    "n_list = [-30, 45, -5, -90, 20, 53, 77, -36]\n",
    "minus_list = []\n",
    "\n",
    "\n",
    "def minus_func(n):\n",
    "    if n < 0:\n",
    "        return True\n",
    "    else:\n",
    "        return False\n",
    "\n",
    "\n",
    "for n in filter(minus_func, n_list):\n",
    "    minus_list.append(n)\n",
    "\n",
    "print(f\"음수 리스트 : {minus_list}\")"
   ]
  },
  {
   "cell_type": "code",
   "execution_count": 53,
   "metadata": {},
   "outputs": [
    {
     "name": "stdout",
     "output_type": "stream",
     "text": [
      "음수 리스트 : [-30, -5, -90, -36]\n"
     ]
    }
   ],
   "source": [
    "n_list = [-30, 45, -5, -90, 20, 53, 77, -36]\n",
    "minus_list = []\n",
    "\n",
    "\n",
    "for n in filter(lambda n: n < 0, n_list):\n",
    "    minus_list.append(n)\n",
    "\n",
    "print(f\"음수 리스트 : {minus_list}\")"
   ]
  },
  {
   "cell_type": "code",
   "execution_count": 11,
   "metadata": {},
   "outputs": [
    {
     "name": "stdout",
     "output_type": "stream",
     "text": [
      "1) even_list = [2, 4, 6, 8, 10]\n",
      "even_list = []\n",
      "2) even_list = [2, 4, 6, 8, 10]\n"
     ]
    }
   ],
   "source": [
    "n_list = [1, 2, 3, 4, 5, 6, 7, 8, 9, 10]\n",
    "even_list = []\n",
    "\n",
    "\n",
    "for n in filter(lambda n: n % 2 == 0, n_list):\n",
    "    even_list.append(n)\n",
    "\n",
    "print(f\"1) even_list = {even_list}\")\n",
    "\n",
    "even_list.clear()\n",
    "\n",
    "print(f\"even_list = {even_list}\")\n",
    "\n",
    "even_list = list(filter(lambda n: n % 2 == 0, n_list))\n",
    "\n",
    "print(f\"2) even_list = {even_list}\")"
   ]
  },
  {
   "cell_type": "code",
   "execution_count": 10,
   "metadata": {},
   "outputs": [
    {
     "name": "stdout",
     "output_type": "stream",
     "text": [
      "1) odd_list = [1, 3, 5, 7, 9]\n",
      "odd_list = []\n",
      "2) odd_list = [1, 3, 5, 7, 9]\n"
     ]
    }
   ],
   "source": [
    "n_list = [1, 2, 3, 4, 5, 6, 7, 8, 9, 10]\n",
    "odd_list = []\n",
    "\n",
    "for n in filter(lambda n: n % 2 != 0, n_list):\n",
    "    odd_list.append(n)\n",
    "\n",
    "print(f\"1) odd_list = {odd_list}\")\n",
    "\n",
    "odd_list.clear()\n",
    "\n",
    "print(f\"odd_list = {odd_list}\")\n",
    "\n",
    "odd_list = list(filter(lambda n: n % 2 != 0, n_list))\n",
    "\n",
    "print(f\"2) odd_list = {odd_list}\")\n"
   ]
  },
  {
   "cell_type": "code",
   "execution_count": null,
   "metadata": {},
   "outputs": [
    {
     "name": "stdout",
     "output_type": "stream",
     "text": [
      "[1, 4, 9, 16, 25, 36, 49]\n"
     ]
    }
   ],
   "source": [
    "a1 = [1, 2, 3, 4, 5, 6, 7]\n",
    "square_a = []\n",
    "\n",
    "for n in a1:\n",
    "    square_a.append(n**2)\n",
    "\n",
    "print(square_a)"
   ]
  },
  {
   "cell_type": "code",
   "execution_count": null,
   "metadata": {},
   "outputs": [
    {
     "name": "stdout",
     "output_type": "stream",
     "text": [
      "[1, 4, 9, 16, 25, 36, 49]\n"
     ]
    }
   ],
   "source": [
    "def square(x):\n",
    "    return x**2\n",
    "\n",
    "\n",
    "a1 = [1, 2, 3, 4, 5, 6, 7]\n",
    "\n",
    "square_a = list(map(square, a1))\n",
    "\n",
    "print(square_a)\n"
   ]
  },
  {
   "cell_type": "code",
   "execution_count": null,
   "metadata": {},
   "outputs": [
    {
     "name": "stdout",
     "output_type": "stream",
     "text": [
      "[1, 4, 9, 16, 25, 36, 49]\n"
     ]
    }
   ],
   "source": [
    "a1 = [1, 2, 3, 4, 5, 6, 7]\n",
    "\n",
    "square_a = list(map(lambda x: x**2, a1))\n",
    "\n",
    "print(square_a)"
   ]
  },
  {
   "cell_type": "code",
   "execution_count": null,
   "metadata": {},
   "outputs": [
    {
     "name": "stdout",
     "output_type": "stream",
     "text": [
      "['A', 'B', 'C', 'D']\n"
     ]
    }
   ],
   "source": [
    "a_list = [\"a\", \"b\", \"c\", \"d\"]\n",
    "\n",
    "\n",
    "def to_upper(x):\n",
    "    return x.upper()\n",
    "\n",
    "\n",
    "upper_a_list = list(map(to_upper, a_list))\n",
    "print(upper_a_list)"
   ]
  },
  {
   "cell_type": "code",
   "execution_count": 7,
   "metadata": {},
   "outputs": [
    {
     "name": "stdout",
     "output_type": "stream",
     "text": [
      "['A', 'B', 'C', 'D']\n"
     ]
    }
   ],
   "source": [
    "a_list = [\"a\", \"b\", \"c\", \"d\"]\n",
    "\n",
    "upper_a_list = list(map(lambda x: x.upper(), a_list))\n",
    "print(upper_a_list)"
   ]
  },
  {
   "cell_type": "code",
   "execution_count": 13,
   "metadata": {},
   "outputs": [
    {
     "name": "stdout",
     "output_type": "stream",
     "text": [
      "입력 값의 두 배 : [20, 40, 60]\n",
      "입력 값의 세 배 : [30, 60, 90]\n"
     ]
    }
   ],
   "source": [
    "n_list = [10, 20, 30]\n",
    "\n",
    "\n",
    "def twice(x):\n",
    "    return x * 2\n",
    "\n",
    "\n",
    "def triple(x):\n",
    "    return x * 3\n",
    "\n",
    "\n",
    "print(f\"입력 값의 두 배 : {list(map(twice, n_list))}\")\n",
    "print(f\"입력 값의 세 배 : {list(map(triple, n_list))}\")"
   ]
  },
  {
   "cell_type": "code",
   "execution_count": 14,
   "metadata": {},
   "outputs": [
    {
     "name": "stdout",
     "output_type": "stream",
     "text": [
      "입력 값의 두 배 : [20, 40, 60]\n",
      "입력 값의 세 배 : [30, 60, 90]\n"
     ]
    }
   ],
   "source": [
    "n_list = [10, 20, 30]\n",
    "\n",
    "print(f\"입력 값의 두 배 : {list(map(lambda x: x * 2, n_list))}\")\n",
    "print(f\"입력 값의 세 배 : {list(map(lambda x: x * 3, n_list))}\")"
   ]
  },
  {
   "cell_type": "code",
   "execution_count": 2,
   "metadata": {},
   "outputs": [
    {
     "name": "stdout",
     "output_type": "stream",
     "text": [
      "A 가\n",
      "B 나\n",
      "C 다\n",
      "D 라\n"
     ]
    }
   ],
   "source": [
    "L1 = [\"A\", \"B\", \"C\", \"D\"]\n",
    "L2 = [\"가\", \"나\", \"다\", \"라\"]\n",
    "\n",
    "for i, j in zip(L1, L2):\n",
    "    print(i, j)"
   ]
  },
  {
   "cell_type": "code",
   "execution_count": null,
   "metadata": {},
   "outputs": [
    {
     "name": "stdout",
     "output_type": "stream",
     "text": [
      "10\n"
     ]
    }
   ],
   "source": [
    "from functools import reduce\n",
    "\n",
    "a1 = [1, 2, 3, 4]\n",
    "\n",
    "n = reduce(lambda x, y: x + y, a1)\n",
    "\n",
    "print(n)"
   ]
  },
  {
   "cell_type": "code",
   "execution_count": 10,
   "metadata": {},
   "outputs": [
    {
     "name": "stdout",
     "output_type": "stream",
     "text": [
      "1부터 100까지의 합 = 5050\n"
     ]
    }
   ],
   "source": [
    "sum1 = reduce(lambda a, b: a + b, range(1, 101))\n",
    "print(f\"1부터 100까지의 합 = {sum1}\")"
   ]
  },
  {
   "cell_type": "code",
   "execution_count": 11,
   "metadata": {},
   "outputs": [
    {
     "name": "stdout",
     "output_type": "stream",
     "text": [
      "10! = 3628800\n"
     ]
    }
   ],
   "source": [
    "factorial1 = reduce(lambda x, y: x * y, range(1, 11))\n",
    "\n",
    "print(f\"10! = {factorial1}\")"
   ]
  },
  {
   "cell_type": "code",
   "execution_count": 3,
   "metadata": {},
   "outputs": [
    {
     "name": "stdout",
     "output_type": "stream",
     "text": [
      "[0, 1, 4, 9, 16, 25, 36, 49, 64, 81]\n"
     ]
    }
   ],
   "source": [
    "L3 = [i**2 for i in range(10)]\n",
    "\n",
    "print(L3)"
   ]
  },
  {
   "cell_type": "code",
   "execution_count": 8,
   "metadata": {},
   "outputs": [
    {
     "name": "stdout",
     "output_type": "stream",
     "text": [
      "[36, 64]\n",
      "[0, 1, 4, 9, 16, 5, 6, 7, 8, 9]\n"
     ]
    }
   ],
   "source": [
    "L4 = [i**2 for i in range(10) if i > 5 and i % 2 == 0]\n",
    "print(L4)\n",
    "\n",
    "L5 = [i**2 if i < 5 else i for i in range(10)]\n",
    "print(L5)"
   ]
  },
  {
   "cell_type": "code",
   "execution_count": null,
   "metadata": {},
   "outputs": [
    {
     "name": "stdout",
     "output_type": "stream",
     "text": [
      "[1, 4, 9, 16, 25, 36, 49]\n",
      "[1, 4, 9, 16, 25, 36, 49]\n"
     ]
    }
   ],
   "source": [
    "a1 = [1, 2, 3, 4, 5, 6, 7]\n",
    "list1 = [x**2 for x in a1]\n",
    "print(list1)\n",
    "\n",
    "list2 = [x**2 for x in range(1, 8)]\n",
    "print(list2)"
   ]
  },
  {
   "cell_type": "code",
   "execution_count": 10,
   "metadata": {},
   "outputs": [
    {
     "name": "stdout",
     "output_type": "stream",
     "text": [
      "['H', 'E', 'L', 'L', 'O', ' ', 'W', 'O', 'R', 'L', 'D']\n"
     ]
    }
   ],
   "source": [
    "st = \"Hello World\"\n",
    "s_list = [x.upper() for x in st]\n",
    "print(s_list)"
   ]
  },
  {
   "cell_type": "code",
   "execution_count": 22,
   "metadata": {},
   "outputs": [
    {
     "name": "stdout",
     "output_type": "stream",
     "text": [
      "(0, 7, 6, 9, 2, 3)\n"
     ]
    }
   ],
   "source": [
    "data = [0, 7, 6, 9, 2, 3]\n",
    "\n",
    "T = tuple(i for i in data)\n",
    "print(T)"
   ]
  },
  {
   "cell_type": "code",
   "execution_count": 25,
   "metadata": {},
   "outputs": [
    {
     "name": "stdout",
     "output_type": "stream",
     "text": [
      "{'A', 'Y', 'N', 'D', 'H', 'U', 'E'}\n",
      "{'A', 'Y', 'N', 'D', 'H', 'U', 'E'}\n"
     ]
    }
   ],
   "source": [
    "text = \"YUNDAEHEE\"\n",
    "\n",
    "S1 = set(i for i in text)\n",
    "print(S1)\n",
    "\n",
    "S2 = set([i for i in text])\n",
    "print(S2)"
   ]
  },
  {
   "cell_type": "code",
   "execution_count": null,
   "metadata": {},
   "outputs": [
    {
     "name": "stdout",
     "output_type": "stream",
     "text": [
      "성년 리스트 : [34, 39, 20, 54]\n",
      "성년 리스트 : [34, 39, 20, 54]\n"
     ]
    }
   ],
   "source": [
    "ages = [34, 39, 20, 18, 13, 54]\n",
    "\n",
    "adult_ages = list(filter(lambda n: n >= 19, ages))\n",
    "print(f\"성년 리스트 : {adult_ages}\")\n",
    "\n",
    "print(f\"성년 리스트 : {[n for n in ages if n >= 19]}\")"
   ]
  },
  {
   "cell_type": "code",
   "execution_count": 29,
   "metadata": {},
   "outputs": [
    {
     "name": "stdout",
     "output_type": "stream",
     "text": [
      "음수 리스트 : [-30, -5, -90, -36]\n",
      "음수 리스트 : [-30, -5, -90, -36]\n"
     ]
    }
   ],
   "source": [
    "n_list = [-30, 45, -5, -90, 20, 53, 77, -36]\n",
    "minus_list = list(filter(lambda n: n < 0, n_list))\n",
    "print(f\"음수 리스트 : {minus_list}\")\n",
    "\n",
    "minus_list2 = [n for n in n_list if n < 0]\n",
    "print(f\"음수 리스트 : {minus_list2}\")"
   ]
  },
  {
   "cell_type": "code",
   "execution_count": null,
   "metadata": {},
   "outputs": [],
   "source": []
  }
 ],
 "metadata": {
  "kernelspec": {
   "display_name": "base",
   "language": "python",
   "name": "python3"
  },
  "language_info": {
   "codemirror_mode": {
    "name": "ipython",
    "version": 3
   },
   "file_extension": ".py",
   "mimetype": "text/x-python",
   "name": "python",
   "nbconvert_exporter": "python",
   "pygments_lexer": "ipython3",
   "version": "3.12.7"
  }
 },
 "nbformat": 4,
 "nbformat_minor": 2
}

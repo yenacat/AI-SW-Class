{
 "cells": [
  {
   "cell_type": "code",
   "execution_count": 2,
   "metadata": {},
   "outputs": [
    {
     "name": "stdout",
     "output_type": "stream",
     "text": [
      "set()\n",
      "{1, 2, 3, 4}\n",
      "{1, 2, 3, 4}\n",
      "{1, 2, 3, 4}\n",
      "<class 'set'>\n",
      "<class 'set'>\n",
      "<class 'set'>\n",
      "<class 'set'>\n"
     ]
    }
   ],
   "source": [
    "set0 = set()\n",
    "set1 = {1, 2, 3, 4}\n",
    "\n",
    "n_tuple = (1, 2, 3, 4)\n",
    "set2 = set(n_tuple)\n",
    "\n",
    "n_list = [1, 2, 3, 4]\n",
    "set3 = set(n_list)\n",
    "\n",
    "print(set0)  # set()\n",
    "print(set1)  # {1, 2, 3, 4}\n",
    "print(set2)  # {1, 2, 3, 4}\n",
    "print(set3)  # {1, 2, 3, 4}\n",
    "print(type(set0))  # <class 'set'>\n",
    "print(type(set1))  # <class 'set'>\n",
    "print(type(set2))  # <class 'set'>\n",
    "print(type(set3))  # <class 'set'>\n"
   ]
  },
  {
   "cell_type": "code",
   "execution_count": null,
   "metadata": {},
   "outputs": [
    {
     "name": "stdout",
     "output_type": "stream",
     "text": [
      "{'Mon', 'Fri', 'Sat', 'Thu', 'Sun', 'Tue', 'Wed'}\n",
      "{'cherry', 'banana', 'apple'}\n"
     ]
    }
   ],
   "source": [
    "days_list = [\"Mon\", \"Tue\", \"Wed\", \"Thu\", \"Fri\", \"Sat\", \"Sun\"]\n",
    "days_set = set(days_list)\n",
    "\n",
    "print(days_set)  # {'Mon', 'Fri', 'Sat', 'Thu', 'Sun', 'Tue', 'Wed'} -- order may vary\n",
    "\n",
    "fruits_tuple = (\"apple\", \"banana\", \"cherry\")\n",
    "fruits_set = set(fruits_tuple)\n",
    "print(fruits_set)  # {'cherry', 'banana', 'apple'}"
   ]
  },
  {
   "cell_type": "code",
   "execution_count": null,
   "metadata": {},
   "outputs": [],
   "source": [
    "s1 = {1, 2, 3, 4, 5, 6}\n",
    "s2 = {4, 5, 6, 7, 8, 9}\n",
    "\n",
    "s1 & s2  # {4, 5, 6}\n",
    "s1.intersection(s2)  # {4, 5, 6}\n",
    "\n",
    "s1 | s2  # {1, 2, 3, 4, 5, 6, 7, 8, 9}\n",
    "s1.union(s2)  # {1, 2, 3, 4, 5, 6, 7, 8, 9}\n",
    "\n",
    "s1 - s2  # {1, 2, 3}\n",
    "s1.difference(s2)  # {1, 2, 3}\n",
    "\n",
    "s1.add(7)  # {1, 2, 3, 4, 5, 6, 7}\n",
    "s1.discard(7)  # {1, 2, 3, 4, 5, 6}"
   ]
  },
  {
   "cell_type": "code",
   "execution_count": null,
   "metadata": {},
   "outputs": [
    {
     "name": "stdout",
     "output_type": "stream",
     "text": [
      "{1, 2, 3, 4, 5}\n",
      "{'b', 'a'}\n",
      "<class 'dict'>\n",
      "<class 'set'>\n"
     ]
    }
   ],
   "source": [
    "a = [1, 1, 1, 2, 2, 3, 3, 3, 4, 4, 5]\n",
    "\n",
    "b = set(a)  # {1, 2, 3, 4, 5}\n",
    "print(b)  # {1, 2, 3, 4, 5}\n",
    "\n",
    "s1 = set([\"a\", \"b\", \"c\", \"d\", \"e\"])\n",
    "s2 = set([\"c\", \"d\", \"e\", \"f\", \"g\"])\n",
    "\n",
    "s1 - s2  # {'a', 'b'}\n",
    "print(s1 - s2)  # {'a', 'b'}\n",
    "\n",
    "a = {}\n",
    "print(type(a))  # <class 'dict'>\n",
    "\n",
    "a = set()\n",
    "print(type(a))  # <class 'set'>"
   ]
  },
  {
   "cell_type": "code",
   "execution_count": null,
   "metadata": {},
   "outputs": [
    {
     "data": {
      "text/plain": [
       "False"
      ]
     },
     "execution_count": 29,
     "metadata": {},
     "output_type": "execute_result"
    }
   ],
   "source": [
    "bool(\" \")  # True\n",
    "bool(1)  # True\n",
    "bool(0)  # False\n",
    "bool(412)  # True\n",
    "bool([])  # False\n",
    "bool(None)  # False\n",
    "bool({})  # False\n",
    "bool(set())  # False"
   ]
  },
  {
   "cell_type": "code",
   "execution_count": null,
   "metadata": {},
   "outputs": [
    {
     "data": {
      "text/plain": [
       "True"
      ]
     },
     "execution_count": 35,
     "metadata": {},
     "output_type": "execute_result"
    }
   ],
   "source": [
    "1 != 1  # False\n",
    "3 > 1  # True\n",
    "\"a\" in \"abc\"  # True\n",
    "\"a\" not in [1, 2, 3]  # True\n",
    "\"길동\" in \"홍길동\"  # True"
   ]
  },
  {
   "cell_type": "code",
   "execution_count": null,
   "metadata": {},
   "outputs": [
    {
     "data": {
      "text/plain": [
       "False"
      ]
     },
     "execution_count": 40,
     "metadata": {},
     "output_type": "execute_result"
    }
   ],
   "source": [
    "a = \"python\"\n",
    "b = \"\"\n",
    "c = (1, 2, 3)\n",
    "d = 0\n",
    "\n",
    "bool(a)  # True\n",
    "bool(b)  # False\n",
    "bool(c)  # True\n",
    "bool(d)  # False"
   ]
  },
  {
   "cell_type": "code",
   "execution_count": 47,
   "metadata": {},
   "outputs": [
    {
     "name": "stdout",
     "output_type": "stream",
     "text": [
      "[1, 2, 3]\n",
      "[1, 2, 3]\n",
      "[4, 2, 3]\n",
      "[4, 2, 3]\n",
      "[1, 2, 3]\n",
      "[1, 2, 3]\n",
      "[4, 2, 3]\n",
      "[1, 2, 3]\n",
      "[1, 2, 3]\n",
      "[1, 2, 3]\n",
      "[1, 2, 3]\n",
      "[4, 2, 3]\n"
     ]
    }
   ],
   "source": [
    "a = [1, 2, 3]\n",
    "\n",
    "b = a\n",
    "\n",
    "print(a)  # [1, 2, 3]\n",
    "print(b)  # [1, 2, 3]\n",
    "\n",
    "a[0] = 4\n",
    "print(a)  # [4, 2, 3]\n",
    "print(b)  # [4, 2, 3]\n",
    "\n",
    "a = [1, 2, 3]\n",
    "\n",
    "b = a.copy()\n",
    "print(a)  # [1, 2, 3]\n",
    "print(b)  # [1, 2, 3]\n",
    "\n",
    "a[0] = 4\n",
    "print(a)  # [4, 2, 3]\n",
    "print(b)  # [1, 2, 3]\n",
    "\n",
    "a = [1, 2, 3]\n",
    "b = a.copy()\n",
    "print(a)  # [1, 2, 3]\n",
    "print(b)  # [1, 2, 3]\n",
    "\n",
    "b[0] = 4\n",
    "print(a)  # [1, 2, 3]\n",
    "print(b)  # [4, 2, 3]\n"
   ]
  },
  {
   "cell_type": "code",
   "execution_count": null,
   "metadata": {},
   "outputs": [
    {
     "name": "stdout",
     "output_type": "stream",
     "text": [
      "[[1, 2], [3, 4]]\n",
      "[[1, 2], [3, 4]]\n",
      "[[99, 2], [3, 4]]\n"
     ]
    }
   ],
   "source": [
    "original = [[1, 2], [3, 4]]\n",
    "shallow = original.copy()\n",
    "\n",
    "# 복사 후 상태\n",
    "print(original)  # [[1, 2], [3, 4]]\n",
    "print(shallow)  # [[1, 2], [3, 4]]\n",
    "\n",
    "shallow[0][0] = 99\n",
    "print(original)  # [[99, 2], [3, 4]]  <- 원본도 바뀜!"
   ]
  },
  {
   "cell_type": "code",
   "execution_count": null,
   "metadata": {},
   "outputs": [
    {
     "name": "stdout",
     "output_type": "stream",
     "text": [
      "1728372295104\n",
      "1728358513152\n"
     ]
    }
   ],
   "source": [
    "a = [1, 2, 3]\n",
    "b = [1, 2, 3]\n",
    "a is b  # False\n",
    "id(a) != id(b)  # True\n",
    "\n",
    "print(id(a))\n",
    "print(id(b))"
   ]
  },
  {
   "cell_type": "code",
   "execution_count": null,
   "metadata": {},
   "outputs": [
    {
     "name": "stdout",
     "output_type": "stream",
     "text": [
      "정수가 아닙니다. 정수를 입력하세요.\n",
      "n = 30\n",
      "30은(는) 짝수입니다.\n"
     ]
    }
   ],
   "source": [
    "str1 = input(\"정수를 입력하세요:\")\n",
    "\n",
    "while str1.isdigit() == False:  # noqa: E712\n",
    "    print(\"정수가 아닙니다. 정수를 입력하세요.\")\n",
    "    str1 = input(\"정수를 입력하세요:\")\n",
    "\n",
    "print(\"n =\", str1)\n",
    "num = int(str1)\n",
    "\n",
    "if num % 2 == 0:\n",
    "    print(f\"{num}은(는) 짝수입니다.\")\n",
    "else:\n",
    "    print(f\"{num}은(는) 홀수입니다.\")"
   ]
  },
  {
   "cell_type": "code",
   "execution_count": 19,
   "metadata": {},
   "outputs": [
    {
     "name": "stdout",
     "output_type": "stream",
     "text": [
      "정수가 아닙니다. 다시 입력하세요.\n",
      "n = -4\n",
      "-4은(는) 짝수입니다.\n"
     ]
    }
   ],
   "source": [
    "while True:\n",
    "    user_input = input(\"정수를 입력하세요: \")\n",
    "    try:\n",
    "        num = int(user_input)\n",
    "        break\n",
    "    except ValueError:\n",
    "        print(\"정수가 아닙니다. 다시 입력하세요.\")\n",
    "\n",
    "print(\"n =\", num)\n",
    "\n",
    "if num % 2 == 0:\n",
    "    print(f\"{num}은(는) 짝수입니다.\")\n",
    "else:\n",
    "    print(f\"{num}은(는) 홀수입니다.\")"
   ]
  },
  {
   "cell_type": "code",
   "execution_count": 29,
   "metadata": {},
   "outputs": [
    {
     "name": "stdout",
     "output_type": "stream",
     "text": [
      "100은(는) 짝수입니다.\n"
     ]
    }
   ],
   "source": [
    "num = 100\n",
    "if num < 0:\n",
    "    print(f\"{num}은(는) 음수입니다.\")\n",
    "elif num == 0:\n",
    "    print(\"0입니다.\")\n",
    "else:\n",
    "    if num % 2 == 0:\n",
    "        print(f\"{num}은(는) 짝수입니다.\")\n",
    "    else:\n",
    "        print(f\"{num}은(는) 홀수입니다.\")"
   ]
  },
  {
   "cell_type": "code",
   "execution_count": 34,
   "metadata": {},
   "outputs": [
    {
     "name": "stdout",
     "output_type": "stream",
     "text": [
      "청소년입니다.\n"
     ]
    }
   ],
   "source": [
    "age = 12\n",
    "\n",
    "if 10 < age < 19:\n",
    "    print(\"청소년입니다.\")"
   ]
  },
  {
   "cell_type": "code",
   "execution_count": null,
   "metadata": {},
   "outputs": [
    {
     "name": "stdout",
     "output_type": "stream",
     "text": [
      "당신의 등급은 A입니다.\n"
     ]
    }
   ],
   "source": [
    "score = int(input(\"점수를 입력하세요: \"))\n",
    "if score >= 90:\n",
    "    grade = \"A\"\n",
    "elif score >= 80:\n",
    "    grade = \"B\"\n",
    "elif score >= 70:\n",
    "    grade = \"C\"\n",
    "elif score >= 60:\n",
    "    grade = \"D\"\n",
    "else:\n",
    "    grade = \"F\"\n",
    "\n",
    "print(f\"당신의 등급은 {grade}입니다.\")"
   ]
  },
  {
   "cell_type": "code",
   "execution_count": null,
   "metadata": {},
   "outputs": [
    {
     "name": "stdout",
     "output_type": "stream",
     "text": [
      "당신의 자동차는 저속 주행 중입니다.\n"
     ]
    }
   ],
   "source": [
    "speed = int(input(\"당신의 자동차의 속도(km/h)는 얼마입니까?\"))\n",
    "\n",
    "if speed >= 100:\n",
    "    ret = \"고속\"\n",
    "elif speed >= 60:\n",
    "    ret = \"중속\"\n",
    "else:\n",
    "    ret = \"저속\"\n",
    "\n",
    "print(f\"당신의 자동차는 {ret} 주행 중입니다.\")"
   ]
  },
  {
   "cell_type": "code",
   "execution_count": null,
   "metadata": {},
   "outputs": [
    {
     "name": "stdout",
     "output_type": "stream",
     "text": [
      "택시를 탈 수 있습니다.\n"
     ]
    }
   ],
   "source": [
    "money = 5000\n",
    "card = False\n",
    "\n",
    "if card == True or money >= 4000:  # noqa: E712\n",
    "    print(\"택시를 탈 수 있습니다.\")\n",
    "else:\n",
    "    print(\"택시를 탈 수 없습니다.\")"
   ]
  },
  {
   "cell_type": "code",
   "execution_count": null,
   "metadata": {},
   "outputs": [
    {
     "name": "stdout",
     "output_type": "stream",
     "text": [
      "P\n",
      "r\n",
      "g\n",
      "r\n",
      "m\n",
      "m\n",
      "n\n",
      "g\n",
      "The end\n"
     ]
    }
   ],
   "source": [
    "st = \"Programming\"\n",
    "\n",
    "for ch in st:\n",
    "    if ch in [\"a\", \"e\", \"i\", \"o\", \"u\"]:\n",
    "        continue\n",
    "    print(ch)\n",
    "\n",
    "print(\"The end\")"
   ]
  },
  {
   "cell_type": "code",
   "execution_count": 13,
   "metadata": {},
   "outputs": [
    {
     "name": "stdout",
     "output_type": "stream",
     "text": [
      "나무를 1번 찍었습니다.\n",
      "나무를 2번 찍었습니다.\n",
      "나무를 3번 찍었습니다.\n",
      "나무를 4번 찍었습니다.\n",
      "나무를 5번 찍었습니다.\n",
      "나무를 6번 찍었습니다.\n",
      "나무를 7번 찍었습니다.\n",
      "나무를 8번 찍었습니다.\n",
      "나무를 9번 찍었습니다.\n",
      "나무를 10번 찍었습니다.\n",
      "나무가 넘어갑니다.\n"
     ]
    }
   ],
   "source": [
    "tree_hit = 0\n",
    "while tree_hit < 10:\n",
    "    tree_hit = tree_hit + 1\n",
    "    print(f\"나무를 {tree_hit}번 찍었습니다.\")\n",
    "    if tree_hit == 10:\n",
    "        print(\"나무가 넘어갑니다.\")"
   ]
  },
  {
   "cell_type": "code",
   "execution_count": 17,
   "metadata": {},
   "outputs": [
    {
     "name": "stdout",
     "output_type": "stream",
     "text": [
      "\n",
      "1. Add\n",
      "2. Del\n",
      "3. List\n",
      "4. Quit\n",
      "\n",
      "Enter number: \n",
      "\n",
      "1. Add\n",
      "2. Del\n",
      "3. List\n",
      "4. Quit\n",
      "\n",
      "Enter number: \n"
     ]
    }
   ],
   "source": [
    "prompt = \"\"\"\n",
    "1. Add\n",
    "2. Del\n",
    "3. List\n",
    "4. Quit\n",
    "\n",
    "Enter number: \"\"\"\n",
    "number = 0\n",
    "while number != 4:\n",
    "    print(prompt)\n",
    "    number = int(input())\n"
   ]
  },
  {
   "cell_type": "code",
   "execution_count": null,
   "metadata": {},
   "outputs": [
    {
     "name": "stdout",
     "output_type": "stream",
     "text": [
      "커피 한 잔과 거스름돈 900원을 드리겠습니다.\n",
      "커피 한 잔과 거스름돈 600원을 드리겠습니다.\n",
      "커피 한 잔과 거스름돈 300원을 드리겠습니다.\n",
      "커피가 다 떨어졌습니다. 자판기를 중지합니다.\n"
     ]
    }
   ],
   "source": [
    "\"\"\"\n",
    "커피의 초기값은 3이다.\n",
    "커피 한 잔 값은 300원이다.\n",
    "300원보다 많이 넣으면 커피를 주고 거스름돈을 준다.\n",
    "300원보다 적은 돈을 입력하면 돈을 다시 돌려주고 커피를 주지 않는다.\n",
    "    남은 커피를 출력한다.\n",
    "커피가 다 떨어지면 자판기는 중지한다.\n",
    "\"\"\"\n",
    "\n",
    "coffee = 3\n",
    "\n",
    "while True:\n",
    "    money = int(input(\"돈을 넣어주세요: \"))\n",
    "\n",
    "    if money == 300 and coffee > 0:\n",
    "        coffee -= 1\n",
    "        print(\"커피 한 잔을 드리겠습니다.\")\n",
    "    elif money > 300 and coffee > 0:\n",
    "        coffee -= 1\n",
    "        change = money - 300\n",
    "        print(f\"커피 한 잔과 거스름돈 {change}원을 드리겠습니다.\")\n",
    "    else:\n",
    "        print(\"돈을 다시 돌려드립니다. 커피를 드릴 수 없습니다.\")\n",
    "        print(f\"남은 커피는 {coffee}잔입니다.\")\n",
    "    if coffee == 0:\n",
    "        print(\"커피가 다 떨어졌습니다. 자판기를 중지합니다.\")\n",
    "        break"
   ]
  },
  {
   "cell_type": "code",
   "execution_count": null,
   "metadata": {},
   "outputs": [
    {
     "name": "stdout",
     "output_type": "stream",
     "text": [
      "1부터 100까지의 합은 5050입니다.\n",
      "1부터 100까지의 합은 5050입니다.\n"
     ]
    }
   ],
   "source": [
    "\"\"\"\n",
    "1부터 100까지 자연수를 모두 더하고 그 결과를 출력하세요. (1, 2, 3, ..., 100)\n",
    "\"\"\"\n",
    "\n",
    "sum1 = 0\n",
    "for i in range(1, 101):\n",
    "    sum1 += i\n",
    "print(f\"1부터 100까지의 합은 {sum1}입니다.\")\n",
    "\n",
    "sum2 = 0\n",
    "n = 100\n",
    "sum2 = n * (n + 1) // 2\n",
    "print(f\"1부터 100까지의 합은 {sum2}입니다.\")"
   ]
  },
  {
   "cell_type": "code",
   "execution_count": null,
   "metadata": {},
   "outputs": [
    {
     "name": "stdout",
     "output_type": "stream",
     "text": [
      "1부터 100까지의 자연수 중에서 3의 배수의 합은 1683입니다.\n",
      "1부터 100까지의 자연수 중에서 3의 배수의 합은 1683입니다.\n"
     ]
    }
   ],
   "source": [
    "\"\"\"\n",
    "1부터 100까지의 자연수 중에서 3의 배수의 합을 구하세요. (3, 6, 9, ..., 99)\n",
    "\"\"\"\n",
    "\n",
    "sum3 = 0\n",
    "for i in range(1, 101):\n",
    "    if i % 3 == 0:\n",
    "        sum3 += i\n",
    "print(f\"1부터 100까지의 자연수 중에서 3의 배수의 합은 {sum3}입니다.\")\n",
    "\n",
    "sum4 = 0\n",
    "for i in range(3, 101, 3):\n",
    "    sum4 += i\n",
    "print(f\"1부터 100까지의 자연수 중에서 3의 배수의 합은 {sum4}입니다.\")"
   ]
  },
  {
   "cell_type": "code",
   "execution_count": 35,
   "metadata": {},
   "outputs": [
    {
     "name": "stdout",
     "output_type": "stream",
     "text": [
      "A반 학생들의 점수 중 50점 이상인 학생의 점수의 총합은 440입니다.\n"
     ]
    }
   ],
   "source": [
    "\"\"\"\n",
    "A반 학생들의 점수 리스트에서 50점 이상인 학생의 점수의 총합을 구해보세요.\n",
    "\"\"\"\n",
    "\n",
    "A = [23, 50, 100, 45, 67, 89, 12, 34, 56, 78]\n",
    "\n",
    "sum5 = 0\n",
    "for score in A:\n",
    "    if score >= 50:\n",
    "        sum5 += score\n",
    "print(f\"A반 학생들의 점수 중 50점 이상인 학생의 점수의 총합은 {sum5}입니다.\")"
   ]
  },
  {
   "cell_type": "code",
   "execution_count": 44,
   "metadata": {},
   "outputs": [
    {
     "name": "stdout",
     "output_type": "stream",
     "text": [
      "\n",
      "*\n",
      "**\n",
      "***\n",
      "****\n"
     ]
    }
   ],
   "source": [
    "\"\"\"\n",
    "while문을 이용하여 아래와 같이 별(*)을 표시하는 프로그램을 작성해보세요.\n",
    "*\n",
    "**\n",
    "***\n",
    "****\n",
    "\"\"\"\n",
    "star = 0\n",
    "while True:\n",
    "    if star < 5:\n",
    "        print(\"*\" * star)\n",
    "        star += 1\n",
    "    else:\n",
    "        break"
   ]
  },
  {
   "cell_type": "code",
   "execution_count": null,
   "metadata": {},
   "outputs": [],
   "source": [
    "summer_fruits = [\"수박\", \"참외\", \"체리\", \"포도\"]\n"
   ]
  },
  {
   "cell_type": "code",
   "execution_count": null,
   "metadata": {},
   "outputs": [
    {
     "name": "stdout",
     "output_type": "stream",
     "text": [
      "2x1= 2 2x2= 4 2x3= 6 2x4= 8 2x5=10 2x6=12 2x7=14 2x8=16 2x9=18 \n",
      "3x1= 3 3x2= 6 3x3= 9 3x4=12 3x5=15 3x6=18 3x7=21 3x8=24 3x9=27 \n",
      "4x1= 4 4x2= 8 4x3=12 4x4=16 4x5=20 4x6=24 4x7=28 4x8=32 4x9=36 \n",
      "5x1= 5 5x2=10 5x3=15 5x4=20 5x5=25 5x6=30 5x7=35 5x8=40 5x9=45 \n",
      "6x1= 6 6x2=12 6x3=18 6x4=24 6x5=30 6x6=36 6x7=42 6x8=48 6x9=54 \n",
      "7x1= 7 7x2=14 7x3=21 7x4=28 7x5=35 7x6=42 7x7=49 7x8=56 7x9=63 \n",
      "8x1= 8 8x2=16 8x3=24 8x4=32 8x5=40 8x6=48 8x7=56 8x8=64 8x9=72 \n",
      "9x1= 9 9x2=18 9x3=27 9x4=36 9x5=45 9x6=54 9x7=63 9x8=72 9x9=81 \n"
     ]
    }
   ],
   "source": [
    "for i in range(2, 10):\n",
    "    for j in range(1, 10):\n",
    "        print(f\"{i}x{j}={i * j:2d}\", end=\" \")\n",
    "    print()"
   ]
  }
 ],
 "metadata": {
  "kernelspec": {
   "display_name": "base",
   "language": "python",
   "name": "python3"
  },
  "language_info": {
   "codemirror_mode": {
    "name": "ipython",
    "version": 3
   },
   "file_extension": ".py",
   "mimetype": "text/x-python",
   "name": "python",
   "nbconvert_exporter": "python",
   "pygments_lexer": "ipython3",
   "version": "3.12.7"
  }
 },
 "nbformat": 4,
 "nbformat_minor": 2
}

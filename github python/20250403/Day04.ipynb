{
 "cells": [
  {
   "cell_type": "code",
   "execution_count": null,
   "metadata": {},
   "outputs": [],
   "source": [
    "list1 = list(range(1, 101))  # 1부터 100까지의 정수 리스트\n",
    "\n",
    "list2 = list(range(2, 101, 2))  # 2부터 100까지의 짝수 리스트\n",
    "\n",
    "list3 = list(range(1, 100, 2))  # 1부터 99까지의 홀수 리스트\n",
    "\n",
    "list4 = list(range(-99, 0))  # -99부터 -1까지의 정수 리스트"
   ]
  },
  {
   "cell_type": "code",
   "execution_count": 2,
   "metadata": {},
   "outputs": [
    {
     "data": {
      "text/plain": [
       "array([0. , 0.5, 1. , 1.5, 2. , 2.5, 3. , 3.5, 4. , 4.5, 5. , 5.5, 6. ,\n",
       "       6.5, 7. , 7.5, 8. , 8.5, 9. , 9.5])"
      ]
     },
     "execution_count": 2,
     "metadata": {},
     "output_type": "execute_result"
    }
   ],
   "source": [
    "import numpy as np\n",
    "\n",
    "np.arange(0, 10, 0.5)"
   ]
  },
  {
   "cell_type": "code",
   "execution_count": null,
   "metadata": {},
   "outputs": [
    {
     "name": "stdout",
     "output_type": "stream",
     "text": [
      "2 3 4 \n",
      "\n",
      "0 2 4 6 8 \n",
      "\n",
      "-2 -4 -6 -8 "
     ]
    }
   ],
   "source": [
    "for i in range(2, 5):\n",
    "    print(i, end=\" \")\n",
    "\n",
    "print(\"\\n\")\n",
    "\n",
    "for i in range(0, 10, 2):\n",
    "    print(i, end=\" \")\n",
    "\n",
    "print(\"\\n\")\n",
    "\n",
    "for i in range(-2, -10, -2):\n",
    "    print(i, end=\" \")"
   ]
  },
  {
   "cell_type": "code",
   "execution_count": null,
   "metadata": {},
   "outputs": [
    {
     "name": "stdout",
     "output_type": "stream",
     "text": [
      "one\n",
      "two\n",
      "three\n",
      "3\n",
      "7\n",
      "11\n",
      "1번 학생은 합격입니다.\n",
      "2번 학생은 불합격입니다.\n",
      "3번 학생은 합격입니다.\n",
      "4번 학생은 불합격입니다.\n",
      "5번 학생은 합격입니다.\n"
     ]
    }
   ],
   "source": [
    "test_list = [\"one\", \"two\", \"three\"]\n",
    "for i in test_list:\n",
    "    print(i)\n",
    "\n",
    "A = [(1, 2), (3, 4), (5, 6)]\n",
    "for first, last in A:\n",
    "    print(first + last)\n",
    "\n",
    "marks = [90, 25, 67, 45, 80]\n",
    "number = 0\n",
    "for mark in marks:\n",
    "    number = number + 1\n",
    "    if mark >= 60:\n",
    "        print(f\"{number}번 학생은 합격입니다.\")\n",
    "    else:\n",
    "        print(f\"{number}번 학생은 불합격입니다.\")"
   ]
  },
  {
   "cell_type": "code",
   "execution_count": 17,
   "metadata": {},
   "outputs": [
    {
     "name": "stdout",
     "output_type": "stream",
     "text": [
      "1번 학생은 합격입니다.\n",
      "3번 학생은 합격입니다.\n",
      "5번 학생은 합격입니다.\n"
     ]
    }
   ],
   "source": [
    "marks = [90, 25, 67, 45, 80]\n",
    "number = 0\n",
    "for mark in marks:\n",
    "    number = number + 1\n",
    "    if mark < 60:\n",
    "        continue\n",
    "    print(f\"{number}번 학생은 합격입니다.\")"
   ]
  },
  {
   "cell_type": "code",
   "execution_count": null,
   "metadata": {},
   "outputs": [
    {
     "name": "stdout",
     "output_type": "stream",
     "text": [
      "1번 학생은 합격입니다.\n",
      "3번 학생은 합격입니다.\n",
      "5번 학생은 합격입니다.\n"
     ]
    }
   ],
   "source": [
    "marks = [90, 25, 67, 45, 80]\n",
    "number = 0\n",
    "for number in range(len(marks)):\n",
    "    if marks[number] < 60:\n",
    "        continue\n",
    "    print(f\"{number + 1}번 학생은 합격입니다.\")"
   ]
  },
  {
   "cell_type": "code",
   "execution_count": 27,
   "metadata": {},
   "outputs": [
    {
     "name": "stdout",
     "output_type": "stream",
     "text": [
      "2 4 6 8 10 12 14 16 18 \n",
      "3 6 9 12 15 18 21 24 27 \n",
      "4 8 12 16 20 24 28 32 36 \n",
      "5 10 15 20 25 30 35 40 45 \n",
      "6 12 18 24 30 36 42 48 54 \n",
      "7 14 21 28 35 42 49 56 63 \n",
      "8 16 24 32 40 48 56 64 72 \n",
      "9 18 27 36 45 54 63 72 81 \n"
     ]
    }
   ],
   "source": [
    "for i in range(2, 10):\n",
    "    for j in range(1, 10):\n",
    "        print(i * j, end=\" \")\n",
    "    print(\"\")  # 줄 바꿈"
   ]
  },
  {
   "cell_type": "code",
   "execution_count": 29,
   "metadata": {},
   "outputs": [
    {
     "name": "stdout",
     "output_type": "stream",
     "text": [
      "i = 0\n",
      "i = 1\n",
      "i = 2\n",
      "for문 종료\n",
      "j = 0\n",
      "j = 1\n"
     ]
    }
   ],
   "source": [
    "for i in range(3):\n",
    "    print(\"i =\", i)\n",
    "else:\n",
    "    print(\"for문 종료\")\n",
    "for j in range(3):\n",
    "    if j == 2:\n",
    "        break\n",
    "    print(\"j =\", j)\n",
    "else:\n",
    "    print(\"for문 종료\")\n"
   ]
  },
  {
   "cell_type": "code",
   "execution_count": null,
   "metadata": {},
   "outputs": [
    {
     "name": "stdout",
     "output_type": "stream",
     "text": [
      "0\n",
      "1\n",
      "2\n",
      "break\n",
      "0\n",
      "1\n",
      "2\n",
      "4\n",
      "continue\n"
     ]
    }
   ],
   "source": [
    "for i in range(5):\n",
    "    if i == 3:\n",
    "        break\n",
    "    print(i)\n",
    "print(\"break\")\n",
    "\n",
    "for i in range(5):\n",
    "    if i == 3:\n",
    "        continue\n",
    "    print(i)\n",
    "print(\"continue\")"
   ]
  },
  {
   "cell_type": "code",
   "execution_count": 33,
   "metadata": {},
   "outputs": [
    {
     "name": "stdout",
     "output_type": "stream",
     "text": [
      "1\n",
      "2\n",
      "break\n",
      "1\n",
      "2\n",
      "4\n",
      "5\n",
      "continue\n"
     ]
    }
   ],
   "source": [
    "i = 0\n",
    "while i < 5:\n",
    "    i += 1\n",
    "    if i == 3:\n",
    "        break\n",
    "    print(i)\n",
    "print(\"break\")\n",
    "\n",
    "i = 0\n",
    "while i < 5:\n",
    "    i += 1\n",
    "    if i == 3:\n",
    "        continue\n",
    "    print(i)\n",
    "print(\"continue\")\n"
   ]
  },
  {
   "cell_type": "code",
   "execution_count": 39,
   "metadata": {},
   "outputs": [
    {
     "name": "stdout",
     "output_type": "stream",
     "text": [
      "Hello, Python!\n",
      "Hello, Python!\n",
      "Hello, Python!\n",
      "Hello, Python!\n",
      "Hello, Python!\n"
     ]
    }
   ],
   "source": [
    "for _ in range(5):  # _는 사용하지 않는 변수\n",
    "    print(\"Hello, Python!\")"
   ]
  },
  {
   "cell_type": "code",
   "execution_count": 46,
   "metadata": {},
   "outputs": [
    {
     "name": "stdout",
     "output_type": "stream",
     "text": [
      "0 A\n",
      "1 B\n",
      "2 C\n",
      "0 A\n",
      "1 B\n",
      "2 C\n"
     ]
    }
   ],
   "source": [
    "names = [\"A\", \"B\", \"C\"]\n",
    "\n",
    "for x in range(len(names)):\n",
    "    print(x, names[x])\n",
    "\n",
    "for x, name in enumerate(names):\n",
    "    print(x, name)"
   ]
  },
  {
   "cell_type": "code",
   "execution_count": null,
   "metadata": {},
   "outputs": [
    {
     "name": "stdout",
     "output_type": "stream",
     "text": [
      "A 70\n",
      "B 80\n",
      "C 90\n",
      "0 ('A', 70)\n",
      "1 ('B', 80)\n",
      "2 ('C', 90)\n"
     ]
    }
   ],
   "source": [
    "names = [\"A\", \"B\", \"C\"]\n",
    "scores = [70, 80, 90]\n",
    "\n",
    "for name, score in zip(names, scores):\n",
    "    print(name, score)\n",
    "\n",
    "for name, score in enumerate(zip(names, scores)):\n",
    "    print(name, score)"
   ]
  },
  {
   "cell_type": "code",
   "execution_count": null,
   "metadata": {},
   "outputs": [
    {
     "name": "stdout",
     "output_type": "stream",
     "text": [
      "[3, 6, 9, 12]\n",
      "[3, 6, 9, 12]\n",
      "[3, 6, 9, 12]\n",
      "[6, 12]\n"
     ]
    }
   ],
   "source": [
    "A = [1, 2, 3, 4]\n",
    "\n",
    "result1 = [num * 3 for num in A]\n",
    "print(result1)\n",
    "\n",
    "result2 = list(range(3, 13, 3))\n",
    "print(result2)\n",
    "\n",
    "result3 = [num * 3 for num in range(1, 5)]\n",
    "print(result3)\n",
    "\n",
    "# [표현식 for 항목 in 반복가능객체 if 조건식]\n",
    "result4 = [num * 3 for num in A if num % 2 == 0]\n",
    "print(result4)\n"
   ]
  },
  {
   "cell_type": "code",
   "execution_count": 68,
   "metadata": {},
   "outputs": [
    {
     "name": "stdout",
     "output_type": "stream",
     "text": [
      "[2, 4, 6, 8, 10, 12, 14, 16, 18, 3, 6, 9, 12, 15, 18, 21, 24, 27, 4, 8, 12, 16, 20, 24, 28, 32, 36, 5, 10, 15, 20, 25, 30, 35, 40, 45, 6, 12, 18, 24, 30, 36, 42, 48, 54, 7, 14, 21, 28, 35, 42, 49, 56, 63, 8, 16, 24, 32, 40, 48, 56, 64, 72, 9, 18, 27, 36, 45, 54, 63, 72, 81]\n"
     ]
    }
   ],
   "source": [
    "result5 = [x * y for x in range(2, 10) for y in range(1, 10)]\n",
    "print(result5)\n"
   ]
  },
  {
   "cell_type": "code",
   "execution_count": 70,
   "metadata": {},
   "outputs": [
    {
     "name": "stdout",
     "output_type": "stream",
     "text": [
      "1 2 3 4 5 6 7 8 9 10 11 12 13 14 15 16 17 18 19 20 21 22 23 24 25 26 27 28 29 30 31 32 33 34 35 36 37 38 39 40 41 42 43 44 45 46 47 48 49 50 51 52 53 54 55 56 57 58 59 60 61 62 63 64 65 66 67 68 69 70 71 72 73 74 75 76 77 78 79 80 81 82 83 84 85 86 87 88 89 90 91 92 93 94 95 96 97 98 99 100 "
     ]
    }
   ],
   "source": [
    "for n in range(1, 101):\n",
    "    print(n, end=\" \")"
   ]
  },
  {
   "cell_type": "code",
   "execution_count": 78,
   "metadata": {},
   "outputs": [
    {
     "name": "stdout",
     "output_type": "stream",
     "text": [
      "1부터 1000까지의 5의 배수의 합: 100500\n",
      "1부터 1000까지의 5의 배수의 합: 100500\n"
     ]
    }
   ],
   "source": [
    "sum1 = 0\n",
    "for i in range(1, 1001):\n",
    "    if i % 5 == 0:\n",
    "        sum1 += i\n",
    "print(f\"1부터 1000까지의 5의 배수의 합: {sum1}\")\n",
    "\n",
    "sum2 = 0\n",
    "for i in range(5, 1001, 5):\n",
    "    sum2 += i\n",
    "print(f\"1부터 1000까지의 5의 배수의 합: {sum2}\")"
   ]
  },
  {
   "cell_type": "code",
   "execution_count": 90,
   "metadata": {},
   "outputs": [
    {
     "name": "stdout",
     "output_type": "stream",
     "text": [
      "A학급 학생들의 평균 점수: 79.00\n"
     ]
    }
   ],
   "source": [
    "A = [70, 60, 55, 75, 95, 90, 80, 80, 85, 100]\n",
    "sum3 = 0\n",
    "for score in A:\n",
    "    sum3 += score\n",
    "print(f\"A학급 학생들의 평균 점수: {sum3 / len(A):.2f}\")"
   ]
  },
  {
   "cell_type": "code",
   "execution_count": null,
   "metadata": {},
   "outputs": [
    {
     "name": "stdout",
     "output_type": "stream",
     "text": [
      "A형: 3명\n",
      "B형: 3명\n",
      "O형: 3명\n",
      "AB형: 3명\n",
      "A형: 3명\n",
      "B형: 3명\n",
      "O형: 3명\n",
      "AB형: 3명\n"
     ]
    }
   ],
   "source": [
    "blood_type = [\"A\", \"B\", \"A\", \"O\", \"AB\", \"AB\", \"O\", \"A\", \"B\", \"O\", \"B\", \"AB\"]\n",
    "# A형, B형, O형, AB형 혈액형의 수를 세는 코드\n",
    "\n",
    "sumA = 0\n",
    "sumB = 0\n",
    "sumO = 0\n",
    "sumAB = 0\n",
    "\n",
    "for blood in blood_type:\n",
    "    if blood == \"A\":\n",
    "        sumA += 1\n",
    "    elif blood == \"B\":\n",
    "        sumB += 1\n",
    "    elif blood == \"O\":\n",
    "        sumO += 1\n",
    "    elif blood == \"AB\":\n",
    "        sumAB += 1\n",
    "\n",
    "print(f\"A형: {sumA}명\")\n",
    "print(f\"B형: {sumB}명\")\n",
    "print(f\"O형: {sumO}명\")\n",
    "print(f\"AB형: {sumAB}명\")\n",
    "\n",
    "\n",
    "# 딕셔너리를 사용하여 혈액형의 수를 세는 코드\n",
    "count = {\"A\": 0, \"B\": 0, \"O\": 0, \"AB\": 0}\n",
    "\n",
    "for blood in blood_type:\n",
    "    count[blood] += 1\n",
    "\n",
    "print(f\"A형: {count['A']}명\")\n",
    "print(f\"B형: {count['B']}명\")\n",
    "print(f\"O형: {count['O']}명\")\n",
    "print(f\"AB형: {count['AB']}명\")"
   ]
  },
  {
   "cell_type": "code",
   "execution_count": 97,
   "metadata": {},
   "outputs": [
    {
     "name": "stdout",
     "output_type": "stream",
     "text": [
      "[2, 6, 10]\n",
      "[2, 6, 10]\n"
     ]
    }
   ],
   "source": [
    "numbers = [1, 2, 3, 4, 5]\n",
    "\n",
    "result1 = []\n",
    "for n in numbers:\n",
    "    if n % 2 == 1:\n",
    "        result1.append(n * 2)\n",
    "print(result1)\n",
    "\n",
    "# 리스트 내포(list comprehension)를 사용한 코드\n",
    "result2 = [n * 2 for n in numbers if n % 2 == 1]\n",
    "print(result2)"
   ]
  },
  {
   "cell_type": "code",
   "execution_count": null,
   "metadata": {},
   "outputs": [
    {
     "name": "stdout",
     "output_type": "stream",
     "text": [
      "* * * * * \n",
      "\n",
      "+ + + "
     ]
    }
   ],
   "source": [
    "def print_star(n):\n",
    "    for i in range(n):\n",
    "        print(\"*\", end=\" \")\n",
    "\n",
    "\n",
    "def print_plus(n):\n",
    "    for i in range(n):\n",
    "        print(\"+\", end=\" \")\n",
    "\n",
    "\n",
    "print_star(5)\n",
    "print(\"\\n\")\n",
    "print_plus(3)"
   ]
  },
  {
   "cell_type": "code",
   "execution_count": 112,
   "metadata": {},
   "outputs": [
    {
     "name": "stdout",
     "output_type": "stream",
     "text": [
      "7\n",
      "130\n",
      "42\n",
      "5.0\n",
      "None\n"
     ]
    }
   ],
   "source": [
    "def get_sum(a, b):\n",
    "    return a + b\n",
    "\n",
    "\n",
    "def get_sub(a, b):\n",
    "    return a - b\n",
    "\n",
    "\n",
    "def get_mul(a, b):\n",
    "    return a * b\n",
    "\n",
    "\n",
    "def get_div(a, b):\n",
    "    if b == 0:\n",
    "        return\n",
    "    else:\n",
    "        return a / b\n",
    "\n",
    "\n",
    "print(get_sum(3, 4))\n",
    "print(get_sub(150, 20))\n",
    "print(get_mul(6, 7))\n",
    "print(get_div(10, 2))\n",
    "print(get_div(5, 0))"
   ]
  },
  {
   "cell_type": "code",
   "execution_count": 115,
   "metadata": {},
   "outputs": [
    {
     "name": "stdout",
     "output_type": "stream",
     "text": [
      "합은 14, 차는 -4, 곱은 45입니다.\n"
     ]
    }
   ],
   "source": [
    "def sum_sub_and_mul(a, b):\n",
    "    return a + b, a - b, a * b\n",
    "\n",
    "\n",
    "(sum1, sub1, mul1) = sum_sub_and_mul(5, 9)\n",
    "print(f\"합은 {sum1}, 차는 {sub1}, 곱은 {mul1}입니다.\")"
   ]
  },
  {
   "cell_type": "code",
   "execution_count": 122,
   "metadata": {},
   "outputs": [
    {
     "name": "stdout",
     "output_type": "stream",
     "text": [
      "해는 2.0과 -4.0입니다.\n"
     ]
    }
   ],
   "source": [
    "def get_root(a, b, c):\n",
    "    r1 = (-b + (b**2 - 4 * a * c) ** 0.5) / (2 * a)\n",
    "    r2 = (-b - (b**2 - 4 * a * c) ** 0.5) / (2 * a)\n",
    "    return r1, r2\n",
    "\n",
    "\n",
    "# x^2 + 2x - 8 = 0의 해를 구하는 코드\n",
    "result1, result2 = get_root(1, 2, -8)\n",
    "print(f\"해는 {result1}과 {result2}입니다.\")\n",
    "# x^2 + 2x - 8 = (x - 2)(x + 4) = 0의 해는 2, -4"
   ]
  },
  {
   "cell_type": "code",
   "execution_count": 127,
   "metadata": {},
   "outputs": [
    {
     "name": "stdout",
     "output_type": "stream",
     "text": [
      "5.0\n",
      "2.0\n"
     ]
    }
   ],
   "source": [
    "# 매개 변수의 기본 값은 가장 뒤의 인자부터 설정해야 한다.\n",
    "# 기본 값을 설정하지 않은 인자는 기본값을 설정한 인자보다 앞에 위치해야 한다.\n",
    "def div(a, b=2):\n",
    "    return a / b\n",
    "\n",
    "\n",
    "print(div(10))\n",
    "print(div(10, 5))"
   ]
  },
  {
   "cell_type": "code",
   "execution_count": 131,
   "metadata": {},
   "outputs": [
    {
     "name": "stdout",
     "output_type": "stream",
     "text": [
      "-4\n",
      "4\n",
      "-4\n",
      "4\n"
     ]
    }
   ],
   "source": [
    "def minus(a, b):\n",
    "    result = a - b\n",
    "    return result\n",
    "\n",
    "\n",
    "a = minus(3, 7)\n",
    "print(a)\n",
    "\n",
    "a = minus(7, 3)\n",
    "print(a)\n",
    "\n",
    "a = minus(a=3, b=7)\n",
    "print(a)\n",
    "\n",
    "a = minus(b=3, a=7)\n",
    "print(a)"
   ]
  },
  {
   "cell_type": "code",
   "execution_count": 135,
   "metadata": {},
   "outputs": [
    {
     "name": "stdout",
     "output_type": "stream",
     "text": [
      "3, 7의 차는 -4\n"
     ]
    }
   ],
   "source": [
    "def say():\n",
    "    return \"Hi!\"\n",
    "\n",
    "\n",
    "def minus2(a, b):\n",
    "    print(f\"{a}, {b}의 차는 {a - b}\")\n",
    "\n",
    "\n",
    "minus2(3, 7)"
   ]
  },
  {
   "cell_type": "code",
   "execution_count": 137,
   "metadata": {},
   "outputs": [
    {
     "name": "stdout",
     "output_type": "stream",
     "text": [
      "10과 20의 차는 -10입니다.\n",
      "10과 20의 곱은 200입니다.\n"
     ]
    }
   ],
   "source": [
    "def print_sub(a, b):\n",
    "    print(f\"{a}과 {b}의 차는 {a - b}입니다.\")\n",
    "\n",
    "\n",
    "print_sub(10, 20)\n",
    "\n",
    "\n",
    "def print_mult(a, b):\n",
    "    print(f\"{a}과 {b}의 곱은 {a * b}입니다.\")\n",
    "\n",
    "\n",
    "print_mult(10, 20)"
   ]
  },
  {
   "cell_type": "code",
   "execution_count": 141,
   "metadata": {},
   "outputs": [
    {
     "name": "stdout",
     "output_type": "stream",
     "text": [
      "안녕하세요 홍길동씨\n",
      "안녕하세요 이순신씨\n",
      "안녕하세요 강감찬씨\n",
      "안녕하세요 James씨\n",
      "안녕하세요 Thomas씨\n"
     ]
    }
   ],
   "source": [
    "def greet(*names):\n",
    "    for name in names:\n",
    "        print(f\"안녕하세요 {name}씨\")\n",
    "\n",
    "\n",
    "greet(\"홍길동\", \"이순신\", \"강감찬\")\n",
    "greet(\"James\", \"Thomas\")"
   ]
  },
  {
   "cell_type": "code",
   "execution_count": 143,
   "metadata": {},
   "outputs": [
    {
     "name": "stdout",
     "output_type": "stream",
     "text": [
      "55\n"
     ]
    }
   ],
   "source": [
    "def sum_many(*args):  # 여기서 args는 임의로 정한 변수명이므로 아무 이름이나 써도 됨\n",
    "    sum = 0\n",
    "    for i in args:\n",
    "        sum = sum + i\n",
    "    return sum\n",
    "\n",
    "\n",
    "print(sum_many(1, 2, 3, 4, 5, 6, 7, 8, 9, 10))"
   ]
  },
  {
   "cell_type": "code",
   "execution_count": 145,
   "metadata": {},
   "outputs": [
    {
     "name": "stdout",
     "output_type": "stream",
     "text": [
      "15\n",
      "120\n"
     ]
    }
   ],
   "source": [
    "def sum_mul(choice, *args):\n",
    "    if choice == \"sum\":\n",
    "        result = 0\n",
    "        for i in args:\n",
    "            result += i\n",
    "    elif choice == \"mul\":\n",
    "        result = 1\n",
    "        for i in args:\n",
    "            result *= i\n",
    "    return result\n",
    "\n",
    "\n",
    "print(sum_mul(\"sum\", 1, 2, 3, 4, 5))\n",
    "print(sum_mul(\"mul\", 1, 2, 3, 4, 5))"
   ]
  },
  {
   "cell_type": "code",
   "execution_count": 162,
   "metadata": {},
   "outputs": [
    {
     "name": "stdout",
     "output_type": "stream",
     "text": [
      "3개의 인자 (10, 20, 30)\n",
      "합계 : 60, 평균 : 20.0\n",
      "\n",
      "\n",
      "5개의 인자 (10, 20, 30, 40, 50)\n",
      "합계 : 150, 평균 : 30.0\n"
     ]
    }
   ],
   "source": [
    "def sum_nums(*args):\n",
    "    sum = 0\n",
    "    print(f\"{len(args)}개의 인자 {args}\")\n",
    "    for i in args:\n",
    "        sum += i\n",
    "    print(f\"합계 : {sum}, 평균 : {sum / len(args)}\")\n",
    "\n",
    "\n",
    "sum_nums(10, 20, 30)\n",
    "print(\"\\n\")\n",
    "sum_nums(10, 20, 30, 40, 50)"
   ]
  },
  {
   "cell_type": "code",
   "execution_count": 167,
   "metadata": {},
   "outputs": [
    {
     "name": "stdout",
     "output_type": "stream",
     "text": [
      "최소값은 10\n"
     ]
    }
   ],
   "source": [
    "def min_nums(*args):\n",
    "    min = args[0]\n",
    "    for i in args:\n",
    "        if min > i:\n",
    "            min = i\n",
    "    print(f\"최소값은 {min}\")\n",
    "\n",
    "\n",
    "min_nums(20, 10, 40, 30, 50)"
   ]
  },
  {
   "cell_type": "code",
   "execution_count": null,
   "metadata": {},
   "outputs": [
    {
     "name": "stdout",
     "output_type": "stream",
     "text": [
      "(1, 2, 3)\n",
      "{'name': 'foo', 'age': 3}\n"
     ]
    }
   ],
   "source": [
    "# *args (tuple)와 **kwargs (dictionary)를 사용한 예제\n",
    "def func(*args, **kwargs):\n",
    "    print(args)\n",
    "    print(kwargs)\n",
    "\n",
    "\n",
    "func(1, 2, 3, name=\"foo\", age=3)"
   ]
  },
  {
   "cell_type": "code",
   "execution_count": 3,
   "metadata": {},
   "outputs": [
    {
     "name": "stdout",
     "output_type": "stream",
     "text": [
      "120 개입니다.\n"
     ]
    }
   ],
   "source": [
    "def func(*data, **method):\n",
    "    num = sum(data) * method[\"scale\"]\n",
    "    print(num, method[\"unit\"] + \"입니다.\")\n",
    "\n",
    "\n",
    "func(3, 4, 5, scale=10, unit=\"개\")"
   ]
  },
  {
   "cell_type": "code",
   "execution_count": 7,
   "metadata": {},
   "outputs": [
    {
     "name": "stdout",
     "output_type": "stream",
     "text": [
      "계산된 값입니다.\n",
      "120 개입니다.\n"
     ]
    }
   ],
   "source": [
    "def func(*data, message, **method):\n",
    "    print(message)\n",
    "\n",
    "    num = sum(data) * method[\"scale\"]\n",
    "    print(num, method[\"unit\"] + \"입니다.\")\n",
    "\n",
    "\n",
    "func(3, 4, 5, message=\"계산된 값입니다.\", scale=10, unit=\"개\")"
   ]
  },
  {
   "cell_type": "code",
   "execution_count": 8,
   "metadata": {},
   "outputs": [
    {
     "name": "stdout",
     "output_type": "stream",
     "text": [
      "계산된 값입니다.\n",
      "값이 10배 커집니다.\n",
      "120 개입니다.\n"
     ]
    }
   ],
   "source": [
    "def func(message1, message2, *data, **method):\n",
    "    print(message1)\n",
    "    print(message2)\n",
    "\n",
    "    num = sum(data) * method[\"scale\"]\n",
    "    print(num, method[\"unit\"] + \"입니다.\")\n",
    "\n",
    "\n",
    "func(\"계산된 값입니다.\", \"값이 10배 커집니다.\", 3, 4, 5, scale=10, unit=\"개\")"
   ]
  },
  {
   "cell_type": "code",
   "execution_count": 10,
   "metadata": {},
   "outputs": [
    {
     "name": "stdout",
     "output_type": "stream",
     "text": [
      "나의 이름은 홍길동입니다.\n",
      "나이는 20입니다.\n",
      "남자입니다.\n",
      "나의 이름은 춘향입니다.\n",
      "나이는 17입니다.\n",
      "여자입니다.\n"
     ]
    }
   ],
   "source": [
    "def say_myself(name, old, man=True):\n",
    "    print(f\"나의 이름은 {name}입니다.\")\n",
    "    print(f\"나이는 {old}입니다.\")\n",
    "    if man:\n",
    "        print(\"남자입니다.\")\n",
    "    else:\n",
    "        print(\"여자입니다.\")\n",
    "\n",
    "\n",
    "say_myself(\"홍길동\", 20)\n",
    "say_myself(\"춘향\", 17, False)"
   ]
  },
  {
   "cell_type": "code",
   "execution_count": null,
   "metadata": {},
   "outputs": [
    {
     "name": "stdout",
     "output_type": "stream",
     "text": [
      "1\n"
     ]
    }
   ],
   "source": [
    "a = 1\n",
    "\n",
    "\n",
    "def vartest(a):\n",
    "    a = a + 1\n",
    "\n",
    "\n",
    "vartest(a)\n",
    "print(a)  # 1이 출력됨. vartest() 함수에서 a의 값은 지역변수로 사용됨"
   ]
  },
  {
   "cell_type": "code",
   "execution_count": null,
   "metadata": {},
   "outputs": [
    {
     "name": "stdout",
     "output_type": "stream",
     "text": [
      "2\n"
     ]
    }
   ],
   "source": [
    "a = 1\n",
    "\n",
    "\n",
    "def vartest(a):\n",
    "    a = a + 1\n",
    "    return a\n",
    "\n",
    "\n",
    "a = vartest(a)\n",
    "print(a)  # 2가 출력됨. vartest() 함수에서 a의 값은 지역변수로 사용됨"
   ]
  },
  {
   "cell_type": "code",
   "execution_count": null,
   "metadata": {},
   "outputs": [
    {
     "name": "stdout",
     "output_type": "stream",
     "text": [
      "2\n"
     ]
    }
   ],
   "source": [
    "a = 1\n",
    "\n",
    "\n",
    "def vartest():\n",
    "    global a  # 전역변수 a를 사용하겠다고 선언\n",
    "    a = a + 1  # 전역변수 a의 값을 변경\n",
    "\n",
    "\n",
    "vartest()\n",
    "print(a)  # 2가 출력됨. vartest() 함수에서 a의 값은 전역변수로 사용됨"
   ]
  },
  {
   "cell_type": "code",
   "execution_count": null,
   "metadata": {},
   "outputs": [
    {
     "name": "stdout",
     "output_type": "stream",
     "text": [
      "print_sum() 내부: 100, 200의 합은 300입니다.\n",
      "print_sum() 외부: 10, 200의 합은 210입니다.\n"
     ]
    }
   ],
   "source": [
    "def print_sum():\n",
    "    global a, b\n",
    "    a = 100\n",
    "    b = 200\n",
    "    result = a + b\n",
    "    print(f\"print_sum() 내부: {a}, {b}의 합은 {result}입니다.\")\n",
    "    a = 10\n",
    "\n",
    "\n",
    "b = 20\n",
    "print_sum()\n",
    "result = a + b\n",
    "print(f\"print_sum() 외부: {a}, {b}의 합은 {result}입니다.\")"
   ]
  },
  {
   "cell_type": "code",
   "execution_count": null,
   "metadata": {},
   "outputs": [
    {
     "data": {
      "text/plain": [
       "True"
      ]
     },
     "execution_count": 145,
     "metadata": {},
     "output_type": "execute_result"
    }
   ],
   "source": [
    "# 주어진 자연수가 홀수인지 짝수인지 판별해 주는 함수 is_odd()를 작성하시오.\n",
    "\n",
    "\n",
    "def is_odd(number):\n",
    "    if number % 2 == 0:\n",
    "        return False\n",
    "    else:\n",
    "        return True\n",
    "\n",
    "\n",
    "is_odd(3)"
   ]
  },
  {
   "cell_type": "code",
   "execution_count": null,
   "metadata": {},
   "outputs": [
    {
     "data": {
      "text/plain": [
       "22.0"
      ]
     },
     "execution_count": 150,
     "metadata": {},
     "output_type": "execute_result"
    }
   ],
   "source": [
    "# 입력으로 들어오는 모든 수의 평균값을 계산해주는 함수를 작성해보자.\n",
    "\n",
    "\n",
    "def average(*args):\n",
    "    sum = 0\n",
    "    for i in args:\n",
    "        sum += i\n",
    "    return sum / len(args)\n",
    "\n",
    "\n",
    "average(1, 4, 2, 3, 100)"
   ]
  },
  {
   "cell_type": "code",
   "execution_count": null,
   "metadata": {},
   "outputs": [
    {
     "name": "stdout",
     "output_type": "stream",
     "text": [
      "3 x 1 =  3\n",
      "3 x 2 =  6\n",
      "3 x 3 =  9\n",
      "3 x 4 = 12\n",
      "3 x 5 = 15\n",
      "3 x 6 = 18\n",
      "3 x 7 = 21\n",
      "3 x 8 = 24\n",
      "3 x 9 = 27\n",
      "7 x 1 =  7\n",
      "7 x 2 = 14\n",
      "7 x 3 = 21\n",
      "7 x 4 = 28\n",
      "7 x 5 = 35\n",
      "7 x 6 = 42\n",
      "7 x 7 = 49\n",
      "7 x 8 = 56\n",
      "7 x 9 = 63\n"
     ]
    }
   ],
   "source": [
    "# 입력을 자연수 n(2부터 9까지의 자연수)으로 받았을 때, n에 해당되는 구구단을 출력하는 함수를 작성해보자.\n",
    "\n",
    "\n",
    "def times_table(n):\n",
    "    for i in range(1, 10):\n",
    "        print(f\"{n} x {i} = {n * i:2d}\")\n",
    "\n",
    "\n",
    "times_table(3)\n",
    "times_table(7)"
   ]
  },
  {
   "cell_type": "code",
   "execution_count": null,
   "metadata": {},
   "outputs": [
    {
     "name": "stdout",
     "output_type": "stream",
     "text": [
      "4\n"
     ]
    }
   ],
   "source": [
    "from math import ceil\n",
    "\n",
    "print(ceil(3.14))"
   ]
  },
  {
   "cell_type": "code",
   "execution_count": null,
   "metadata": {},
   "outputs": [
    {
     "name": "stdout",
     "output_type": "stream",
     "text": [
      "2025\n",
      "4\n",
      "3\n",
      "16\n",
      "27\n"
     ]
    }
   ],
   "source": [
    "import datetime\n",
    "\n",
    "datetime.datetime.now()  # 현재 날짜와 시간 출력\n",
    "\n",
    "today = datetime.datetime.now()\n",
    "\n",
    "print(today.year)\n",
    "print(today.month)\n",
    "print(today.day)\n",
    "print(today.hour)\n",
    "print(today.minute)"
   ]
  },
  {
   "cell_type": "code",
   "execution_count": 173,
   "metadata": {},
   "outputs": [
    {
     "data": {
      "text/plain": [
       "'axc'"
      ]
     },
     "execution_count": 173,
     "metadata": {},
     "output_type": "execute_result"
    }
   ],
   "source": [
    "\"abc\".replace(\"b\", \"x\")"
   ]
  }
 ],
 "metadata": {
  "kernelspec": {
   "display_name": "base",
   "language": "python",
   "name": "python3"
  },
  "language_info": {
   "codemirror_mode": {
    "name": "ipython",
    "version": 3
   },
   "file_extension": ".py",
   "mimetype": "text/x-python",
   "name": "python",
   "nbconvert_exporter": "python",
   "pygments_lexer": "ipython3",
   "version": "3.12.7"
  }
 },
 "nbformat": 4,
 "nbformat_minor": 2
}

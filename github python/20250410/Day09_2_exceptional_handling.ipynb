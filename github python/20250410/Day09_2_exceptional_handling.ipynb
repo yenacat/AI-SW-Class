{
 "cells": [
  {
   "cell_type": "code",
   "execution_count": null,
   "metadata": {},
   "outputs": [
    {
     "name": "stdout",
     "output_type": "stream",
     "text": [
      "인코딩 오류입니다. 다른 파일을 입력하세요.\n",
      "프로그램을 종료합니다.\n"
     ]
    }
   ],
   "source": [
    "fname = input(\n",
    "    \"[내용 확인하고 싶은 파일 이름을 입력하세요] >\"\n",
    ")  # 사용자에게 파일 이름 입력 받기\n",
    "\n",
    "while fname:  # fname이 제대로 입력되면 계속 반복(오류시 종료)\n",
    "    try:\n",
    "        myfile = open(fname, \"r\")\n",
    "        print(myfile.read())\n",
    "        myfile.close()\n",
    "        break  # 정상적으로 파일을 읽었으면 반복 종료\n",
    "    except FileNotFoundError:  # 파일이 없을 경우\n",
    "        print(\"파일을 찾을 수 없습니다. 다시 입력하세요.\")\n",
    "        fname = input(\"[내용 확인하고 싶은 파일 이름을 입력하세요] >\")\n",
    "    except IsADirectoryError:  # 디렉토리일 경우\n",
    "        print(\"디렉토리입니다. 파일 이름을 입력하세요.\")\n",
    "        fname = input(\"[내용 확인하고 싶은 파일 이름을 입력하세요] >\")\n",
    "    except UnicodeDecodeError:  # 인코딩 오류일 경우\n",
    "        print(\"인코딩 오류입니다. 다른 파일을 입력하세요.\")\n",
    "        fname = input(\"[내용 확인하고 싶은 파일 이름을 입력하세요] >\")\n",
    "    except Exception as e:  # 그 외의 오류일 경우\n",
    "        print(\"알 수 없는 오류입니다.\", e)\n",
    "        fname = input(\"[내용 확인하고 싶은 파일 이름을 입력하세요] >\")\n",
    "    else:  # 예외가 발생하지 않았을 경우\n",
    "        print(\"파일을 정상적으로 읽었습니다.\")\n",
    "        break\n",
    "    finally:  # 예외 발생 여부와 관계없이 항상 실행\n",
    "        print(\"프로그램을 종료합니다.\")\n",
    "        break\n"
   ]
  },
  {
   "cell_type": "code",
   "execution_count": 14,
   "metadata": {},
   "outputs": [
    {
     "name": "stdout",
     "output_type": "stream",
     "text": [
      "0. 한국어\n",
      "1. English\n",
      "사용자 선택 0:한국어\n"
     ]
    }
   ],
   "source": [
    "langs = [\"한국어\", \"English\"]\n",
    "\n",
    "for i, lang in enumerate(langs):\n",
    "    print(\"{}. {}\".format(i, lang))\n",
    "\n",
    "try:\n",
    "    u = int(input(\"언어를 선택하세요: \"))\n",
    "\n",
    "    if u < 0 or u >= len(langs):\n",
    "        raise Exception\n",
    "    print(\"사용자 선택 {}:{}\".format(u, langs[u]))\n",
    "\n",
    "except Exception as e:\n",
    "    print(\"오류 {}\".format((e)))"
   ]
  },
  {
   "cell_type": "code",
   "execution_count": 15,
   "metadata": {},
   "outputs": [
    {
     "name": "stdout",
     "output_type": "stream",
     "text": [
      "입력 오류: 일은 1~31 사이의 숫자여야 합니다.\n",
      "입력 오류: 일은 1~31 사이의 숫자여야 합니다.\n",
      "1월 31일\n"
     ]
    }
   ],
   "source": [
    "days = (31, 29, 31, 30, 31, 30, 31, 31, 30, 31, 30, 31)\n",
    "date = True\n",
    "\n",
    "while date:\n",
    "    try:\n",
    "        date = input(\"날짜 <월 일>을 입력하세요:\")\n",
    "        mm, dd = date.split()\n",
    "        mm, dd = int(mm), int(dd)\n",
    "        if mm < 1 or mm > 12:\n",
    "            raise ValueError(\"월은 1~12 사이의 숫자여야 합니다.\")\n",
    "        if dd < 1 or dd > days[mm - 1]:\n",
    "            raise ValueError(f\"일은 1~{days[mm - 1]} 사이의 숫자여야 합니다.\")\n",
    "    except ValueError as e:\n",
    "        print(f\"입력 오류: {e}\")\n",
    "    else:\n",
    "        print(f\"{mm}월 {dd}일\")\n",
    "        break"
   ]
  },
  {
   "cell_type": "code",
   "execution_count": null,
   "metadata": {},
   "outputs": [],
   "source": [
    "# try:\n",
    "#     오류가 의심되는 코드\n",
    "# except:\n",
    "#     오류 발생 시 수행할 코드\n",
    "# else:\n",
    "#     오류가 발생하지 않았을 경우 수행할 코드\n",
    "# finally:\n",
    "#     오류가 발생하든 안 하든 무조건 수행할 코드"
   ]
  }
 ],
 "metadata": {
  "kernelspec": {
   "display_name": "base",
   "language": "python",
   "name": "python3"
  },
  "language_info": {
   "codemirror_mode": {
    "name": "ipython",
    "version": 3
   },
   "file_extension": ".py",
   "mimetype": "text/x-python",
   "name": "python",
   "nbconvert_exporter": "python",
   "pygments_lexer": "ipython3",
   "version": "3.12.9"
  }
 },
 "nbformat": 4,
 "nbformat_minor": 2
}

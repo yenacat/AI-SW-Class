{
 "cells": [
  {
   "cell_type": "code",
   "execution_count": null,
   "metadata": {},
   "outputs": [],
   "source": [
    "# 정규 표현식을 사용하는 경우우\n",
    "# 1. 주민등록번호 패턴\n",
    "# 2. 비밀번호 패턴 (12자리 이상, 영문 대소문자 혼용, 특수문자는 !@#^&*만 가능 등)\n",
    "# 3. 검색 (정규 표현식보다는 DB에 의존하게 됨)"
   ]
  },
  {
   "cell_type": "code",
   "execution_count": 2,
   "metadata": {},
   "outputs": [
    {
     "name": "stdout",
     "output_type": "stream",
     "text": [
      "\n",
      "park 800905-*******\n",
      "kim 700905-*******\n"
     ]
    }
   ],
   "source": [
    "# 정규 표현식을 사용하지 않을 경우의 구현\n",
    "# 주민등록번호를 마스킹하는 예시\n",
    "\n",
    "data = \"\"\"\n",
    "park 800905-1049118\n",
    "kim 700905-1059119\n",
    "\"\"\"\n",
    "\n",
    "result = []\n",
    "for line in data.splitlines():\n",
    "    word_result = []\n",
    "    for word in line.split(\" \"):\n",
    "        if len(word) == 14 and word[:6].isdigit() and word[7:].isdigit():\n",
    "            word = word[:6] + \"-\" + \"*******\"\n",
    "        word_result.append(word)\n",
    "    result.append(\" \".join(word_result))\n",
    "print(\"\\n\".join(result))"
   ]
  },
  {
   "cell_type": "code",
   "execution_count": 12,
   "metadata": {},
   "outputs": [
    {
     "name": "stdout",
     "output_type": "stream",
     "text": [
      "\n",
      "park 800905-*******\n",
      "kim 700905-*******\n",
      "\n"
     ]
    }
   ],
   "source": [
    "# 정규 표현식을 사용한 구현\n",
    "\n",
    "import re\n",
    "\n",
    "data = \"\"\"\n",
    "park 800905-1049118\n",
    "kim 700905-1059119\n",
    "\"\"\"\n",
    "\n",
    "pat = re.compile(r\"(\\d{6})[-]\\d{7}\")\n",
    "print(pat.sub(r\"\\g<1>-*******\", data))"
   ]
  },
  {
   "cell_type": "code",
   "execution_count": 15,
   "metadata": {},
   "outputs": [
    {
     "name": "stdout",
     "output_type": "stream",
     "text": [
      "<re.Match object; span=(0, 6), match='python'>\n",
      "None\n",
      "<re.Match object; span=(0, 6), match='python'>\n"
     ]
    }
   ],
   "source": [
    "p = re.compile(\"[a-z]+\")  # 소문자 알파벳으로 이루어진 단어를 찾는 정규 표현식\n",
    "m = p.match(\"python\")  # 문자열의 처음부터 정규 표현식과 매치되는지 확인\n",
    "\n",
    "print(m)\n",
    "\n",
    "n = p.match(\"3 python\")\n",
    "\n",
    "print(n)\n",
    "\n",
    "o = p.match(\"python3\")\n",
    "\n",
    "print(o)"
   ]
  },
  {
   "cell_type": "code",
   "execution_count": 17,
   "metadata": {},
   "outputs": [
    {
     "name": "stdout",
     "output_type": "stream",
     "text": [
      "Match found: string\n"
     ]
    }
   ],
   "source": [
    "p = re.compile(\"[a-z]+\")  # 소문자 알파벳으로 이루어진 단어를 찾는 정규 표현식\n",
    "m1 = p.match(\"string goes here\")\n",
    "\n",
    "if m1:\n",
    "    print(\"Match found:\", m1.group())\n",
    "else:\n",
    "    print(\"No match found\")"
   ]
  },
  {
   "cell_type": "code",
   "execution_count": 18,
   "metadata": {},
   "outputs": [
    {
     "name": "stdout",
     "output_type": "stream",
     "text": [
      "python\n",
      "0\n",
      "6\n",
      "(0, 6)\n"
     ]
    }
   ],
   "source": [
    "m2 = p.match(\"python\")\n",
    "print(m2.group())  # match 객체에서 매치된 문자열을 가져옴\n",
    "print(m2.start())  # 매치된 문자열의 시작 인덱스\n",
    "print(m2.end())  # 매치된 문자열의 끝 인덱스\n",
    "print(m2.span())  # 매치된 문자열의 시작과 끝 인덱스를 튜플로 반환"
   ]
  },
  {
   "cell_type": "code",
   "execution_count": 22,
   "metadata": {},
   "outputs": [
    {
     "name": "stdout",
     "output_type": "stream",
     "text": [
      "<re.Match object; span=(0, 6), match='python'>\n",
      "<re.Match object; span=(2, 8), match='python'>\n"
     ]
    }
   ],
   "source": [
    "m3 = p.search(\"python\")\n",
    "print(m3)\n",
    "\n",
    "m4 = p.search(\"3 python\")\n",
    "print(m4)"
   ]
  },
  {
   "cell_type": "code",
   "execution_count": 23,
   "metadata": {},
   "outputs": [
    {
     "name": "stdout",
     "output_type": "stream",
     "text": [
      "['life', 'is', 'too', 'short']\n"
     ]
    }
   ],
   "source": [
    "result = p.findall(\"life is too short\")\n",
    "print(result)  # 리스트로 반환"
   ]
  },
  {
   "cell_type": "code",
   "execution_count": 28,
   "metadata": {},
   "outputs": [
    {
     "name": "stdout",
     "output_type": "stream",
     "text": [
      "<callable_iterator object at 0x00000280D28BFEB0>\n",
      "life\n",
      "(0, 4)\n",
      "is\n",
      "(5, 7)\n",
      "too\n",
      "(8, 11)\n",
      "short\n",
      "(12, 17)\n"
     ]
    }
   ],
   "source": [
    "result2 = p.finditer(\"life is too short\")\n",
    "print(result2)\n",
    "for r in result2:\n",
    "    print(r.group())  # 매치된 문자열을 가져옴\n",
    "    print(r.span())  # 매치된 문자열의 시작과 끝 인덱스를 튜플로 반환\n"
   ]
  },
  {
   "cell_type": "code",
   "execution_count": null,
   "metadata": {},
   "outputs": [],
   "source": [
    "#  DOTALL(S):       .이 줄바꿈 문자를 포함한 모든 문자와 매치되도록 설정\n",
    "#  IGNORECASE(I):   대소문자를 구분하지 않도록 설정\n",
    "#  MULTILINE(M):    ^, $가 각 줄의 시작과 끝을 의미하도록 설정\n",
    "#  VERBOSE(X):      주석을 사용할 수 있도록 설정"
   ]
  },
  {
   "cell_type": "code",
   "execution_count": 32,
   "metadata": {},
   "outputs": [
    {
     "name": "stdout",
     "output_type": "stream",
     "text": [
      "None\n",
      "<re.Match object; span=(0, 3), match='a\\nb'>\n"
     ]
    }
   ],
   "source": [
    "import re\n",
    "\n",
    "p = re.compile(\"a.b\")  # a와 b 사이에 어떤 문자(하나)가 오든 매치\n",
    "m = p.match(\"a\\nb\")  # 줄바꿈 문자가 포함된 문자열\n",
    "print(m)  # 줄바꿈 문자는 매치되지 않음\n",
    "\n",
    "p = re.compile(\"a.b\", re.DOTALL)  # a와 b 사이에 줄바꿈 문자를 포함한 모든 문자와 매치\n",
    "m = p.match(\"a\\nb\")\n",
    "print(m)  # 줄바꿈 문자가 포함된 문자열도 매치됨"
   ]
  },
  {
   "cell_type": "code",
   "execution_count": 34,
   "metadata": {},
   "outputs": [
    {
     "name": "stdout",
     "output_type": "stream",
     "text": [
      "<re.Match object; span=(0, 3), match='axB'>\n"
     ]
    }
   ],
   "source": [
    "p = re.compile(\"a.b\", re.IGNORECASE)  # 대소문자를 구분하지 않음\n",
    "m = p.match(\"axB\")  # 대문자가 포함된 문자열\n",
    "print(m)  # 대문자 B를 포함하여 매치됨"
   ]
  },
  {
   "cell_type": "code",
   "execution_count": 38,
   "metadata": {},
   "outputs": [
    {
     "name": "stdout",
     "output_type": "stream",
     "text": [
      "['python one', 'python two', 'python three']\n"
     ]
    }
   ],
   "source": [
    "p = re.compile(\n",
    "    r\"^python\\s\\w+\", re.MULTILINE\n",
    ")  # ^는 각 줄의 시작을 의미하고, \\s는 공백, \\w는 단어, \\w+는 단어가 1개 이상 있는 것을 의미\n",
    "data = \"\"\"python one\n",
    "life is too short\n",
    "python two\n",
    "you need python\n",
    "python three\"\"\"\n",
    "\n",
    "print(p.findall(data))  # 각 줄의 시작에서 python과 단어가 매치됨"
   ]
  },
  {
   "cell_type": "code",
   "execution_count": 47,
   "metadata": {},
   "outputs": [
    {
     "name": "stdout",
     "output_type": "stream",
     "text": [
      "['\\\\section', '\\\\section']\n"
     ]
    }
   ],
   "source": [
    "data2 = r\"section\\section2\\section3\"\n",
    "\n",
    "p = re.compile(r\"\\\\section\")\n",
    "m = p.findall(data2)\n",
    "print(m)"
   ]
  },
  {
   "cell_type": "code",
   "execution_count": 53,
   "metadata": {},
   "outputs": [
    {
     "name": "stdout",
     "output_type": "stream",
     "text": [
      "['010', '1234', '5678', '30']\n",
      "['이름 : 김철수\\n전화번호 : ', ' - ', ' - ', '\\n나이 : ', '\\n성별 : 남']\n",
      "\n",
      "['이름', '김철수', '전화번호', '010', '1234', '5678', '나이', '30', '성별', '남']\n",
      "[' : ', '\\n', ' : ', ' - ', ' - ', '\\n', ' : ', '\\n', ' : ']\n",
      "\n",
      "[' ', ' ', '\\n', ' ', ' ', ' ', ' ', ' ', ' ', '\\n', ' ', ' ', '\\n', ' ', ' ']\n",
      "['이름', ':', '김철수', '전화번호', ':', '010', '-', '1234', '-', '5678', '나이', ':', '30', '성별', ':', '남']\n"
     ]
    }
   ],
   "source": [
    "import re\n",
    "\n",
    "text = \"\"\"이름 : 김철수\n",
    "전화번호 : 010 - 1234 - 5678\n",
    "나이 : 30\n",
    "성별 : 남\"\"\"\n",
    "\n",
    "print(re.findall(r\"\\d+\", text))  # 숫자만 추출\n",
    "print(re.findall(r\"\\D+\", text))  # 숫자가 아닌 문자만 추출\n",
    "print(\"\")\n",
    "print(re.findall(r\"\\w+\", text))  # 단어만 추출\n",
    "print(re.findall(r\"\\W+\", text))  # 단어가 아닌 문자만 추출\n",
    "print(\"\")\n",
    "print(re.findall(r\"\\s+\", text))  # 공백 문자만 추출\n",
    "print(re.findall(r\"\\S+\", text))  # 공백이 아닌 문자만 추출"
   ]
  },
  {
   "cell_type": "code",
   "execution_count": 64,
   "metadata": {},
   "outputs": [
    {
     "name": "stdout",
     "output_type": "stream",
     "text": [
      "exp1: ['\\nRE, ', ' sun\\n', '\\nFA, ', ' way ', ' run\\n', '\\nLA, ', '\\nTI, ', ' jam ', ' sun\\n', ' way ', ' run\\n', '\\nLa! ', '\\nTea ', ' jam ', ' do!\\n', '\\nRE, ', ' sun\\n', '\\nFA, ', ' way ', ' run\\n', '\\nLA, ', '\\nTI, ', ' jam ']\n",
      "exp2: ['DO', 'deer', 'RE', 'MI', 'name', 'FA', 'SO', 'LA', 'TI', 'deer', 'Do', 'deer', 'RE', 'MI', 'name', 'FA', 'SO', 'LA', 'TI']\n"
     ]
    }
   ],
   "source": [
    "import re\n",
    "\n",
    "with open(\"doremi_song.txt\", \"r\") as doremi:\n",
    "    mytext = doremi.read()\n",
    "    exp1 = r\"\\s...\\s\"  # 공백으로 시작하고 3글자 단어가 오고 다시 공백으로 끝나는 정규 표현식\n",
    "    print(f\"exp1: {re.findall(exp1, mytext)}\")\n",
    "\n",
    "    exp2 = r\"([a-zA-Z]+),\"  # 알파벳으로 시작하고 ,로 끝나는 단어를 찾는 정규 표현식\n",
    "    print(f\"exp2: {re.findall(exp2, mytext)}\")"
   ]
  },
  {
   "cell_type": "code",
   "execution_count": 66,
   "metadata": {},
   "outputs": [
    {
     "name": "stdout",
     "output_type": "stream",
     "text": [
      "exp1: ['나랏말싸미', '홀베이셔도', '노미하니라', '어엿비너겨', '할따라미니']\n",
      "exp2: [' 사맛디 ', '\\n사람마다 ']\n"
     ]
    }
   ],
   "source": [
    "with open(\"훈민정음서문.txt\", \"r\") as hunmin:\n",
    "    hantext = hunmin.read()\n",
    "    exp1 = r\"[가-힣]{5}\"\n",
    "    print(\n",
    "        f\"exp1: {re.findall(exp1, hantext)}\"\n",
    "    )  # 한글로 이루어진 5글자 단어를 찾는 정규 표현식\n",
    "\n",
    "    exp2 = r\"\\s사[가-힣]*\\s\"  # 공백으로 시작하고 '사'로 시작하는 한글 단어를 찾는 정규 표현식\n",
    "    print(f\"exp2: {re.findall(exp2, hantext)}\")"
   ]
  },
  {
   "cell_type": "code",
   "execution_count": null,
   "metadata": {},
   "outputs": [],
   "source": [
    "# 전화번호\n",
    "# 0[1-8][0-9]?-[0-9]{3,4}-[0-9]{4}\n",
    "#\n",
    "# 이메일 주소\n",
    "# [a-zA-Z0-9._]+@([a-zA-Z0-9_-]+.){1,3}[a-zA-Z0-9_]{2,}"
   ]
  },
  {
   "cell_type": "code",
   "execution_count": 7,
   "metadata": {},
   "outputs": [
    {
     "name": "stdout",
     "output_type": "stream",
     "text": [
      "*번호 오류* 전화번호가 형식에 맞지 않습니다.\n",
      "**성공** 전화번호가 제대로 입력되었습니다!\n"
     ]
    }
   ],
   "source": [
    "import re\n",
    "\n",
    "telnum = True\n",
    "tel_exp = \"0[1-8][0-9]?-[0-9]{3,4}-[0-9]{4}\"\n",
    "\n",
    "while telnum:  # 전화번호가 입력될 때까지 반복\n",
    "    try:\n",
    "        telnum = input(\"전화번호를 입력하세요: \")\n",
    "        if not telnum:\n",
    "            raise ValueError(\"*입력 오류* 전화번호가 입력되지 않았습니다.\")\n",
    "        result = re.match(tel_exp, telnum)\n",
    "    except Exception:  #  입력 값이 없거나 잘못된 경우\n",
    "        print(\"*입력 오류* 전화번호가 제대로 입력되지 않았습니다.\")\n",
    "    else:\n",
    "        if result:\n",
    "            print(\"**성공** 전화번호가 제대로 입력되었습니다!\")\n",
    "            break\n",
    "        else:\n",
    "            print(\"*번호 오류* 전화번호가 형식에 맞지 않습니다.\")"
   ]
  },
  {
   "cell_type": "code",
   "execution_count": null,
   "metadata": {},
   "outputs": [
    {
     "data": {
      "text/plain": [
       "['사과', '딸기', '수박', '멜론', '바나나']"
      ]
     },
     "execution_count": 6,
     "metadata": {},
     "output_type": "execute_result"
    }
   ],
   "source": [
    "text = \"사과 딸기 수박 멜론 바나나\"\n",
    "re.split(\" \", text)  # 공백을 기준으로 문자열을 나누기"
   ]
  },
  {
   "cell_type": "code",
   "execution_count": 8,
   "metadata": {},
   "outputs": [
    {
     "data": {
      "text/plain": [
       "['사과', '딸기', '수박', '멜론', '바나나']"
      ]
     },
     "execution_count": 8,
     "metadata": {},
     "output_type": "execute_result"
    }
   ],
   "source": [
    "text = \"\"\"사과\n",
    "딸기\n",
    "수박\n",
    "멜론\n",
    "바나나\"\"\"\n",
    "re.split(\"\\n\", text)  # 줄바꿈 문자로 분리"
   ]
  }
 ],
 "metadata": {
  "kernelspec": {
   "display_name": "base",
   "language": "python",
   "name": "python3"
  },
  "language_info": {
   "codemirror_mode": {
    "name": "ipython",
    "version": 3
   },
   "file_extension": ".py",
   "mimetype": "text/x-python",
   "name": "python",
   "nbconvert_exporter": "python",
   "pygments_lexer": "ipython3",
   "version": "3.12.9"
  }
 },
 "nbformat": 4,
 "nbformat_minor": 2
}

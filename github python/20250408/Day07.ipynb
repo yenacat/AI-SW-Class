{
 "cells": [
  {
   "cell_type": "code",
   "execution_count": null,
   "metadata": {},
   "outputs": [
    {
     "name": "stdout",
     "output_type": "stream",
     "text": [
      "11\n",
      "13\n",
      "더할 수 없습니다.\n",
      "None\n"
     ]
    }
   ],
   "source": [
    "import mod1  # mod1.py\n",
    "\n",
    "print(mod1.sum(4, 7))\n",
    "print(mod1.safe_sum(4, 9))\n",
    "print(mod1.safe_sum(1, \"a\"))"
   ]
  },
  {
   "cell_type": "code",
   "execution_count": null,
   "metadata": {},
   "outputs": [
    {
     "name": "stdout",
     "output_type": "stream",
     "text": [
      "안녕하세요. 반가워요.\n",
      "만나서 반가웠어요. 안녕히가세요!\n"
     ]
    }
   ],
   "source": [
    "import test_package.say_hello, test_package.say_goodbye  # test_package/say_hello.py, test_package/say_goodbye.py\n",
    "\n",
    "test_package.say_hello.hello()\n",
    "test_package.say_goodbye.goodbye()"
   ]
  },
  {
   "cell_type": "code",
   "execution_count": null,
   "metadata": {},
   "outputs": [
    {
     "name": "stdout",
     "output_type": "stream",
     "text": [
      "안녕하세요. 반가워요.\n",
      "만나서 반가웠어요. 안녕히가세요!\n"
     ]
    }
   ],
   "source": [
    "from test_package import (\n",
    "    say_hello,\n",
    "    say_goodbye,\n",
    ")  # test_package/say_hello.py, test_package/say_goodbye.py\n",
    "\n",
    "say_hello.hello()\n",
    "say_goodbye.goodbye()"
   ]
  },
  {
   "cell_type": "code",
   "execution_count": 7,
   "metadata": {},
   "outputs": [
    {
     "name": "stdout",
     "output_type": "stream",
     "text": [
      "3.141592\n",
      "12.566368\n",
      "7.5415920000000005\n"
     ]
    }
   ],
   "source": [
    "runfile(\"mod2.py\")"
   ]
  },
  {
   "cell_type": "code",
   "execution_count": 13,
   "metadata": {},
   "outputs": [
    {
     "name": "stdout",
     "output_type": "stream",
     "text": [
      "3.141592\n",
      "12.566368\n",
      "7.5415920000000005\n",
      "7.5415920000000005\n"
     ]
    }
   ],
   "source": [
    "import mod2  # mod2.py\n",
    "\n",
    "print(mod2.PI)\n",
    "a = mod2.Math()\n",
    "print(a.solv(2))\n",
    "print(sum(PI, 4.4))\n",
    "\n",
    "print(mod2.sum(mod2.PI, 4.4))"
   ]
  },
  {
   "cell_type": "code",
   "execution_count": 16,
   "metadata": {},
   "outputs": [
    {
     "data": {
      "text/plain": [
       "'c:\\\\Users\\\\UserK\\\\projects\\\\github python\\\\20250408'"
      ]
     },
     "execution_count": 16,
     "metadata": {},
     "output_type": "execute_result"
    }
   ],
   "source": [
    "import os\n",
    "import sys\n",
    "\n",
    "os.getcwd()"
   ]
  },
  {
   "cell_type": "code",
   "execution_count": 17,
   "metadata": {},
   "outputs": [
    {
     "data": {
      "text/plain": [
       "['c:\\\\Users\\\\UserK\\\\projects\\\\github python\\\\20250408',\n",
       " 'c:\\\\ProgramData\\\\anaconda3\\\\python312.zip',\n",
       " 'c:\\\\ProgramData\\\\anaconda3\\\\DLLs',\n",
       " 'c:\\\\ProgramData\\\\anaconda3\\\\Lib',\n",
       " 'c:\\\\ProgramData\\\\anaconda3',\n",
       " '',\n",
       " 'c:\\\\ProgramData\\\\anaconda3\\\\Lib\\\\site-packages',\n",
       " 'c:\\\\ProgramData\\\\anaconda3\\\\Lib\\\\site-packages\\\\win32',\n",
       " 'c:\\\\ProgramData\\\\anaconda3\\\\Lib\\\\site-packages\\\\win32\\\\lib',\n",
       " 'c:\\\\ProgramData\\\\anaconda3\\\\Lib\\\\site-packages\\\\Pythonwin',\n",
       " 'c:\\\\ProgramData\\\\anaconda3\\\\Lib\\\\site-packages\\\\setuptools\\\\_vendor']"
      ]
     },
     "execution_count": 17,
     "metadata": {},
     "output_type": "execute_result"
    }
   ],
   "source": [
    "sys.path"
   ]
  },
  {
   "cell_type": "code",
   "execution_count": 18,
   "metadata": {},
   "outputs": [],
   "source": [
    "sys.path.append(os.getcwd())"
   ]
  },
  {
   "cell_type": "code",
   "execution_count": 19,
   "metadata": {},
   "outputs": [
    {
     "data": {
      "text/plain": [
       "['c:\\\\Users\\\\UserK\\\\projects\\\\github python\\\\20250408',\n",
       " 'c:\\\\ProgramData\\\\anaconda3\\\\python312.zip',\n",
       " 'c:\\\\ProgramData\\\\anaconda3\\\\DLLs',\n",
       " 'c:\\\\ProgramData\\\\anaconda3\\\\Lib',\n",
       " 'c:\\\\ProgramData\\\\anaconda3',\n",
       " '',\n",
       " 'c:\\\\ProgramData\\\\anaconda3\\\\Lib\\\\site-packages',\n",
       " 'c:\\\\ProgramData\\\\anaconda3\\\\Lib\\\\site-packages\\\\win32',\n",
       " 'c:\\\\ProgramData\\\\anaconda3\\\\Lib\\\\site-packages\\\\win32\\\\lib',\n",
       " 'c:\\\\ProgramData\\\\anaconda3\\\\Lib\\\\site-packages\\\\Pythonwin',\n",
       " 'c:\\\\ProgramData\\\\anaconda3\\\\Lib\\\\site-packages\\\\setuptools\\\\_vendor',\n",
       " 'c:\\\\Users\\\\UserK\\\\projects\\\\github python\\\\20250408']"
      ]
     },
     "execution_count": 19,
     "metadata": {},
     "output_type": "execute_result"
    }
   ],
   "source": [
    "sys.path"
   ]
  },
  {
   "cell_type": "code",
   "execution_count": 20,
   "metadata": {},
   "outputs": [],
   "source": [
    "sys.path.remove(os.getcwd())"
   ]
  },
  {
   "cell_type": "code",
   "execution_count": 21,
   "metadata": {},
   "outputs": [
    {
     "data": {
      "text/plain": [
       "['c:\\\\ProgramData\\\\anaconda3\\\\python312.zip',\n",
       " 'c:\\\\ProgramData\\\\anaconda3\\\\DLLs',\n",
       " 'c:\\\\ProgramData\\\\anaconda3\\\\Lib',\n",
       " 'c:\\\\ProgramData\\\\anaconda3',\n",
       " '',\n",
       " 'c:\\\\ProgramData\\\\anaconda3\\\\Lib\\\\site-packages',\n",
       " 'c:\\\\ProgramData\\\\anaconda3\\\\Lib\\\\site-packages\\\\win32',\n",
       " 'c:\\\\ProgramData\\\\anaconda3\\\\Lib\\\\site-packages\\\\win32\\\\lib',\n",
       " 'c:\\\\ProgramData\\\\anaconda3\\\\Lib\\\\site-packages\\\\Pythonwin',\n",
       " 'c:\\\\ProgramData\\\\anaconda3\\\\Lib\\\\site-packages\\\\setuptools\\\\_vendor',\n",
       " 'c:\\\\Users\\\\UserK\\\\projects\\\\github python\\\\20250408']"
      ]
     },
     "execution_count": 21,
     "metadata": {},
     "output_type": "execute_result"
    }
   ],
   "source": [
    "sys.path"
   ]
  },
  {
   "cell_type": "code",
   "execution_count": 23,
   "metadata": {},
   "outputs": [],
   "source": [
    "os.chdir(\"/Users/UserK\")"
   ]
  },
  {
   "cell_type": "code",
   "execution_count": 24,
   "metadata": {},
   "outputs": [
    {
     "data": {
      "text/plain": [
       "'c:\\\\Users\\\\UserK'"
      ]
     },
     "execution_count": 24,
     "metadata": {},
     "output_type": "execute_result"
    }
   ],
   "source": [
    "os.getcwd()"
   ]
  },
  {
   "cell_type": "code",
   "execution_count": 26,
   "metadata": {},
   "outputs": [],
   "source": [
    "os.chdir(\"/doit\")\n",
    "\n",
    "import mymod"
   ]
  },
  {
   "cell_type": "code",
   "execution_count": 50,
   "metadata": {},
   "outputs": [
    {
     "data": {
      "text/plain": [
       "array([[1., 2.],\n",
       "       [3., 4.]])"
      ]
     },
     "execution_count": 50,
     "metadata": {},
     "output_type": "execute_result"
    }
   ],
   "source": [
    "import numpy\n",
    "\n",
    "csv_data1 = numpy.loadtxt(\"data.csv\", delimiter=\",\")\n",
    "csv_data1"
   ]
  },
  {
   "cell_type": "code",
   "execution_count": null,
   "metadata": {},
   "outputs": [
    {
     "name": "stdout",
     "output_type": "stream",
     "text": [
      "회사명\n",
      "       0             1           2           3            4\n",
      "0    회사명           매출액        영업이익         순이익         부채총액\n",
      "1     벡스   3000000000   500000000   350000000   1000000000 \n",
      "2   삼성전자   4000000000   600000000   350000000   1000000000 \n",
      "3  현대자동차   5000000000   780000000   350000000   1000000000 \n",
      "4    포스코  12000000000   400000000   350000000   1000000000 \n"
     ]
    }
   ],
   "source": [
    "import pandas\n",
    "\n",
    "csv_data2 = pandas.read_csv(\"profit.csv\", header=None)\n",
    "print(csv_data2[0][0])\n",
    "print(csv_data2)"
   ]
  },
  {
   "cell_type": "code",
   "execution_count": null,
   "metadata": {},
   "outputs": [
    {
     "name": "stdout",
     "output_type": "stream",
     "text": [
      "010-1234-5678\n",
      "engineer@eng.kr\n",
      "bunny\n"
     ]
    }
   ],
   "source": [
    "class User:\n",
    "    phone_number = \"\"\n",
    "    email_address = \"\"\n",
    "    name = \"\"\n",
    "\n",
    "    def __init__(\n",
    "        self, phone_number, email_address, name\n",
    "    ):  # 초기 initialize 함수 => 생성자 constructor\n",
    "        # self는 자기 자신을 가리키는 변수\n",
    "        self.phone_number = phone_number\n",
    "        self.email_address = email_address\n",
    "        self.name = name\n",
    "\n",
    "    def getPhoneNumber(self):\n",
    "        return self.phone_number\n",
    "\n",
    "    def getEmailAddress(self):\n",
    "        return self.email_address\n",
    "\n",
    "    def getName(self):\n",
    "        return self.name\n",
    "\n",
    "\n",
    "user1 = User(\"010-1234-5678\", \"engineer@eng.kr\", \"bunny\")\n",
    "\n",
    "print(user1.getPhoneNumber())\n",
    "print(user1.getEmailAddress())\n",
    "print(user1.getName())"
   ]
  },
  {
   "cell_type": "code",
   "execution_count": 1,
   "metadata": {},
   "outputs": [
    {
     "name": "stdout",
     "output_type": "stream",
     "text": [
      "3\n",
      "7\n",
      "5\n",
      "11\n"
     ]
    }
   ],
   "source": [
    "class Calculator:\n",
    "    def __init__(self):\n",
    "        self.result = 0\n",
    "\n",
    "    def add(self, num):\n",
    "        self.result += num\n",
    "        return self.result\n",
    "\n",
    "    def sub(self, num):\n",
    "        self.result -= num\n",
    "        return self.result\n",
    "\n",
    "    def mul(self, num):\n",
    "        self.result *= num\n",
    "        return self.result\n",
    "\n",
    "    def div(self, num):\n",
    "        self.result /= num\n",
    "        return self.result\n",
    "\n",
    "\n",
    "cal1 = Calculator()\n",
    "cal2 = Calculator()\n",
    "\n",
    "print(cal1.add(3))\n",
    "print(cal1.add(4))\n",
    "print(cal2.add(5))\n",
    "print(cal2.add(6))"
   ]
  },
  {
   "cell_type": "code",
   "execution_count": null,
   "metadata": {},
   "outputs": [
    {
     "name": "stdout",
     "output_type": "stream",
     "text": [
      "4\n",
      "2\n",
      "4\n",
      "2\n"
     ]
    }
   ],
   "source": [
    "class FourCal:\n",
    "    def setdata(self, first, second):\n",
    "        self.first = first\n",
    "        self.second = second\n",
    "\n",
    "\n",
    "a = FourCal()\n",
    "\n",
    "a.setdata(4, 2)\n",
    "print(a.first)\n",
    "print(a.second)\n",
    "\n",
    "FourCal.setdata(a, 4, 2)\n",
    "print(a.first)\n",
    "print(a.second)"
   ]
  },
  {
   "cell_type": "code",
   "execution_count": null,
   "metadata": {},
   "outputs": [
    {
     "name": "stdout",
     "output_type": "stream",
     "text": [
      "4\n",
      "2 \n",
      "\n",
      "6 \n",
      "\n",
      "1 \n",
      "\n",
      "15\n",
      "2 \n",
      "\n",
      "6\n",
      "3 \n",
      "\n",
      "15\n",
      "4 \n",
      "\n",
      "4\n",
      "4\n"
     ]
    }
   ],
   "source": [
    "class FourCal:\n",
    "    count = 0\n",
    "\n",
    "    def setdata(self, first, second):\n",
    "        self.first = first\n",
    "        self.second = second\n",
    "\n",
    "    def sum(self):\n",
    "        result = self.first + self.second\n",
    "        FourCal.count += 1\n",
    "        return result\n",
    "\n",
    "\n",
    "a = FourCal()\n",
    "\n",
    "b = FourCal()\n",
    "\n",
    "a.setdata(4, 2)\n",
    "print(a.first)\n",
    "print(a.second, \"\\n\")\n",
    "\n",
    "print(a.sum(), \"\\n\")\n",
    "\n",
    "print(FourCal.count, \"\\n\")\n",
    "\n",
    "b.setdata(7, 8)\n",
    "\n",
    "print(b.sum())\n",
    "print(FourCal.count, \"\\n\")\n",
    "\n",
    "print(a.sum())\n",
    "print(FourCal.count, \"\\n\")\n",
    "\n",
    "print(b.sum())\n",
    "print(FourCal.count, \"\\n\")\n",
    "\n",
    "print(a.count)  # = FourCal.count\n",
    "print(b.count)  # = FourCal.count"
   ]
  },
  {
   "cell_type": "code",
   "execution_count": 17,
   "metadata": {},
   "outputs": [
    {
     "name": "stdout",
     "output_type": "stream",
     "text": [
      "--클래스 속성 변경--\n",
      "10 10\n",
      "--인스턴스 속성 변경--\n",
      "10 10\n",
      "--속성(Attribute) 확인--\n",
      "{'instance_value': 20}\n",
      "{'instance_value': 0}\n"
     ]
    }
   ],
   "source": [
    "class Yeeun:\n",
    "    class_value = 0\n",
    "\n",
    "    def __init__(self):\n",
    "        self.instance_value = 0\n",
    "\n",
    "    def set_class_value(self):\n",
    "        Yeeun.class_value = 10\n",
    "\n",
    "    def set_instance_value(self):\n",
    "        self.instance_value = 20\n",
    "\n",
    "\n",
    "instance1 = Yeeun()\n",
    "instance2 = Yeeun()\n",
    "\n",
    "print(\"--클래스 속성 변경--\")\n",
    "instance1.set_class_value()\n",
    "print(instance1.class_value, instance2.class_value)\n",
    "\n",
    "print(\"--인스턴스 속성 변경--\")\n",
    "instance1.set_instance_value()\n",
    "print(instance1.class_value, instance2.class_value)\n",
    "\n",
    "print(\"--속성(Attribute) 확인--\")\n",
    "print(instance1.__dict__)\n",
    "print(instance2.__dict__)\n"
   ]
  },
  {
   "cell_type": "code",
   "execution_count": 31,
   "metadata": {},
   "outputs": [
    {
     "name": "stdout",
     "output_type": "stream",
     "text": [
      "3\n",
      "36\n",
      "310\n"
     ]
    }
   ],
   "source": [
    "a = 3\n",
    "print(a)\n",
    "print(_ + 5)\n",
    "print(_ * 10)"
   ]
  },
  {
   "cell_type": "code",
   "execution_count": null,
   "metadata": {},
   "outputs": [
    {
     "name": "stdout",
     "output_type": "stream",
     "text": [
      "64\n",
      "7\n",
      "4\n"
     ]
    }
   ],
   "source": [
    "class FourCal:\n",
    "    def __init__(self, first, second):\n",
    "        self.first = first\n",
    "        self.second = second\n",
    "\n",
    "    def sum(self):\n",
    "        result = self.first + self.second\n",
    "        return result\n",
    "\n",
    "\n",
    "class MoreFourCal(FourCal):  # FourCal 클래스를 상속받음\n",
    "    def pow(self):\n",
    "        result = self.first**self.second\n",
    "        return result\n",
    "\n",
    "\n",
    "m = MoreFourCal(4, 3)\n",
    "\n",
    "print(m.pow())  # 4^3 = 64\n",
    "print(m.sum())  # 4 + 3 = 7\n",
    "print(m.first)"
   ]
  },
  {
   "cell_type": "code",
   "execution_count": null,
   "metadata": {},
   "outputs": [
    {
     "name": "stdout",
     "output_type": "stream",
     "text": [
      "36\n"
     ]
    }
   ],
   "source": [
    "class Calculator:\n",
    "    def __init__(self, first, second):\n",
    "        self.first = first\n",
    "        self.second = second\n",
    "\n",
    "    def add(self):\n",
    "        result = self.first + self.second\n",
    "        return result\n",
    "\n",
    "    def mul(self):\n",
    "        result = self.first * self.second\n",
    "        return result\n",
    "\n",
    "    def sub(self):\n",
    "        result = self.first - self.second\n",
    "        return result\n",
    "\n",
    "    def div(self):\n",
    "        result = self.first / self.second\n",
    "        return result\n",
    "\n",
    "\n",
    "class Scientific_calculator(Calculator):\n",
    "    pass\n",
    "\n",
    "\n",
    "scientific_1 = Scientific_calculator(6, 6)\n",
    "print(scientific_1.mul())"
   ]
  },
  {
   "cell_type": "code",
   "execution_count": 36,
   "metadata": {},
   "outputs": [
    {
     "name": "stdout",
     "output_type": "stream",
     "text": [
      "BaseClass's myfunc\n",
      "InhClass's myfunc\n"
     ]
    }
   ],
   "source": [
    "class BaseClass:\n",
    "    def myfunc(self):\n",
    "        print(\"BaseClass's myfunc\")\n",
    "\n",
    "\n",
    "class InhClass(BaseClass):\n",
    "    def myfunc(self):\n",
    "        print(\"InhClass's myfunc\")\n",
    "\n",
    "\n",
    "ex1 = BaseClass()\n",
    "ex1.myfunc()\n",
    "\n",
    "ex2 = InhClass()\n",
    "ex2.myfunc()"
   ]
  },
  {
   "cell_type": "code",
   "execution_count": null,
   "metadata": {},
   "outputs": [
    {
     "name": "stdout",
     "output_type": "stream",
     "text": [
      "Base1\n",
      "400\n"
     ]
    }
   ],
   "source": [
    "class Base1:\n",
    "    def myfunc(self):\n",
    "        print(\"Base1\")\n",
    "\n",
    "\n",
    "class Base2:\n",
    "    member1 = 100\n",
    "    member2 = 200\n",
    "\n",
    "\n",
    "class Base3:\n",
    "    def myfunc2(self, a, b):\n",
    "        print(a + b)\n",
    "\n",
    "\n",
    "class InhClass(Base1, Base2, Base3):\n",
    "    member3 = 300\n",
    "\n",
    "\n",
    "ex1 = InhClass()\n",
    "ex1.myfunc()\n",
    "\n",
    "ex1.myfunc2(ex1.member1, ex1.member3)"
   ]
  },
  {
   "cell_type": "code",
   "execution_count": 40,
   "metadata": {},
   "outputs": [
    {
     "name": "stdout",
     "output_type": "stream",
     "text": [
      "안녕하세요. B입니다.\n"
     ]
    },
    {
     "data": {
      "text/plain": [
       "[__main__.D, __main__.B, __main__.C, __main__.A, object]"
      ]
     },
     "execution_count": 40,
     "metadata": {},
     "output_type": "execute_result"
    }
   ],
   "source": [
    "class A:\n",
    "    def greeting(self):\n",
    "        print(\"안녕하세요. A입니다.\")\n",
    "\n",
    "\n",
    "class B(A):\n",
    "    def greeting(self):\n",
    "        print(\"안녕하세요. B입니다.\")\n",
    "\n",
    "\n",
    "class C(A):\n",
    "    def greeting(self):\n",
    "        print(\"안녕하세요. C입니다.\")\n",
    "\n",
    "\n",
    "class D(B, C):\n",
    "    pass\n",
    "\n",
    "\n",
    "x = D()\n",
    "x.greeting()  # B의 greeting() 메서드 호출\n",
    "\n",
    "D.mro()  # 메서드 탐색 순서 확인"
   ]
  },
  {
   "cell_type": "code",
   "execution_count": null,
   "metadata": {},
   "outputs": [
    {
     "name": "stdout",
     "output_type": "stream",
     "text": [
      "안녕하세요.\n",
      "안녕하세요.\n",
      "저는 파이썬 코딩 도장 학생입니다.\n"
     ]
    }
   ],
   "source": [
    "class Person:\n",
    "    def greeting(self):\n",
    "        print(\"안녕하세요.\")\n",
    "\n",
    "\n",
    "class Student(Person):\n",
    "    def greeting(self):\n",
    "        super().greeting()  # 부모 클래스의 greeting() 메서드 호출\n",
    "        print(\"저는 파이썬 코딩 도장 학생입니다.\")\n",
    "\n",
    "\n",
    "tom = Person()\n",
    "tom.greeting()\n",
    "\n",
    "james = Student()\n",
    "james.greeting()"
   ]
  },
  {
   "cell_type": "code",
   "execution_count": null,
   "metadata": {},
   "outputs": [
    {
     "name": "stdout",
     "output_type": "stream",
     "text": [
      "20\n",
      "홍길동님 당신의 점수는 B입니다.\n"
     ]
    }
   ],
   "source": [
    "class Data:\n",
    "    def __init__(self, data):\n",
    "        tmp = data.split(\"|\")\n",
    "        self.name = tmp[0]\n",
    "        self.age = tmp[1]\n",
    "        self.grade = tmp[2]\n",
    "\n",
    "    def print_age(self):\n",
    "        print(self.age)\n",
    "\n",
    "    def print_grade(self):\n",
    "        print(f\"{self.name}님 당신의 점수는 {self.grade}입니다.\")\n",
    "\n",
    "\n",
    "data = Data(\"홍길동|20|B\")\n",
    "\n",
    "data.print_age()\n",
    "data.print_grade()"
   ]
  },
  {
   "cell_type": "code",
   "execution_count": null,
   "metadata": {},
   "outputs": [
    {
     "name": "stdout",
     "output_type": "stream",
     "text": [
      "7\n"
     ]
    }
   ],
   "source": [
    "class Calculator:\n",
    "    def __init__(self):\n",
    "        self.value = 0\n",
    "\n",
    "    def add(self, val):\n",
    "        self.value += val\n",
    "\n",
    "\n",
    "cal = Calculator()\n",
    "cal.add(3)\n",
    "cal.add(4)\n",
    "\n",
    "print(cal.value)"
   ]
  }
 ],
 "metadata": {
  "kernelspec": {
   "display_name": "base",
   "language": "python",
   "name": "python3"
  },
  "language_info": {
   "codemirror_mode": {
    "name": "ipython",
    "version": 3
   },
   "file_extension": ".py",
   "mimetype": "text/x-python",
   "name": "python",
   "nbconvert_exporter": "python",
   "pygments_lexer": "ipython3",
   "version": "3.12.7"
  }
 },
 "nbformat": 4,
 "nbformat_minor": 2
}

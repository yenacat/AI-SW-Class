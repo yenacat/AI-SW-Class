{
 "cells": [
  {
   "cell_type": "code",
   "execution_count": 19,
   "metadata": {},
   "outputs": [
    {
     "name": "stdout",
     "output_type": "stream",
     "text": [
      "[[ 0  1  2  3  4]\n",
      " [ 5  6  7  8  9]\n",
      " [10 11 12 13 14]]\n"
     ]
    }
   ],
   "source": [
    "import numpy as np\n",
    "\n",
    "a = np.arange(15).reshape(3, 5)\n",
    "print(a)"
   ]
  },
  {
   "cell_type": "code",
   "execution_count": 21,
   "metadata": {},
   "outputs": [
    {
     "name": "stdout",
     "output_type": "stream",
     "text": [
      "(3, 5)\n",
      "int32\n",
      "4\n",
      "15\n"
     ]
    }
   ],
   "source": [
    "print(a.shape)\n",
    "print(a.dtype.name)\n",
    "print(a.itemsize)\n",
    "print(a.size)"
   ]
  },
  {
   "cell_type": "code",
   "execution_count": 8,
   "metadata": {},
   "outputs": [
    {
     "name": "stdout",
     "output_type": "stream",
     "text": [
      "[6 7 8]\n"
     ]
    }
   ],
   "source": [
    "b = np.array([6, 7, 8])\n",
    "print(b)"
   ]
  },
  {
   "cell_type": "code",
   "execution_count": 15,
   "metadata": {},
   "outputs": [
    {
     "name": "stdout",
     "output_type": "stream",
     "text": [
      "str352\n"
     ]
    }
   ],
   "source": [
    "c = np.array([1, \"two\", 3, 4])\n",
    "print(c.dtype.name)"
   ]
  },
  {
   "cell_type": "code",
   "execution_count": 23,
   "metadata": {},
   "outputs": [
    {
     "name": "stdout",
     "output_type": "stream",
     "text": [
      "float64\n"
     ]
    }
   ],
   "source": [
    "a = np.array([1.2, 3.5, 5.1])\n",
    "print(a.dtype)"
   ]
  },
  {
   "cell_type": "code",
   "execution_count": 24,
   "metadata": {},
   "outputs": [
    {
     "name": "stdout",
     "output_type": "stream",
     "text": [
      "[2, 4, 5]\n"
     ]
    },
    {
     "data": {
      "text/plain": [
       "[2, 4, 5]"
      ]
     },
     "execution_count": 24,
     "metadata": {},
     "output_type": "execute_result"
    }
   ],
   "source": [
    "a = [2, 4, 5]\n",
    "print(a)\n",
    "a"
   ]
  },
  {
   "cell_type": "code",
   "execution_count": 29,
   "metadata": {},
   "outputs": [
    {
     "name": "stdout",
     "output_type": "stream",
     "text": [
      "[2 4 5]\n",
      "4\n",
      "4\n"
     ]
    },
    {
     "data": {
      "text/plain": [
       "array([2, 4, 5])"
      ]
     },
     "execution_count": 29,
     "metadata": {},
     "output_type": "execute_result"
    }
   ],
   "source": [
    "aa = np.array(a)\n",
    "print(aa)\n",
    "print(aa[1])\n",
    "print(a[1])\n",
    "aa"
   ]
  },
  {
   "cell_type": "code",
   "execution_count": 33,
   "metadata": {},
   "outputs": [
    {
     "name": "stdout",
     "output_type": "stream",
     "text": [
      "[0 1 2 3 4 5 6 7 8 9]\n",
      "5\n",
      "[5 6 7]\n"
     ]
    }
   ],
   "source": [
    "arr = np.arange(10)\n",
    "print(arr)\n",
    "print(arr[5])\n",
    "print(arr[5:8])"
   ]
  },
  {
   "cell_type": "code",
   "execution_count": 34,
   "metadata": {},
   "outputs": [
    {
     "name": "stdout",
     "output_type": "stream",
     "text": [
      "[ 0  1  2  3  4 12 12 12  8  9]\n"
     ]
    }
   ],
   "source": [
    "arr[5:8] = 12\n",
    "print(arr)"
   ]
  },
  {
   "cell_type": "code",
   "execution_count": 39,
   "metadata": {},
   "outputs": [
    {
     "name": "stdout",
     "output_type": "stream",
     "text": [
      "[   12 12345    12]\n",
      "[    0     1     2     3     4    12 12345    12     8     9]\n",
      "[ 0  1  2  3  4 64 64 64  8  9]\n"
     ]
    }
   ],
   "source": [
    "arr_slice = arr[5:8]\n",
    "print(arr_slice)\n",
    "\n",
    "arr_slice[1] = 12345\n",
    "print(arr)\n",
    "\n",
    "arr_slice[:] = 64\n",
    "print(arr)"
   ]
  },
  {
   "cell_type": "code",
   "execution_count": 42,
   "metadata": {},
   "outputs": [
    {
     "name": "stdout",
     "output_type": "stream",
     "text": [
      "[64 64 64]\n",
      "[ 0  1  2  3  4 64 64 64  8  9]\n",
      "[8 8 8]\n",
      "[ 0  1  2  3  4 64 64 64  8  9]\n"
     ]
    }
   ],
   "source": [
    "arr_slice_copy = arr[5:8].copy()\n",
    "print(arr_slice_copy)\n",
    "print(arr)\n",
    "\n",
    "arr_slice_copy[:] = 8\n",
    "print(arr_slice_copy)\n",
    "print(arr)"
   ]
  },
  {
   "cell_type": "code",
   "execution_count": 52,
   "metadata": {},
   "outputs": [
    {
     "name": "stdout",
     "output_type": "stream",
     "text": [
      "[1 2 3 4 5 6]\n",
      "[1 2 3 4 5 6]\n"
     ]
    }
   ],
   "source": [
    "a1 = np.array([1, 2, 3, 4, 5, 6])\n",
    "ab1 = np.array((1, 2, 3, 4, 5, 6))\n",
    "\n",
    "print(a1)\n",
    "print(ab1)"
   ]
  },
  {
   "cell_type": "code",
   "execution_count": null,
   "metadata": {},
   "outputs": [
    {
     "name": "stdout",
     "output_type": "stream",
     "text": [
      "[0. 0. 0.]\n",
      "[1. 1. 1.]\n",
      "[1 2 3 4 5 6]\n",
      "[[1. 0. 0.]\n",
      " [0. 1. 0.]\n",
      " [0. 0. 1.]]\n"
     ]
    }
   ],
   "source": [
    "a2 = np.zeros(3)  # 1행 3열의 0으로 된 1차원 배열 vector 생성\n",
    "print(a2)\n",
    "\n",
    "a3 = np.ones(3)  # 1행 3열의 1로 된 1차원 배열 vector 생성\n",
    "print(a3)\n",
    "\n",
    "a4 = np.arange(1, 7, 1)  # 1부터 6까지 1씩 증가하는 1차원 배열 vector 생성\n",
    "print(a4)\n",
    "\n",
    "k1 = np.eye(3)  # 3행 3열의 단위행렬(identity matrix) 생성\n",
    "print(k1)"
   ]
  },
  {
   "cell_type": "code",
   "execution_count": null,
   "metadata": {},
   "outputs": [
    {
     "name": "stdout",
     "output_type": "stream",
     "text": [
      "[0. 0. 0. 0. 0.]\n",
      "\n",
      "--------------------\n",
      "\n",
      "[[[1. 1. 1. 1.]\n",
      "  [1. 1. 1. 1.]\n",
      "  [1. 1. 1. 1.]]\n",
      "\n",
      " [[1. 1. 1. 1.]\n",
      "  [1. 1. 1. 1.]\n",
      "  [1. 1. 1. 1.]]]\n",
      "\n",
      "--------------------\n",
      "\n",
      "[[1. 0. 0.]\n",
      " [0. 1. 0.]\n",
      " [0. 0. 1.]]\n"
     ]
    }
   ],
   "source": [
    "z = np.zeros(5)\n",
    "o = np.ones([2, 3, 4])\n",
    "n = np.eye(3)\n",
    "\n",
    "print(z)\n",
    "print(\"\\n--------------------\\n\")\n",
    "print(o)\n",
    "print(\"\\n--------------------\\n\")\n",
    "print(n)"
   ]
  },
  {
   "cell_type": "code",
   "execution_count": 80,
   "metadata": {},
   "outputs": [
    {
     "name": "stdout",
     "output_type": "stream",
     "text": [
      "[1 2 3 4 5 6]\n",
      "1\n",
      "(6,)\n",
      "[[1 2 3]\n",
      " [4 5 6]]\n",
      "[[1 2]\n",
      " [3 4]\n",
      " [5 6]]\n",
      "[[1]\n",
      " [2]\n",
      " [3]\n",
      " [4]\n",
      " [5]\n",
      " [6]]\n",
      "[[1 2 3 4 5 6]]\n"
     ]
    }
   ],
   "source": [
    "print(a1)\n",
    "print(a1.ndim)\n",
    "print(a1.shape)\n",
    "\n",
    "a1.shape = (2, 3)  # 2행 3열로 변경\n",
    "print(a1)\n",
    "\n",
    "a1.shape = (3, 2)  # 3행 2열로 변경\n",
    "print(a1)\n",
    "\n",
    "a1.shape = (6, 1)  # 6행 1열로 변경\n",
    "print(a1)\n",
    "\n",
    "a1.shape = (1, 6)  # 1행 6열로 변경 = a1.shape(6,)\n",
    "print(a1)"
   ]
  },
  {
   "cell_type": "code",
   "execution_count": 91,
   "metadata": {},
   "outputs": [
    {
     "name": "stdout",
     "output_type": "stream",
     "text": [
      "[[0.28067442 0.6759884  0.03461038]\n",
      " [0.74317534 0.99274273 0.16308069]]\n"
     ]
    }
   ],
   "source": [
    "k = np.random.random((2, 3))\n",
    "print(k)"
   ]
  },
  {
   "cell_type": "code",
   "execution_count": 84,
   "metadata": {},
   "outputs": [
    {
     "name": "stdout",
     "output_type": "stream",
     "text": [
      "[[7 7]\n",
      " [7 7]]\n"
     ]
    }
   ],
   "source": [
    "f = np.full((2, 2), 7)  # 2행 2열의 모든 원소가 7인 배열 생성\n",
    "print(f)"
   ]
  },
  {
   "cell_type": "code",
   "execution_count": 100,
   "metadata": {},
   "outputs": [
    {
     "name": "stdout",
     "output_type": "stream",
     "text": [
      "6\n",
      "6\n"
     ]
    }
   ],
   "source": [
    "na = np.array([1, 2, 3, 4, 5, 6, 7, 8])\n",
    "na2 = na.reshape(2, 4)\n",
    "print(na2[1, 1])\n",
    "print(na2[1][1])"
   ]
  },
  {
   "cell_type": "code",
   "execution_count": null,
   "metadata": {},
   "outputs": [
    {
     "name": "stdout",
     "output_type": "stream",
     "text": [
      "[[[  0   1   2   3]\n",
      "  [  4   5   6   7]\n",
      "  [  8   9  10  11]]\n",
      "\n",
      " [[  0   1   2   3]\n",
      "  [  4   5 100   7]\n",
      "  [  8   9  10  11]]] (2, 3, 4)\n"
     ]
    }
   ],
   "source": [
    "array = np.array(\n",
    "    [\n",
    "        [[0, 1, 2, 3], [4, 5, 6, 7], [8, 9, 10, 11]],\n",
    "        [[0, 1, 2, 3], [4, 5, 100, 7], [8, 9, 10, 11]],\n",
    "    ]\n",
    ")\n",
    "\n",
    "print(array, array.shape)\n",
    "# 배열의 가장 바깥 부분 대괄호 개수를 보면 해당 array가 몇 차원인지 알 수 있다. 예) 3개 -> 3차원"
   ]
  },
  {
   "cell_type": "code",
   "execution_count": 111,
   "metadata": {},
   "outputs": [
    {
     "name": "stdout",
     "output_type": "stream",
     "text": [
      "[[ 6.  8.]\n",
      " [10. 12.]]\n",
      "[[ 6.  8.]\n",
      " [10. 12.]]\n",
      "\n",
      "--------------------\n",
      "\n",
      "[[-4. -4.]\n",
      " [-4. -4.]]\n",
      "[[-4. -4.]\n",
      " [-4. -4.]]\n",
      "\n",
      "--------------------\n",
      "\n",
      "[[ 5. 12.]\n",
      " [21. 32.]]\n",
      "[[ 5. 12.]\n",
      " [21. 32.]]\n",
      "\n",
      "--------------------\n",
      "\n",
      "[[0.2        0.33333333]\n",
      " [0.42857143 0.5       ]]\n",
      "[[0.2        0.33333333]\n",
      " [0.42857143 0.5       ]]\n"
     ]
    }
   ],
   "source": [
    "x = np.array([[1, 2], [3, 4]], dtype=np.float64)\n",
    "y = np.array([[5, 6], [7, 8]], dtype=np.float64)\n",
    "\n",
    "print(x + y)\n",
    "print(np.add(x, y))\n",
    "\n",
    "print(\"\\n--------------------\\n\")\n",
    "\n",
    "print(x - y)\n",
    "print(np.subtract(x, y))\n",
    "\n",
    "print(\"\\n--------------------\\n\")\n",
    "\n",
    "print(x * y)\n",
    "print(np.multiply(x, y))\n",
    "\n",
    "print(\"\\n--------------------\\n\")\n",
    "\n",
    "print(x / y)\n",
    "print(np.divide(x, y))"
   ]
  },
  {
   "cell_type": "code",
   "execution_count": null,
   "metadata": {},
   "outputs": [
    {
     "name": "stdout",
     "output_type": "stream",
     "text": [
      "[[1.         1.41421356]\n",
      " [1.73205081 2.        ]]\n"
     ]
    }
   ],
   "source": [
    "print(np.sqrt(x))"
   ]
  },
  {
   "cell_type": "code",
   "execution_count": 120,
   "metadata": {},
   "outputs": [
    {
     "name": "stdout",
     "output_type": "stream",
     "text": [
      "219\n",
      "219\n",
      "219\n",
      "\n",
      "[29 67]\n",
      "[29 67]\n",
      "[29 67]\n",
      "\n",
      "[[19 22]\n",
      " [43 50]]\n",
      "[[19 22]\n",
      " [43 50]]\n",
      "[[19 22]\n",
      " [43 50]]\n"
     ]
    }
   ],
   "source": [
    "x = np.array([[1, 2], [3, 4]])\n",
    "y = np.array([[5, 6], [7, 8]])\n",
    "v = np.array([9, 10])\n",
    "w = np.array([11, 12])\n",
    "\n",
    "#  벡터의 내적\n",
    "print(v @ w)\n",
    "print(v.dot(w))\n",
    "print(np.dot(v, w))\n",
    "\n",
    "print(\"\")\n",
    "#  행렬과 벡터의 곱\n",
    "print(x @ v)\n",
    "print(x.dot(v))\n",
    "print(np.dot(x, v))\n",
    "\n",
    "print(\"\")\n",
    "#  행렬곱\n",
    "print(x @ y)\n",
    "print(x.dot(y))\n",
    "print(np.dot(x, y))"
   ]
  },
  {
   "cell_type": "code",
   "execution_count": 123,
   "metadata": {},
   "outputs": [
    {
     "name": "stdout",
     "output_type": "stream",
     "text": [
      "<class 'list'>\n",
      "[1, 2, 3, 1, 2, 3]\n",
      "[1, 2, 3, 3, 4, 5]\n"
     ]
    }
   ],
   "source": [
    "a = [1, 2, 3]\n",
    "b = [3, 4, 5]\n",
    "\n",
    "print(type(a))\n",
    "print(2 * a)\n",
    "print(a + b)"
   ]
  },
  {
   "cell_type": "code",
   "execution_count": 124,
   "metadata": {},
   "outputs": [
    {
     "name": "stdout",
     "output_type": "stream",
     "text": [
      "<class 'numpy.ndarray'>\n",
      "[2 4 6]\n",
      "[4 6 8]\n"
     ]
    }
   ],
   "source": [
    "a = np.array([1, 2, 3])\n",
    "b = np.array([3, 4, 5])\n",
    "\n",
    "print(type(a))\n",
    "print(2 * a)\n",
    "print(a + b)"
   ]
  },
  {
   "cell_type": "code",
   "execution_count": null,
   "metadata": {},
   "outputs": [
    {
     "name": "stdout",
     "output_type": "stream",
     "text": [
      "6\n",
      "(2, 3)\n"
     ]
    }
   ],
   "source": [
    "c = np.array([[1, 2, 3], [4, 5, 6]])\n",
    "\n",
    "print(c.size)\n",
    "print(c.shape)"
   ]
  },
  {
   "cell_type": "code",
   "execution_count": null,
   "metadata": {},
   "outputs": [
    {
     "data": {
      "text/plain": [
       "array([[0, 1, 2, 3, 4],\n",
       "       [5, 6, 7, 8, 9]])"
      ]
     },
     "execution_count": 127,
     "metadata": {},
     "output_type": "execute_result"
    }
   ],
   "source": [
    "np.arange(10).reshape(2, 5)  #  0부터 9까지의 정수 배열을 생성 후 2행 5열로 변환"
   ]
  },
  {
   "cell_type": "code",
   "execution_count": null,
   "metadata": {},
   "outputs": [
    {
     "data": {
      "text/plain": [
       "array([2. , 2.1, 2.2, 2.3, 2.4, 2.5, 2.6, 2.7, 2.8, 2.9])"
      ]
     },
     "execution_count": 128,
     "metadata": {},
     "output_type": "execute_result"
    }
   ],
   "source": [
    "np.arange(2, 3, 0.1)  # 2부터 3까지 0.1씩 증가하는 배열 생성"
   ]
  },
  {
   "cell_type": "code",
   "execution_count": null,
   "metadata": {},
   "outputs": [
    {
     "data": {
      "text/plain": [
       "array([1. , 1.6, 2.2, 2.8, 3.4, 4. ])"
      ]
     },
     "execution_count": 136,
     "metadata": {},
     "output_type": "execute_result"
    }
   ],
   "source": [
    "np.linspace(1.0, 4.0, 6)  # 1.0부터 4.0까지 6개로 나누어 생성"
   ]
  },
  {
   "cell_type": "code",
   "execution_count": null,
   "metadata": {},
   "outputs": [
    {
     "data": {
      "text/plain": [
       "array([[0, 0],\n",
       "       [0, 0]])"
      ]
     },
     "execution_count": 137,
     "metadata": {},
     "output_type": "execute_result"
    }
   ],
   "source": [
    "np.zeros((2, 2), int)"
   ]
  },
  {
   "cell_type": "code",
   "execution_count": null,
   "metadata": {},
   "outputs": [
    {
     "data": {
      "text/plain": [
       "array([[0., 0.],\n",
       "       [0., 0.]])"
      ]
     },
     "execution_count": 138,
     "metadata": {},
     "output_type": "execute_result"
    }
   ],
   "source": [
    "np.zeros((2, 2), float)"
   ]
  },
  {
   "cell_type": "code",
   "execution_count": null,
   "metadata": {},
   "outputs": [
    {
     "data": {
      "text/plain": [
       "array([[1., 1.],\n",
       "       [1., 1.]])"
      ]
     },
     "execution_count": 139,
     "metadata": {},
     "output_type": "execute_result"
    }
   ],
   "source": [
    "np.ones((2, 2))  # 2행 2열의 모든 원소가 1인 float 배열 생성"
   ]
  },
  {
   "cell_type": "code",
   "execution_count": null,
   "metadata": {},
   "outputs": [
    {
     "data": {
      "text/plain": [
       "array([[7, 7],\n",
       "       [7, 7]])"
      ]
     },
     "execution_count": 142,
     "metadata": {},
     "output_type": "execute_result"
    }
   ],
   "source": [
    "np.full((2, 2), 7)  # 2행 2열의 모든 원소가 7인 배열 생성"
   ]
  },
  {
   "cell_type": "code",
   "execution_count": null,
   "metadata": {},
   "outputs": [
    {
     "data": {
      "text/plain": [
       "array([[1., 0., 0., 0.],\n",
       "       [0., 1., 0., 0.],\n",
       "       [0., 0., 1., 0.],\n",
       "       [0., 0., 0., 1.]])"
      ]
     },
     "execution_count": 143,
     "metadata": {},
     "output_type": "execute_result"
    }
   ],
   "source": [
    "np.eye(4)  # 4행 4열의 단위행렬(identity matrix) 생성"
   ]
  },
  {
   "cell_type": "code",
   "execution_count": null,
   "metadata": {},
   "outputs": [
    {
     "data": {
      "text/plain": [
       "array([[0.56334212, 0.79700955, 0.64166462],\n",
       "       [0.85852649, 0.94485164, 0.58876427]])"
      ]
     },
     "execution_count": 144,
     "metadata": {},
     "output_type": "execute_result"
    }
   ],
   "source": [
    "np.random.random((2, 3))  # 2행 3열의 0에서 1 사이의 랜덤한 실수 배열 생성"
   ]
  },
  {
   "cell_type": "code",
   "execution_count": null,
   "metadata": {},
   "outputs": [
    {
     "data": {
      "text/plain": [
       "array([[2, 5, 5],\n",
       "       [6, 9, 1]])"
      ]
     },
     "execution_count": 145,
     "metadata": {},
     "output_type": "execute_result"
    }
   ],
   "source": [
    "np.random.randint(1, 10, (2, 3))  # 1부터 10까지의 정수 중에서 랜덤한 2행 3열 배열 생성"
   ]
  },
  {
   "cell_type": "code",
   "execution_count": 155,
   "metadata": {},
   "outputs": [
    {
     "data": {
      "text/plain": [
       "array([[ 1,  2,  3,  4],\n",
       "       [ 5,  6,  7,  8],\n",
       "       [ 9, 10, 11, 12]])"
      ]
     },
     "execution_count": 155,
     "metadata": {},
     "output_type": "execute_result"
    }
   ],
   "source": [
    "a = np.array([[1, 2, 3, 4], [5, 6, 7, 8], [9, 10, 11, 12]])\n",
    "a"
   ]
  },
  {
   "cell_type": "code",
   "execution_count": 157,
   "metadata": {},
   "outputs": [
    {
     "name": "stdout",
     "output_type": "stream",
     "text": [
      "1\n",
      "1\n",
      "7\n"
     ]
    }
   ],
   "source": [
    "print(a[0, 0])\n",
    "print(a[(0, 0)])\n",
    "print(a[1, 2])"
   ]
  },
  {
   "cell_type": "code",
   "execution_count": 156,
   "metadata": {},
   "outputs": [
    {
     "name": "stdout",
     "output_type": "stream",
     "text": [
      "12\n",
      "[[ 1  2  3  4]\n",
      " [ 5  6  7  8]\n",
      " [ 9 10 11 22]]\n"
     ]
    }
   ],
   "source": [
    "print(a[-1, -1])\n",
    "a[-1, -1] += 10  # 마지막 원소에 10을 더함\n",
    "print(a)"
   ]
  },
  {
   "cell_type": "code",
   "execution_count": null,
   "metadata": {},
   "outputs": [
    {
     "name": "stdout",
     "output_type": "stream",
     "text": [
      "[5 6 7 8]\n",
      "[ 2  6 10]\n",
      "[[1 2 3 4]\n",
      " [5 6 7 8]]\n"
     ]
    }
   ],
   "source": [
    "print(a[1, :])  # 1행 전체를 출력\n",
    "print(a[:, 1])  # 1열 전체를 출력\n",
    "print(a[:2, :])  # 0행과 1행을 출력"
   ]
  },
  {
   "cell_type": "code",
   "execution_count": null,
   "metadata": {},
   "outputs": [
    {
     "name": "stdout",
     "output_type": "stream",
     "text": [
      "[[ 1  3]\n",
      " [ 5  7]\n",
      " [ 9 11]]\n"
     ]
    }
   ],
   "source": [
    "print(a[:, 0:3:2])  # 모든 행에 대해서, 0열부터 3열까지 2열 간격으로 출력"
   ]
  },
  {
   "cell_type": "code",
   "execution_count": null,
   "metadata": {},
   "outputs": [
    {
     "name": "stdout",
     "output_type": "stream",
     "text": [
      "[[False False False False]\n",
      " [False  True  True  True]\n",
      " [ True  True  True  True]]\n",
      "[ 6  7  8  9 10 11 22]\n"
     ]
    }
   ],
   "source": [
    "print(a > 5)\n",
    "print(a[a > 5])  # 5보다 큰 원소만 출력"
   ]
  },
  {
   "cell_type": "code",
   "execution_count": null,
   "metadata": {},
   "outputs": [
    {
     "name": "stdout",
     "output_type": "stream",
     "text": [
      "[[  1 102   3 104]\n",
      " [  5 106   7 108]\n",
      " [  9 110  11 122]]\n"
     ]
    }
   ],
   "source": [
    "b = a[:]  # shallow copy: 얕은 복사(원본에 영향을 미침)\n",
    "\n",
    "b[b % 2 == 0] += 100  # 짝수인 원소에 100을 더함\n",
    "print(b)"
   ]
  },
  {
   "cell_type": "code",
   "execution_count": 164,
   "metadata": {},
   "outputs": [
    {
     "name": "stdout",
     "output_type": "stream",
     "text": [
      "[[1 2 3]\n",
      " [4 5 6]]\n",
      "[[11 12 13]\n",
      " [14 15 16]]\n"
     ]
    }
   ],
   "source": [
    "c = np.array([[1, 2, 3], [4, 5, 6]])\n",
    "d = np.arange(11, 17).reshape(2, 3)\n",
    "\n",
    "print(c)\n",
    "print(d)"
   ]
  },
  {
   "cell_type": "code",
   "execution_count": 166,
   "metadata": {},
   "outputs": [
    {
     "name": "stdout",
     "output_type": "stream",
     "text": [
      "[[ 1  4  9]\n",
      " [16 25 36]]\n",
      "[[1.         1.41421356 1.73205081]\n",
      " [2.         2.23606798 2.44948974]]\n"
     ]
    }
   ],
   "source": [
    "print(c**2)\n",
    "print(np.sqrt(c))"
   ]
  },
  {
   "cell_type": "code",
   "execution_count": 167,
   "metadata": {},
   "outputs": [
    {
     "name": "stdout",
     "output_type": "stream",
     "text": [
      "[[ 74  92]\n",
      " [182 227]]\n"
     ]
    }
   ],
   "source": [
    "print(np.dot(c, d.transpose()))  # c와 d의 내적"
   ]
  },
  {
   "cell_type": "code",
   "execution_count": 168,
   "metadata": {},
   "outputs": [
    {
     "name": "stdout",
     "output_type": "stream",
     "text": [
      "[[ 67  72  77]\n",
      " [ 92  99 106]\n",
      " [117 126 135]]\n"
     ]
    }
   ],
   "source": [
    "print(np.dot(c.T, d))"
   ]
  },
  {
   "cell_type": "code",
   "execution_count": null,
   "metadata": {},
   "outputs": [
    {
     "name": "stdout",
     "output_type": "stream",
     "text": [
      "5.233600000000001\n",
      "2.287706274852609\n",
      "6.220000000000001\n",
      "31.1\n",
      "9.5\n",
      "3.0\n"
     ]
    }
   ],
   "source": [
    "list1 = [3, 5.6, 5, 8, 9.5]\n",
    "\n",
    "array = np.array(list1)\n",
    "\n",
    "print(array.var())  # 분산 (variance)\n",
    "print(array.std())  # 표준편차 (standard deviation)\n",
    "print(array.mean())  # 평균 (mean)\n",
    "print(array.sum())  # 합계 (sum)\n",
    "print(array.max())  # 최댓값 (maximum)\n",
    "print(array.min())  # 최솟값 (minimum)"
   ]
  },
  {
   "cell_type": "code",
   "execution_count": 179,
   "metadata": {},
   "outputs": [
    {
     "name": "stdout",
     "output_type": "stream",
     "text": [
      "자료형 type: int32\n"
     ]
    }
   ],
   "source": [
    "ar1 = np.array([1, 2, 3])\n",
    "print(\"자료형 type:\", ar1.dtype)  # int32"
   ]
  },
  {
   "cell_type": "code",
   "execution_count": null,
   "metadata": {},
   "outputs": [
    {
     "name": "stdout",
     "output_type": "stream",
     "text": [
      "자료형 type: <U2\n"
     ]
    }
   ],
   "source": [
    "ar2 = np.array([\"12\", \"2\", \"3\"])\n",
    "print(\"자료형 type:\", ar2.dtype)  # Unicode string"
   ]
  },
  {
   "cell_type": "code",
   "execution_count": 177,
   "metadata": {},
   "outputs": [
    {
     "name": "stdout",
     "output_type": "stream",
     "text": [
      "자료형 type: float64\n"
     ]
    }
   ],
   "source": [
    "ar3 = np.array([1.5, 2.0, 3.5])\n",
    "print(\"자료형 type:\", ar3.dtype)  # float64"
   ]
  },
  {
   "cell_type": "code",
   "execution_count": 180,
   "metadata": {},
   "outputs": [
    {
     "name": "stdout",
     "output_type": "stream",
     "text": [
      "['1' '2.9' '3' '4']\n",
      "자료형 type: <U32\n"
     ]
    }
   ],
   "source": [
    "ar4 = np.array([1, 2.9, 3, \"4\"])\n",
    "print(ar4)\n",
    "print(\"자료형 type:\", ar4.dtype)  # Unicode string"
   ]
  },
  {
   "cell_type": "code",
   "execution_count": 187,
   "metadata": {},
   "outputs": [
    {
     "name": "stdout",
     "output_type": "stream",
     "text": [
      "[0 0 1 0]\n",
      "자료형 type: int32\n"
     ]
    }
   ],
   "source": [
    "ar5 = np.array([False, False, True, False], dtype=np.int32)\n",
    "print(ar5)\n",
    "print(f\"자료형 type: {ar5.dtype}\")  # int32"
   ]
  },
  {
   "cell_type": "code",
   "execution_count": 188,
   "metadata": {},
   "outputs": [
    {
     "name": "stdout",
     "output_type": "stream",
     "text": [
      "2\n"
     ]
    }
   ],
   "source": [
    "print(np.argmax(ar5))  # 최댓값의 인덱스"
   ]
  },
  {
   "cell_type": "code",
   "execution_count": 189,
   "metadata": {},
   "outputs": [
    {
     "name": "stdout",
     "output_type": "stream",
     "text": [
      "2\n"
     ]
    }
   ],
   "source": [
    "from numpy import argmax\n",
    "\n",
    "print(argmax(ar5))"
   ]
  },
  {
   "cell_type": "code",
   "execution_count": null,
   "metadata": {},
   "outputs": [
    {
     "name": "stdout",
     "output_type": "stream",
     "text": [
      "[[15 16 17]\n",
      " [18 19 20]\n",
      " [21 22 23]]\n"
     ]
    }
   ],
   "source": [
    "# 1. 숫자 15에서 23까지 배열을 만들고 이를 3*3 행렬로 변환하여 출력하라.\n",
    "\n",
    "\n",
    "no1 = np.arange(15, 24).reshape(3, 3)\n",
    "print(no1)"
   ]
  },
  {
   "cell_type": "code",
   "execution_count": null,
   "metadata": {},
   "outputs": [
    {
     "name": "stdout",
     "output_type": "stream",
     "text": [
      "[False, False, False, False]\n"
     ]
    }
   ],
   "source": [
    "# 2. 다음의 두 array를 만들고,\n",
    "# [1, 2, 3, 4], [5, 6, 7, 8]\n",
    "# 두 array를 이용해서 아래와 같은 값이 나오게 하라.\n",
    "# [False, False, False, False]\n",
    "\n",
    "\n",
    "no2_1 = np.array([1, 2, 3, 4])\n",
    "no2_2 = np.array([5, 6, 7, 8])\n",
    "\n",
    "no2 = list(no2_1 == no2_2)\n",
    "print(no2)"
   ]
  },
  {
   "cell_type": "code",
   "execution_count": null,
   "metadata": {},
   "outputs": [
    {
     "name": "stdout",
     "output_type": "stream",
     "text": [
      "1) 중간고사 평균: 53.33, 표준 편차: 35.19785346990479\n",
      "2) 철수의 최종 점수: 58.4\n"
     ]
    }
   ],
   "source": [
    "# 3. 아래와 같이 세 학생의 중간고사, 기말고사, 과제 점수가 있다.\n",
    "# (철수, 영희, 민재)\n",
    "# 중간고사: (15, 100, 45)\n",
    "# 기말고사: (78, 25, 90)\n",
    "# 과제: (81, 45, 99)\n",
    "\n",
    "# 중간, 기말, 과제 점수에 각각 0.4, 0.4, 0.2의 가중치를 부여하여 가중치의 합을 구하고, 거기에 기타 점수 5점을 더하고자 한다.\n",
    "# 이를 array를 이용해 계산하는 프로그램을 작성하라.\n",
    "# 요구사항\n",
    "# 1) 중간고사 평균과 표준 편차를 출력하라.\n",
    "# 2) 철수의 최종 점수는 얼마인지 출력하라.\n",
    "\n",
    "\n",
    "mid = np.array([15, 100, 45])\n",
    "final = np.array([78, 25, 90])\n",
    "assignment = np.array([81, 45, 99])\n",
    "weight = np.array([0.4, 0.4, 0.2])\n",
    "other_score = 5\n",
    "\n",
    "total_score = mid * weight[0] + final * weight[1] + assignment * weight[2] + other_score\n",
    "\n",
    "print(f\"1) 중간고사 평균: {mid.mean():.2f}, 표준 편차: {mid.std()}\")\n",
    "print(f\"2) 철수의 최종 점수: {total_score[0]:.1f}\")"
   ]
  },
  {
   "cell_type": "code",
   "execution_count": 43,
   "metadata": {},
   "outputs": [
    {
     "name": "stdout",
     "output_type": "stream",
     "text": [
      "[10 11 12 13 14 15 16 17 18 19 20 21 22 23 24 25 26 27 28 29 30]\n",
      "[20 22 24 26 28 30 32 34 36 38 40 42 44 46 48 50 52 54 56 58 60]\n"
     ]
    }
   ],
   "source": [
    "# 1. 1차원 배열 생성 및 연산\n",
    "# 1) 숫자 10부터 30까지의 배열을 생성하고, 배열 내 모든 값에 2를 곱한 결과를 출력하세요.\n",
    "import numpy as np\n",
    "\n",
    "question1 = np.arange(10, 31)\n",
    "print(question1)\n",
    "print(question1 * 2)"
   ]
  },
  {
   "cell_type": "code",
   "execution_count": null,
   "metadata": {},
   "outputs": [
    {
     "name": "stdout",
     "output_type": "stream",
     "text": [
      "[ 0  1  2  3  4  5  6  7  8  9 10 11 12 13 14 15]\n",
      "[[ 0  1  2  3]\n",
      " [ 4  5  6  7]\n",
      " [ 8  9 10 11]\n",
      " [12 13 14 15]]\n"
     ]
    }
   ],
   "source": [
    "# 2. 다차원 배열 생성 및 변환\n",
    "# 1) 숫자 0부터 15까지 포함하는 1차원 배열을 생성하세요.\n",
    "# 2) 이 배열을 4x4 2차원 행렬로 변환하세요.\n",
    "\n",
    "question2_1 = np.arange(16)\n",
    "print(question2_1)\n",
    "\n",
    "question2_2 = question2_1.reshape(4, 4)\n",
    "print(question2_2)"
   ]
  },
  {
   "cell_type": "code",
   "execution_count": null,
   "metadata": {},
   "outputs": [
    {
     "name": "stdout",
     "output_type": "stream",
     "text": [
      "[ 1  2  3  4  5  6  7  8  9 10 11 12 13 14 15 16 17 18 19 20]\n",
      "[ 2  4  6  8 10 12 14 16 18 20]\n"
     ]
    }
   ],
   "source": [
    "# 3. 특정 조건에 맞는 값 필터링\n",
    "# 1) 1부터 20까지의 배열에서 짝수만 추출하여 새 배열을 생성하세요.\n",
    "\n",
    "question3_1 = np.arange(1, 21)\n",
    "print(question3_1)\n",
    "\n",
    "question3_even = question3_1[question3_1 % 2 == 0]\n",
    "print(question3_even)"
   ]
  },
  {
   "cell_type": "code",
   "execution_count": 65,
   "metadata": {},
   "outputs": [
    {
     "name": "stdout",
     "output_type": "stream",
     "text": [
      "[[7 6 5]\n",
      " [8 8 2]\n",
      " [2 1 7]]\n",
      "1행의 합계: 18, 평균: 6.00\n",
      "2행의 합계: 18, 평균: 6.00\n",
      "3행의 합계: 10, 평균: 3.33\n",
      "1행의 합계: 18, 평균: 6.00\n",
      "2행의 합계: 18, 평균: 6.00\n",
      "3행의 합계: 10, 평균: 3.33\n"
     ]
    }
   ],
   "source": [
    "# 4. 배열 연산 및 집계 함수 활용\n",
    "# 1) 임의의 3*3 배열을 생성하세요.\n",
    "# 2) 배열의 각 행의 합계와 평균을 구하고 출력하세요.\n",
    "\n",
    "question4_1 = np.random.randint(1, 10, (3, 3))\n",
    "print(question4_1)\n",
    "\n",
    "question4_sum = question4_1[:, 0] + question4_1[:, 1] + question4_1[:, 2]\n",
    "question4_mean = question4_sum / len(question4_1[0])  # 각 행의 평균\n",
    "\n",
    "for i in range(len(question4_1)):\n",
    "    print(f\"{i + 1}행의 합계: {question4_sum[i]}, 평균: {question4_mean[i]:.2f}\")\n",
    "\n",
    "\n",
    "# --------------------------------------------------\n",
    "\n",
    "question4_sum2 = question4_1.sum(axis=1)  # 각 행의 합계\n",
    "question4_mean2 = question4_sum2 / question4_1.shape[1]  # 각 행의 평균\n",
    "for i in range(len(question4_1)):\n",
    "    print(f\"{i + 1}행의 합계: {question4_sum2[i]}, 평균: {question4_mean2[i]:.2f}\")"
   ]
  },
  {
   "cell_type": "code",
   "execution_count": 66,
   "metadata": {},
   "outputs": [
    {
     "name": "stdout",
     "output_type": "stream",
     "text": [
      "[[1. 0. 0.]\n",
      " [0. 1. 0.]\n",
      " [0. 0. 1.]]\n",
      "[[5 6 4]\n",
      " [2 8 5]\n",
      " [6 5 5]]\n",
      "[[5. 6. 4.]\n",
      " [2. 8. 5.]\n",
      " [6. 5. 5.]]\n"
     ]
    }
   ],
   "source": [
    "# 5. 행렬 곱셈 및 정규화\n",
    "# 1) 3*3 단위 행렬(identity matrix)을 생성하세요.\n",
    "# 2) 다른 3*3 행렬을 만들어 행렬의 곱을 구하세요.\n",
    "\n",
    "question5_1 = np.eye(3)\n",
    "print(question5_1)\n",
    "\n",
    "question5_2 = np.random.randint(1, 10, (3, 3))\n",
    "print(question5_2)\n",
    "\n",
    "question5_matmul = question5_1 @ question5_2\n",
    "print(question5_matmul)"
   ]
  }
 ],
 "metadata": {
  "kernelspec": {
   "display_name": "base",
   "language": "python",
   "name": "python3"
  },
  "language_info": {
   "codemirror_mode": {
    "name": "ipython",
    "version": 3
   },
   "file_extension": ".py",
   "mimetype": "text/x-python",
   "name": "python",
   "nbconvert_exporter": "python",
   "pygments_lexer": "ipython3",
   "version": "3.12.9"
  }
 },
 "nbformat": 4,
 "nbformat_minor": 2
}

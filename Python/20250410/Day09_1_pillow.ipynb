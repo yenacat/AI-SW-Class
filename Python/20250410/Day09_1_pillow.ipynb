{
 "cells": [
  {
   "cell_type": "code",
   "execution_count": 2,
   "metadata": {},
   "outputs": [],
   "source": [
    "from PIL import Image, ImageTk\n",
    "import tkinter as tk\n",
    "\n",
    "# 윈도를 생성하고 윈도 안에 캔버스를 생성\n",
    "window = tk.Tk()\n",
    "canvas = tk.Canvas(window, width=960, height=960)\n",
    "canvas.pack()\n",
    "\n",
    "# 이미지를 열기\n",
    "img = Image.open(\"hollandlop2.png\")\n",
    "\n",
    "# 이미지를 tkinter에서 사용할 수 있는 형식으로 변환\n",
    "tk_img = ImageTk.PhotoImage(img)\n",
    "\n",
    "# 캔버스에 이미지를 추가\n",
    "canvas.create_image(480, 480, image=tk_img)\n",
    "\n",
    "window.mainloop()  # 윈도우를 실행\n"
   ]
  },
  {
   "cell_type": "code",
   "execution_count": null,
   "metadata": {},
   "outputs": [],
   "source": [
    "window = tk.Tk()\n",
    "canvas = tk.Canvas(window, width=960, height=960)\n",
    "canvas.pack()\n",
    "\n",
    "img = Image.open(\"hollandlop2.png\")\n",
    "\n",
    "out = img.rotate(45, expand=True)  # 45도 회전\n",
    "tk_img = ImageTk.PhotoImage(out)\n",
    "\n",
    "canvas.create_image(480, 480, image=tk_img)\n",
    "\n",
    "window.mainloop()"
   ]
  },
  {
   "cell_type": "code",
   "execution_count": 10,
   "metadata": {},
   "outputs": [],
   "source": [
    "from PIL import Image, ImageTk, ImageFilter\n",
    "import tkinter as tk\n",
    "\n",
    "window = tk.Tk()\n",
    "canvas = tk.Canvas(window, width=960, height=960)\n",
    "canvas.pack()\n",
    "\n",
    "img = Image.open(\"hollandlop2.png\")\n",
    "\n",
    "out = img.filter(ImageFilter.BLUR)\n",
    "tk_img = ImageTk.PhotoImage(out)\n",
    "\n",
    "canvas.create_image(480, 480, image=tk_img)\n",
    "window.mainloop()"
   ]
  },
  {
   "cell_type": "code",
   "execution_count": null,
   "metadata": {},
   "outputs": [],
   "source": [
    "import tkinter as tk\n",
    "\n",
    "\n",
    "def open():\n",
    "    pass\n",
    "\n",
    "\n",
    "def quit():\n",
    "    window.quit()\n",
    "\n",
    "\n",
    "window = tk.Tk()\n",
    "menubar = tk.Menu(window)\n",
    "\n",
    "filemenu = tk.Menu(menubar)\n",
    "filemenu.add_command(label=\"열기\", command=open)\n",
    "filemenu.add_command(label=\"종료\", command=quit)\n",
    "menubar.add_cascade(label=\"파일\", menu=filemenu)\n",
    "\n",
    "window.config(menu=menubar)\n",
    "window.mainloop()"
   ]
  },
  {
   "cell_type": "code",
   "execution_count": 4,
   "metadata": {},
   "outputs": [],
   "source": [
    "from PIL import Image, ImageTk, ImageFilter\n",
    "import tkinter as tk\n",
    "from tkinter import filedialog as fd\n",
    "\n",
    "img = None\n",
    "tk_img = None\n",
    "\n",
    "\n",
    "def open():\n",
    "    global img, tk_img\n",
    "    fname = fd.askopenfilename()\n",
    "    img = Image.open(fname)\n",
    "    tk_img = ImageTk.PhotoImage(img)\n",
    "    canvas.create_image(480, 480, image=tk_img)\n",
    "    window.update()\n",
    "\n",
    "\n",
    "def quit():\n",
    "    window.quit()\n",
    "\n",
    "\n",
    "def image_rotate():\n",
    "    global img, tk_img\n",
    "    out = img.rotate(45, expand=True)\n",
    "    tk_img = ImageTk.PhotoImage(out)\n",
    "    canvas.create_image(480, 480, image=tk_img)\n",
    "    window.update()\n",
    "\n",
    "\n",
    "def image_blur():\n",
    "    global img, tk_img\n",
    "    out = img.filter(ImageFilter.BLUR)\n",
    "    tk_img = ImageTk.PhotoImage(out)\n",
    "    canvas.create_image(480, 480, image=tk_img)\n",
    "    window.update()\n",
    "\n",
    "\n",
    "window = tk.Tk()\n",
    "canvas = tk.Canvas(window, width=960, height=960)\n",
    "canvas.pack()\n",
    "\n",
    "menubar = tk.Menu(window)\n",
    "filemenu = tk.Menu(menubar)\n",
    "ipmenu = tk.Menu(menubar)\n",
    "\n",
    "filemenu.add_command(label=\"열기\", command=open)\n",
    "filemenu.add_command(label=\"종료\", command=quit)\n",
    "ipmenu.add_command(label=\"회전\", command=image_rotate)\n",
    "ipmenu.add_command(label=\"흐리게\", command=image_blur)\n",
    "menubar.add_cascade(label=\"파일\", menu=filemenu)\n",
    "menubar.add_cascade(label=\"처리\", menu=ipmenu)\n",
    "\n",
    "window.config(menu=menubar)\n",
    "window.mainloop()"
   ]
  },
  {
   "cell_type": "code",
   "execution_count": null,
   "metadata": {},
   "outputs": [
    {
     "name": "stdout",
     "output_type": "stream",
     "text": [
      "PNG (320, 380) RGB\n",
      "None (80, 180) RGB\n"
     ]
    }
   ],
   "source": [
    "from PIL import Image\n",
    "\n",
    "img = Image.open(\"june.png\")\n",
    "\n",
    "print(img.format, img.size, img.mode)  # format, size, mode 확인\n",
    "img.show()\n",
    "\n",
    "box = (76, 3, 156, 183)\n",
    "crop_img = img.crop(box)  # (왼쪽, 위, 오른쪽, 아래) 순서로 자르기\n",
    "crop_img.save(\"june_torch.png\")\n",
    "print(crop_img.format, crop_img.size, crop_img.mode)  # format, size, mode 확인\n",
    "crop_img.show()"
   ]
  },
  {
   "cell_type": "code",
   "execution_count": null,
   "metadata": {},
   "outputs": [],
   "source": [
    "img = Image.open(\"june.png\")\n",
    "box = (76, 3, 156, 183)\n",
    "crop_img1 = img.crop(box)\n",
    "\n",
    "drop = (0, 3, 80, 183)  # (왼쪽, 위, 오른쪽, 아래) 순서로 붙일 위치\n",
    "img.paste(crop_img1, drop)  # (왼쪽, 위, 오른쪽, 아래) 순서로 붙이기\n",
    "img.show()"
   ]
  },
  {
   "cell_type": "code",
   "execution_count": 13,
   "metadata": {},
   "outputs": [],
   "source": [
    "img2 = Image.open(\"june.png\")\n",
    "crop_img2 = crop_img1.resize((40, 90))  # (가로, 세로) 순서로 크기 조정\n",
    "drop = (20, 40, 60, 130)  # (왼쪽, 위, 오른쪽, 아래) 순서로 붙일 위치\n",
    "img2.paste(crop_img2, drop)  # (왼쪽, 위, 오른쪽, 아래) 순서로 붙이기\n",
    "\n",
    "box = (80, 3, 180, 103)\n",
    "crop_img3 = img2.crop(box).rotate(90)  # 이미지 90도 회전\n",
    "drop = (220, 0, 320, 100)\n",
    "img2.paste(crop_img3, drop)\n",
    "img2.show()"
   ]
  },
  {
   "cell_type": "code",
   "execution_count": null,
   "metadata": {},
   "outputs": [],
   "source": [
    "img4 = Image.open(\"june.png\")\n",
    "\n",
    "box = (76, 3, 156, 333)\n",
    "crop4 = img4.crop(box)\n",
    "crop_img4 = crop4.transpose(Image.FLIP_LEFT_RIGHT)\n",
    "\n",
    "drop = (0, 3, 80, 333)\n",
    "img4.paste(crop_img4, drop)\n",
    "img4 = img4.transpose(Image.FLIP_LEFT_RIGHT)\n",
    "img4.show()"
   ]
  },
  {
   "cell_type": "code",
   "execution_count": 15,
   "metadata": {},
   "outputs": [],
   "source": [
    "from PIL import Image, ImageFilter\n",
    "\n",
    "img = Image.open(\"june.png\")\n",
    "img1 = img.filter(ImageFilter.CONTOUR)\n",
    "img1.save(\"june_contour.png\")\n",
    "\n",
    "img2 = img.filter(ImageFilter.EMBOSS)\n",
    "img2.save(\"june_emboss.png\")\n",
    "\n",
    "img3 = img.filter(ImageFilter.BLUR)\n",
    "Img3 = img3.filter(ImageFilter.SMOOTH_MORE)\n",
    "img3.save(\"june_blurNsm.png\")"
   ]
  },
  {
   "cell_type": "code",
   "execution_count": 16,
   "metadata": {},
   "outputs": [],
   "source": [
    "img4 = Image.open(\"june.png\")\n",
    "\n",
    "rgb = img.split()  # RGB를 R, G, B로 분리\n",
    "r, g, b = rgb[0], rgb[1], rgb[2]\n",
    "\n",
    "img4 = Image.merge(\"RGB\", (b, b, g))  # B, B, G 순서로 합치기\n",
    "img4.save(\"june_bbg.png\")\n",
    "\n",
    "img5 = Image.merge(\"RGB\", (b, r, g))\n",
    "img5.save(\"june_brg.png\")"
   ]
  }
 ],
 "metadata": {
  "kernelspec": {
   "display_name": "base",
   "language": "python",
   "name": "python3"
  },
  "language_info": {
   "codemirror_mode": {
    "name": "ipython",
    "version": 3
   },
   "file_extension": ".py",
   "mimetype": "text/x-python",
   "name": "python",
   "nbconvert_exporter": "python",
   "pygments_lexer": "ipython3",
   "version": "3.12.9"
  }
 },
 "nbformat": 4,
 "nbformat_minor": 2
}

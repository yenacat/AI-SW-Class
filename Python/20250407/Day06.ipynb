{
 "cells": [
  {
   "cell_type": "code",
   "execution_count": null,
   "metadata": {},
   "outputs": [
    {
     "name": "stdout",
     "output_type": "stream",
     "text": [
      "0 2 4 6 8 \n",
      "\n",
      "0 2 4 6 8 10 12 14 16 18 20 "
     ]
    }
   ],
   "source": [
    "class EvenCounter:\n",
    "    def __init__(self):\n",
    "        self.n = 0\n",
    "\n",
    "    def __iter__(self):\n",
    "        return self\n",
    "\n",
    "    def __next__(self):\n",
    "        result = self.n * 2\n",
    "        self.n += 1\n",
    "        return result\n",
    "\n",
    "\n",
    "my_even = EvenCounter()\n",
    "\n",
    "for i in range(5):\n",
    "    print(my_even.__next__(), end=\" \")\n",
    "\n",
    "print(\"\\n\")\n",
    "\n",
    "my_even.n = 0\n",
    "\n",
    "for i in range(11):\n",
    "    print(next(my_even), end=\" \")"
   ]
  },
  {
   "cell_type": "code",
   "execution_count": null,
   "metadata": {},
   "outputs": [
    {
     "name": "stdout",
     "output_type": "stream",
     "text": [
      "2 4 6 8 10 12 14 16 18 20 "
     ]
    }
   ],
   "source": [
    "class EvenNumber:\n",
    "    def __init__(self, n):\n",
    "        self.n = n\n",
    "\n",
    "    def getN(self):\n",
    "        if self.n % 2 == 0:\n",
    "            return self.n\n",
    "\n",
    "\n",
    "list_even = [EvenNumber(n) for n in range(2, 21, 2)]\n",
    "\n",
    "for i in list_even:\n",
    "    print(i.getN(), end=\" \")"
   ]
  },
  {
   "cell_type": "code",
   "execution_count": 23,
   "metadata": {},
   "outputs": [
    {
     "data": {
      "text/plain": [
       "['H', 'e', 'l', 'l', 'o']"
      ]
     },
     "execution_count": 23,
     "metadata": {},
     "output_type": "execute_result"
    }
   ],
   "source": [
    "char_list = list(\"Hello\")\n",
    "char_list"
   ]
  },
  {
   "cell_type": "code",
   "execution_count": 25,
   "metadata": {},
   "outputs": [
    {
     "data": {
      "text/plain": [
       "['Python', 'is', 'a', 'programming', 'language']"
      ]
     },
     "execution_count": 25,
     "metadata": {},
     "output_type": "execute_result"
    }
   ],
   "source": [
    "words = \"Python is a programming language\"\n",
    "words_list = words.split()\n",
    "words_list"
   ]
  },
  {
   "cell_type": "code",
   "execution_count": null,
   "metadata": {},
   "outputs": [
    {
     "name": "stdout",
     "output_type": "stream",
     "text": [
      "['25', '04', '07', '09', '49', '20']\n"
     ]
    }
   ],
   "source": [
    "time_str = \"25-04-07 09:49:20\"\n",
    "\n",
    "date_part, time_part = time_str.split()\n",
    "\n",
    "date_parts = date_part.split(\"-\")\n",
    "time_parts = time_part.split(\":\")\n",
    "\n",
    "time_str2 = date_parts + time_parts\n",
    "\n",
    "print(time_str2)"
   ]
  },
  {
   "cell_type": "code",
   "execution_count": 19,
   "metadata": {},
   "outputs": [
    {
     "name": "stdout",
     "output_type": "stream",
     "text": [
      "0.8306266876156869\n",
      "4 3 4 4 5 2 4 6 5 5 "
     ]
    }
   ],
   "source": [
    "import random\n",
    "\n",
    "print(random.random())\n",
    "\n",
    "for i in range(10):\n",
    "    print(random.randint(1, 6), end=\" \")"
   ]
  },
  {
   "cell_type": "code",
   "execution_count": 23,
   "metadata": {},
   "outputs": [
    {
     "name": "stdout",
     "output_type": "stream",
     "text": [
      "10\n",
      "[10000, 10, 1000]\n",
      "[1, 10000, 1000, 100, 10]\n"
     ]
    }
   ],
   "source": [
    "import random\n",
    "\n",
    "L = [1, 10, 100, 1000, 10000]\n",
    "\n",
    "print(random.choice(L))\n",
    "print(random.sample(L, 3))\n",
    "\n",
    "random.shuffle(L)\n",
    "print(L)"
   ]
  },
  {
   "cell_type": "code",
   "execution_count": 26,
   "metadata": {},
   "outputs": [
    {
     "name": "stdout",
     "output_type": "stream",
     "text": [
      "s1: hello, s2: kitty\n"
     ]
    }
   ],
   "source": [
    "s1, s2 = input(\"문자열 2개를 입력해주세요.\").split()\n",
    "\n",
    "print(f\"s1: {s1}, s2: {s2}\")"
   ]
  },
  {
   "cell_type": "code",
   "execution_count": 29,
   "metadata": {},
   "outputs": [
    {
     "name": "stdout",
     "output_type": "stream",
     "text": [
      "num1: 3, num2: 14, num3: 1592\n"
     ]
    }
   ],
   "source": [
    "num1, num2, num3 = map(int, input(\"정수 3개를 입력해주세요.\").split())\n",
    "print(f\"num1: {num1}, num2: {num2}, num3: {num3}\")"
   ]
  },
  {
   "cell_type": "code",
   "execution_count": 32,
   "metadata": {},
   "outputs": [
    {
     "name": "stdout",
     "output_type": "stream",
     "text": [
      "num4: 3, num5: 14, num6: 15926\n"
     ]
    }
   ],
   "source": [
    "num4, num5, num6 = map(int, input(\"정수 3개를 ','로 구분하여 입력해주세요.\").split(\",\"))\n",
    "print(f\"num4: {num4}, num5: {num5}, num6: {num6}\")"
   ]
  },
  {
   "cell_type": "code",
   "execution_count": 45,
   "metadata": {},
   "outputs": [
    {
     "name": "stdout",
     "output_type": "stream",
     "text": [
      "3\n"
     ]
    },
    {
     "data": {
      "text/plain": [
       "50.0"
      ]
     },
     "execution_count": 45,
     "metadata": {},
     "output_type": "execute_result"
    }
   ],
   "source": [
    "eval(\"print(1 + 2)\")\n",
    "eval(\"(50 * 2) / 2\")"
   ]
  },
  {
   "cell_type": "code",
   "execution_count": 46,
   "metadata": {},
   "outputs": [
    {
     "name": "stdout",
     "output_type": "stream",
     "text": [
      "A\n",
      "65\n"
     ]
    }
   ],
   "source": [
    "print(chr(65))\n",
    "print(ord(\"A\"))"
   ]
  },
  {
   "cell_type": "code",
   "execution_count": 1,
   "metadata": {},
   "outputs": [
    {
     "name": "stdout",
     "output_type": "stream",
     "text": [
      "합계: 217\n"
     ]
    }
   ],
   "source": [
    "cr = input(\"3명의 국어 점수 (예 51,67,98) 입력:\")\n",
    "k1, k2, k3 = eval(cr)\n",
    "print(f\"합계: {k1 + k2 + k3}\")"
   ]
  },
  {
   "cell_type": "code",
   "execution_count": null,
   "metadata": {},
   "outputs": [
    {
     "name": "stdout",
     "output_type": "stream",
     "text": [
      "200.0\n"
     ]
    }
   ],
   "source": [
    "xx = input(\n",
    "    \"사용자가 입력한 수열을 받아 평균을 출력해줍니다. 수열을 입력하세요: 예 1,2,3\"\n",
    ")\n",
    "zz = xx.split(\",\")\n",
    "\n",
    "\n",
    "def cal(a):\n",
    "    result = 0\n",
    "    count = 0\n",
    "    while a:\n",
    "        mark = a.pop()\n",
    "        z = int(mark)\n",
    "        result += z\n",
    "        count += 1\n",
    "    average = result / count\n",
    "    return average\n",
    "\n",
    "\n",
    "print(cal(zz))"
   ]
  },
  {
   "cell_type": "code",
   "execution_count": null,
   "metadata": {},
   "outputs": [
    {
     "name": "stdout",
     "output_type": "stream",
     "text": [
      "200.0\n"
     ]
    }
   ],
   "source": [
    "xxx = input(\n",
    "    \"사용자가 입력한 수열을 받아 평균을 출력해줍니다. 수열을 입력하세요: 예 1,2,3\"\n",
    ")\n",
    "zzz = xx.split(\",\")\n",
    "\n",
    "\n",
    "def cal(a):\n",
    "    result = 0\n",
    "    count = 0\n",
    "    for mark in a:\n",
    "        z = int(mark)\n",
    "        result += z\n",
    "        count += 1\n",
    "    average = result / count\n",
    "    return average\n",
    "\n",
    "\n",
    "print(cal(zzz))"
   ]
  },
  {
   "cell_type": "code",
   "execution_count": 10,
   "metadata": {},
   "outputs": [
    {
     "name": "stdout",
     "output_type": "stream",
     "text": [
      "77 * 7 = 539\n"
     ]
    }
   ],
   "source": [
    "a = input(\"곱할 숫자1:\")\n",
    "b = input(\"곱할 숫자2:\")\n",
    "result = int(a) * int(b)\n",
    "print(f\"{a} * {b} = {result}\")"
   ]
  },
  {
   "cell_type": "code",
   "execution_count": 3,
   "metadata": {},
   "outputs": [
    {
     "data": {
      "text/plain": [
       "'Hello WORLD!'"
      ]
     },
     "execution_count": 3,
     "metadata": {},
     "output_type": "execute_result"
    }
   ],
   "source": [
    "greet = \"Hello\"\n",
    "\"{} WORLD!\".format(greet)"
   ]
  },
  {
   "cell_type": "code",
   "execution_count": 5,
   "metadata": {},
   "outputs": [
    {
     "name": "stdout",
     "output_type": "stream",
     "text": [
      "My name is Hong GilDong\n"
     ]
    }
   ],
   "source": [
    "name = \"Hong GilDong\"\n",
    "print(\"My name is {}\".format(name))"
   ]
  },
  {
   "cell_type": "code",
   "execution_count": null,
   "metadata": {},
   "outputs": [
    {
     "name": "stdout",
     "output_type": "stream",
     "text": [
      "당신의 이름은 송예은이고, 나이는 33세이며, 직업은 학생입니다.\n",
      "당신의 이름은 송예은이고, 나이는 33세이며, 직업은 학생입니다.\n",
      "당신의 이름은 송예은이고, 나이는 33세이며, 직업은 학생입니다.\n"
     ]
    }
   ],
   "source": [
    "name = input(\"당신의 이름을 입력해주세요 : \")\n",
    "age = input(\"나이를 입력해주세요 : \")\n",
    "job = input(\"직업을 입력해주세요 : \")\n",
    "print(\"당신의 이름은 {}이고, 나이는 {}세이며, 직업은 {}입니다.\".format(name, age, job))\n",
    "print(f\"당신의 이름은 {name}이고, 나이는 {age}세이며, 직업은 {job}입니다.\")\n",
    "print(\"당신의 이름은 %s이고, 나이는 %s세이며, 직업은 %s입니다.\" % (name, age, job))"
   ]
  },
  {
   "cell_type": "code",
   "execution_count": 10,
   "metadata": {},
   "outputs": [
    {
     "name": "stdout",
     "output_type": "stream",
     "text": [
      "당신의 이름은 송예은, 나이는 33살, 직업은 학생, 사는 곳은 인천입니다.\n"
     ]
    }
   ],
   "source": [
    "name2 = input(\"당신의 이름을 입력해주세요 : \")\n",
    "age2 = input(\"나이를 입력해주세요 : \")\n",
    "job2 = input(\"직업을 입력해주세요 : \")\n",
    "address2 = input(\"사는 곳을 입력해주세요 : \")\n",
    "\n",
    "print(\n",
    "    f\"당신의 이름은 {name2}, 나이는 {age2}살, 직업은 {job2}, 사는 곳은 {address2}입니다.\"\n",
    ")"
   ]
  },
  {
   "cell_type": "code",
   "execution_count": null,
   "metadata": {},
   "outputs": [
    {
     "name": "stdout",
     "output_type": "stream",
     "text": [
      "2 4 8\n",
      "4 16 64\n",
      "6 36 216\n",
      "8 64 512\n",
      "10 100 1000\n",
      "12 144 1728\n",
      "14 196 2744\n"
     ]
    }
   ],
   "source": [
    "for i in range(2, 15, 2):\n",
    "    print(\"{0} {1} {2}\".format(i, i * i, i * i * i))\n"
   ]
  },
  {
   "cell_type": "code",
   "execution_count": 18,
   "metadata": {},
   "outputs": [
    {
     "name": "stdout",
     "output_type": "stream",
     "text": [
      "  2    4     8\n",
      "  4   16    64\n",
      "  6   36   216\n",
      "  8   64   512\n",
      " 10  100  1000\n",
      " 12  144  1728\n",
      " 14  196  2744\n"
     ]
    }
   ],
   "source": [
    "for i in range(2, 15, 2):\n",
    "    print(\"{0:3d} {1:4d} {2:5d}\".format(i, i * i, i * i * i))"
   ]
  },
  {
   "cell_type": "code",
   "execution_count": 21,
   "metadata": {},
   "outputs": [
    {
     "name": "stdout",
     "output_type": "stream",
     "text": [
      "1/3은 0.333\n",
      "1,234,567,890\n"
     ]
    }
   ],
   "source": [
    "print(\"1/3은 {:.3f}\".format(1 / 3))\n",
    "\n",
    "print(\"{:,}\".format(1234567890))"
   ]
  },
  {
   "cell_type": "code",
   "execution_count": 27,
   "metadata": {},
   "outputs": [
    {
     "name": "stdout",
     "output_type": "stream",
     "text": [
      "위도: 35.17N, 경도: 129.07E\n",
      "위도: 35.17N, 경도: 129.07E\n",
      "위도: 35.17N, 경도: 129.07E\n"
     ]
    }
   ],
   "source": [
    "print(\"위도: {0}, 경도: {1}\".format(\"35.17N\", \"129.07E\"))\n",
    "print(\n",
    "    \"위도: {latitude}, 경도: {longitude}\".format(latitude=\"35.17N\", longitude=\"129.07E\")\n",
    ")\n",
    "print(\n",
    "    \"위도: {latitude}, 경도: {longitude}\".format(longitude=\"129.07E\", latitude=\"35.17N\")\n",
    ")"
   ]
  },
  {
   "cell_type": "code",
   "execution_count": null,
   "metadata": {},
   "outputs": [
    {
     "name": "stdout",
     "output_type": "stream",
     "text": [
      "두 수의 합은 311 입니다.\n"
     ]
    }
   ],
   "source": [
    "input1 = input(\"첫 번째 숫자를 입력하세요: \")\n",
    "input2 = input(\"두 번째 숫자를 입력하세요: \")\n",
    "\n",
    "total1 = input1 + input2\n",
    "print(\"두 수의 합은 %s 입니다.\" % total1)"
   ]
  },
  {
   "cell_type": "code",
   "execution_count": 30,
   "metadata": {},
   "outputs": [
    {
     "name": "stdout",
     "output_type": "stream",
     "text": [
      "두 수의 합은 14 입니다.\n"
     ]
    }
   ],
   "source": [
    "input3 = input(\"첫 번째 숫자를 입력하세요: \")\n",
    "input4 = input(\"두 번째 숫자를 입력하세요: \")\n",
    "\n",
    "total2 = int(input3) + int(input4)\n",
    "print(\"두 수의 합은 %d 입니다.\" % total2)"
   ]
  },
  {
   "cell_type": "code",
   "execution_count": 33,
   "metadata": {},
   "outputs": [
    {
     "name": "stdout",
     "output_type": "stream",
     "text": [
      "youneedpython\n",
      "youneedpython\n",
      "you need python\n",
      "youneedpython\n",
      "you need python\n"
     ]
    }
   ],
   "source": [
    "print(\"youneedpython\")\n",
    "print(\"you\" + \"need\" + \"python\")\n",
    "print(\"you\", \"need\", \"python\")\n",
    "print(\"\".join([\"you\", \"need\", \"python\"]))\n",
    "print(\" \".join([\"you\", \"need\", \"python\"]))"
   ]
  },
  {
   "cell_type": "code",
   "execution_count": 44,
   "metadata": {},
   "outputs": [
    {
     "name": "stdout",
     "output_type": "stream",
     "text": [
      "168\n"
     ]
    }
   ],
   "source": [
    "sum1 = input(\"','로 구분하여 숫자를 입력하세요. 예: 1,2,3,4,5: \")\n",
    "sum_list = sum1.split(\",\")\n",
    "\n",
    "total = 0\n",
    "\n",
    "for i in sum_list:\n",
    "    total += int(i)\n",
    "\n",
    "print(total)"
   ]
  },
  {
   "cell_type": "code",
   "execution_count": null,
   "metadata": {},
   "outputs": [],
   "source": [
    "fi = open(\"새파일.txt\", \"w\")\n",
    "fi.close()"
   ]
  },
  {
   "cell_type": "code",
   "execution_count": null,
   "metadata": {},
   "outputs": [],
   "source": [
    "fi = open(\"새파일.txt\", \"r\")\n",
    "fi.close()"
   ]
  },
  {
   "cell_type": "code",
   "execution_count": null,
   "metadata": {},
   "outputs": [],
   "source": [
    "fi = open(\"새파일.txt\", \"a\")\n",
    "fi.write(\"\\n오늘은 2025년 4월 7일입니다.\")\n",
    "fi.close()"
   ]
  },
  {
   "cell_type": "code",
   "execution_count": 39,
   "metadata": {},
   "outputs": [],
   "source": [
    "fi = open(\"새파일2.txt\", \"w\")\n",
    "\n",
    "for i in range(1, 11):\n",
    "    data = \"%d번째 줄입니다.\\n\" % i\n",
    "    fi.write(data)\n",
    "\n",
    "fi.close()"
   ]
  },
  {
   "cell_type": "code",
   "execution_count": null,
   "metadata": {},
   "outputs": [
    {
     "name": "stdout",
     "output_type": "stream",
     "text": [
      "1번째 줄입니다.\n",
      "\n",
      "3번째 줄입니다.\n",
      "\n"
     ]
    }
   ],
   "source": [
    "fi = open(\"새파일2.txt\", \"r\")\n",
    "\n",
    "line = fi.readline()\n",
    "print(line)\n",
    "\n",
    "line = fi.readline()\n",
    "line = fi.readline()\n",
    "print(line)\n",
    "\n",
    "fi.close()"
   ]
  },
  {
   "cell_type": "code",
   "execution_count": null,
   "metadata": {},
   "outputs": [
    {
     "name": "stdout",
     "output_type": "stream",
     "text": [
      "1번째 줄입니다.\n",
      "\n",
      "2번째 줄입니다.\n",
      "\n",
      "3번째 줄입니다.\n",
      "\n",
      "4번째 줄입니다.\n",
      "\n",
      "5번째 줄입니다.\n",
      "\n",
      "6번째 줄입니다.\n",
      "\n",
      "7번째 줄입니다.\n",
      "\n",
      "8번째 줄입니다.\n",
      "\n",
      "9번째 줄입니다.\n",
      "\n",
      "10번째 줄입니다.\n",
      "\n"
     ]
    }
   ],
   "source": [
    "fi = open(\"새파일2.txt\", \"r\")\n",
    "\n",
    "while True:\n",
    "    line = fi.readline()\n",
    "    if not line:\n",
    "        break\n",
    "    print(line)\n",
    "\n",
    "fi.close()"
   ]
  },
  {
   "cell_type": "code",
   "execution_count": null,
   "metadata": {},
   "outputs": [
    {
     "name": "stdout",
     "output_type": "stream",
     "text": [
      "1번째 줄입니다.\n",
      "\n",
      "2번째 줄입니다.\n",
      "\n",
      "3번째 줄입니다.\n",
      "\n",
      "4번째 줄입니다.\n",
      "\n",
      "5번째 줄입니다.\n",
      "\n",
      "6번째 줄입니다.\n",
      "\n",
      "7번째 줄입니다.\n",
      "\n",
      "8번째 줄입니다.\n",
      "\n",
      "9번째 줄입니다.\n",
      "\n",
      "10번째 줄입니다.\n",
      "\n"
     ]
    }
   ],
   "source": [
    "fi = open(\"새파일2.txt\", \"r\")\n",
    "\n",
    "lines = fi.readlines()\n",
    "\n",
    "for line in lines:\n",
    "    print(line)\n",
    "\n",
    "fi.close()\n"
   ]
  },
  {
   "cell_type": "code",
   "execution_count": null,
   "metadata": {},
   "outputs": [
    {
     "name": "stdout",
     "output_type": "stream",
     "text": [
      "1번째 줄입니다.\n",
      "2번째 줄입니다.\n",
      "3번째 줄입니다.\n",
      "4번째 줄입니다.\n",
      "5번째 줄입니다.\n",
      "6번째 줄입니다.\n",
      "7번째 줄입니다.\n",
      "8번째 줄입니다.\n",
      "9번째 줄입니다.\n",
      "10번째 줄입니다.\n",
      "\n"
     ]
    }
   ],
   "source": [
    "# Use one of these approaches:\n",
    "# 1. Raw string with r prefix\n",
    "# f = open(r\"C:\\Users\\UserK\\projects\\github python\\20250407\\새파일2.txt\", \"r\")\n",
    "# 2. Forward slashes\n",
    "fi = open(\"C:/Users/UserK/projects/github python/20250407/새파일2.txt\", \"r\")\n",
    "# 3. Escaped backslashes\n",
    "# f = open(\"C:\\\\Users\\\\UserK\\\\projects\\\\github python\\\\20250407\\\\새파일2.txt\", \"r\")\n",
    "\n",
    "data = fi.read()\n",
    "print(data)\n",
    "\n",
    "fi.close()"
   ]
  },
  {
   "cell_type": "code",
   "execution_count": null,
   "metadata": {},
   "outputs": [
    {
     "name": "stdout",
     "output_type": "stream",
     "text": [
      "['1번째 줄입니다.\\n', '2번째 줄입니다.\\n', '3번째 줄입니다.\\n', '4번째 줄입니다.\\n', '5번째 줄입니다.\\n', '6번째 줄입니다.\\n', '7번째 줄입니다.\\n', '8번째 줄입니다.\\n', '9번째 줄입니다.\\n', '10번째 줄입니다.\\n']\n"
     ]
    }
   ],
   "source": [
    "with open(\"새파일2.txt\", \"r\") as file:\n",
    "    content = list()\n",
    "\n",
    "    while True:\n",
    "        sentence = file.readline()\n",
    "\n",
    "        if sentence:\n",
    "            content.append(sentence)\n",
    "        else:\n",
    "            break\n",
    "\n",
    "    print(content)"
   ]
  },
  {
   "cell_type": "code",
   "execution_count": null,
   "metadata": {},
   "outputs": [
    {
     "name": "stdout",
     "output_type": "stream",
     "text": [
      "['1번째 줄입니다.\\n', '2번째 줄입니다.\\n', '3번째 줄입니다.\\n', '4번째 줄입니다.\\n', '5번째 줄입니다.\\n', '6번째 줄입니다.\\n', '7번째 줄입니다.\\n', '8번째 줄입니다.\\n', '9번째 줄입니다.\\n', '10번째 줄입니다.\\n']\n"
     ]
    }
   ],
   "source": [
    "with open(\"새파일2.txt\", mode=\"r\") as file:\n",
    "    content = list()\n",
    "\n",
    "    for fi in file:\n",
    "        content.append(fi)\n",
    "\n",
    "    print(content)"
   ]
  },
  {
   "cell_type": "code",
   "execution_count": null,
   "metadata": {},
   "outputs": [
    {
     "name": "stdout",
     "output_type": "stream",
     "text": [
      "['1번째 줄입니다.\\n', '2번째 줄입니다.\\n', '3번째 줄입니다.\\n', '4번째 줄입니다.\\n', '5번째 줄입니다.\\n', '6번째 줄입니다.\\n', '7번째 줄입니다.\\n', '8번째 줄입니다.\\n', '9번째 줄입니다.\\n', '10번째 줄입니다.\\n']\n"
     ]
    }
   ],
   "source": [
    "with open(\n",
    "    \"C:/Users/UserK/projects/github python/20250407/새파일2.txt\", mode=\"r\"\n",
    ") as file:\n",
    "    lines = file.readlines()\n",
    "    print(lines)\n"
   ]
  },
  {
   "cell_type": "code",
   "execution_count": null,
   "metadata": {},
   "outputs": [
    {
     "name": "stdout",
     "output_type": "stream",
     "text": [
      "1번째 줄입니다.\n",
      "2번째 줄입니다.\n",
      "3번째 줄입니다.\n",
      "4번째 줄입니다.\n",
      "5번째 줄입니다.\n",
      "6번째 줄입니다.\n",
      "7번째 줄입니다.\n",
      "8번째 줄입니다.\n",
      "9번째 줄입니다.\n",
      "10번째 줄입니다.\n",
      "\n"
     ]
    }
   ],
   "source": [
    "with open(\n",
    "    \"C:/Users/UserK/projects/github python/20250407/새파일2.txt\", mode=\"r\"\n",
    ") as file:\n",
    "    lines = file.read()\n",
    "    print(lines)"
   ]
  },
  {
   "cell_type": "code",
   "execution_count": 40,
   "metadata": {},
   "outputs": [],
   "source": [
    "with open(\"C:/Users/UserK/projects/github python/20250407/새파일2.txt\", \"a\") as fi:\n",
    "    for i in range(11, 20):\n",
    "        data = \"%d번째 줄입니다.\\n\" % i\n",
    "        fi.write(data)\n"
   ]
  },
  {
   "cell_type": "code",
   "execution_count": null,
   "metadata": {},
   "outputs": [],
   "source": [
    "with open(\"textfile.txt\", mode=\"w\") as file:\n",
    "    words = [\"Python\\n\", \"RABBIT\\n\", \"161803398874989484\\n\"]\n",
    "\n",
    "    file.write(\"START\\n\")\n",
    "    file.writelines(words)\n",
    "    file.write(\"END\\n\")"
   ]
  },
  {
   "cell_type": "code",
   "execution_count": null,
   "metadata": {},
   "outputs": [
    {
     "name": "stdout",
     "output_type": "stream",
     "text": [
      "['홍길동', '27', '서울특별시 마포구 상암동']\n",
      "['이순신', '53', '서울특별시 종로구 세종대로']\n"
     ]
    }
   ],
   "source": [
    "f = open(\"myfile.txt\", \"r\")\n",
    "\n",
    "while True:\n",
    "    line = f.readline()\n",
    "    if not line:\n",
    "        break\n",
    "    line = line.strip()\n",
    "    print(line.split(\", \"))\n",
    "\n",
    "f.close()"
   ]
  },
  {
   "cell_type": "code",
   "execution_count": null,
   "metadata": {},
   "outputs": [
    {
     "name": "stdout",
     "output_type": "stream",
     "text": [
      "--f=c:\\Users\\UserK\\AppData\\Roaming\\jupyter\\runtime\\kernel-v365bf7b160fc40cae35a5f4358f347c82ddf09f08.json\n"
     ]
    }
   ],
   "source": [
    "import sys\n",
    "\n",
    "args = sys.argv[1:]\n",
    "for i in args:\n",
    "    print(i)"
   ]
  },
  {
   "cell_type": "code",
   "execution_count": 1,
   "metadata": {},
   "outputs": [
    {
     "name": "stdout",
     "output_type": "stream",
     "text": [
      "--F=C:\\USERS\\USERK\\APPDATA\\ROAMING\\JUPYTER\\RUNTIME\\KERNEL-V34DB0102A649AA75198CB4A9D9730C5818CABC0DB.JSON "
     ]
    }
   ],
   "source": [
    "import sys\n",
    "\n",
    "if len(sys.argv) > 1:\n",
    "    filename = sys"
   ]
  },
  {
   "cell_type": "code",
   "execution_count": 4,
   "metadata": {},
   "outputs": [
    {
     "name": "stdout",
     "output_type": "stream",
     "text": [
      "[['title.genre.year'],\n",
      " ['Interstellar.SF.2014'],\n",
      " ['Braveheart.Drama.1995'],\n",
      " ['Mary Poppins.Fantasy.1964'],\n",
      " ['Gloomy Sunday.Drama.2000']]\n",
      "[['title.genre.year'], ['Interstellar.SF.2014'], ['Braveheart.Drama.1995'], ['Mary Poppins.Fantasy.1964'], ['Gloomy Sunday.Drama.2000']]\n"
     ]
    }
   ],
   "source": [
    "import csv\n",
    "import pprint\n",
    "\n",
    "with open(\"movies.csv\") as file:\n",
    "    reader = csv.reader(file)\n",
    "    movies = list(reader)\n",
    "\n",
    "    pprint.pprint(movies)\n",
    "\n",
    "    print(movies)"
   ]
  },
  {
   "cell_type": "code",
   "execution_count": 9,
   "metadata": {},
   "outputs": [
    {
     "name": "stdout",
     "output_type": "stream",
     "text": [
      "Life is too short\n"
     ]
    }
   ],
   "source": [
    "f1 = open(\"test.txt\", \"w\")\n",
    "f1.write(\"Life is too short\")\n",
    "f1.close()\n",
    "\n",
    "f2 = open(\"test.txt\", \"r\")\n",
    "print(f2.read())\n",
    "f2.close()"
   ]
  },
  {
   "cell_type": "code",
   "execution_count": 14,
   "metadata": {},
   "outputs": [],
   "source": [
    "input_data = input(\"저장할 내용을 입력하세요: \")\n",
    "f3 = open(\"test2.txt\", \"a\", encoding=\"UTF-8\")\n",
    "f3.write(input_data + \"\\n\")\n",
    "\n",
    "f3.close()"
   ]
  },
  {
   "cell_type": "code",
   "execution_count": 23,
   "metadata": {},
   "outputs": [],
   "source": [
    "with open(\"test3.txt\", \"r\", encoding=\"UTF-8\") as file:\n",
    "    txt = file.read()\n",
    "\n",
    "txt = txt.replace(\"java\", \"python\")\n",
    "\n",
    "with open(\"test3.txt\", \"w\", encoding=\"UTF-8\") as file:\n",
    "    file.writelines(txt)"
   ]
  },
  {
   "cell_type": "code",
   "execution_count": 38,
   "metadata": {},
   "outputs": [
    {
     "name": "stdout",
     "output_type": "stream",
     "text": [
      "합계: 790, 평균 점수: 79.00\n"
     ]
    }
   ],
   "source": [
    "with open(\"sample.txt\", \"r\", encoding=\"UTF-8\") as file:\n",
    "    sum = 0\n",
    "    count = 0\n",
    "\n",
    "    for line in file.readlines():\n",
    "        sum += int(line.strip())\n",
    "        count += 1\n",
    "\n",
    "    print(f\"합계: {sum}, 평균 점수: {sum / count:.2f}\")\n",
    "\n",
    "with open(\"result.txt\", \"w\", encoding=\"UTF-8\") as file2:\n",
    "    file2.write(f\"합계: {sum}, 평균 점수: {sum / count:.2f}\")\n"
   ]
  }
 ],
 "metadata": {
  "kernelspec": {
   "display_name": "base",
   "language": "python",
   "name": "python3"
  },
  "language_info": {
   "codemirror_mode": {
    "name": "ipython",
    "version": 3
   },
   "file_extension": ".py",
   "mimetype": "text/x-python",
   "name": "python",
   "nbconvert_exporter": "python",
   "pygments_lexer": "ipython3",
   "version": "3.12.9"
  }
 },
 "nbformat": 4,
 "nbformat_minor": 2
}

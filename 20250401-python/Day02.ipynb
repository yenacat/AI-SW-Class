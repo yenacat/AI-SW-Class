{
 "cells": [
  {
   "cell_type": "code",
   "execution_count": 7,
   "metadata": {},
   "outputs": [
    {
     "name": "stdout",
     "output_type": "stream",
     "text": [
      "['banana', 'apple', 'orange', 'kiwi']\n",
      "<class 'list'>\n",
      "[100, 200, 'apple', 400]\n",
      "<class 'list'>\n"
     ]
    }
   ],
   "source": [
    "fruits = ['banana', 'apple', 'orange', 'kiwi']\n",
    "print(fruits)\n",
    "print(type(fruits))\n",
    "\n",
    "mixed_list = [100, 200, 'apple', 400]\n",
    "print(mixed_list)\n",
    "print(type(mixed_list))"
   ]
  },
  {
   "cell_type": "code",
   "execution_count": 12,
   "metadata": {},
   "outputs": [
    {
     "name": "stdout",
     "output_type": "stream",
     "text": [
      "[]\n",
      "[]\n",
      "[1, 2, 3]\n",
      "[1, 2, 3, 4, 5, 6, 7, 8, 9]\n",
      "['H', 'E', 'L', 'L', 'O']\n"
     ]
    }
   ],
   "source": [
    "list1 = list()\n",
    "print(list1)\n",
    "\n",
    "list2 = []\n",
    "print(list2)\n",
    "\n",
    "list3 = list((1, 2, 3))\n",
    "print(list3)\n",
    "\n",
    "list4 = list(range(1, 10))\n",
    "print(list4)\n",
    "\n",
    "list5 = list('HELLO')\n",
    "print(list5)"
   ]
  },
  {
   "cell_type": "code",
   "execution_count": 30,
   "metadata": {},
   "outputs": [
    {
     "name": "stdout",
     "output_type": "stream",
     "text": [
      "[2, 4, 6, 8, 10]\n",
      "[2, 4, 6, 8, 10]\n",
      "nations =  ['Korea', 'China', 'India', 'Nepal']\n",
      "friends =  ['다희', '서윤', '미현', '혜진', '은']\n",
      "prime_list의 첫 원소 : 2\n",
      "prime_list의 첫 원소 : 2\n",
      "prime_list의 첫 원소 : 2\n",
      "prime_list의 첫 원소 : 2\n",
      "prime_list의 마지막 원소 : 7\n",
      "prime_list의 마지막 원소 : 7\n"
     ]
    }
   ],
   "source": [
    "even_list = [2, 4, 6, 8, 10]\n",
    "print(even_list)\n",
    "\n",
    "even_list2 = list(range(2, 11, 2))\n",
    "print(even_list2)\n",
    "\n",
    "nations = ['Korea', 'China', 'India', 'Nepal']\n",
    "print('nations = ', nations)\n",
    "\n",
    "friends = ['다희', '서윤', '미현', '혜진', '은']\n",
    "print('friends = ', friends)\n",
    "\n",
    "prime_list = [2, 3, 5, 7]\n",
    "print('prime_list의 첫 원소 :', prime_list[0])\n",
    "print(f'prime_list의 첫 원소 : {prime_list[0]}')\n",
    "print('prime_list의 첫 원소 : %d' % prime_list[0])\n",
    "print('prime_list의 첫 원소 : {}'.format(prime_list[0]))\n",
    "\n",
    "print('prime_list의 마지막 원소 :', prime_list[3])\n",
    "print('prime_list의 마지막 원소 :', prime_list[-1])\n",
    "\n"
   ]
  },
  {
   "cell_type": "code",
   "execution_count": 33,
   "metadata": {},
   "outputs": [
    {
     "name": "stdout",
     "output_type": "stream",
     "text": [
      "nations의 첫 원소 : Korea\n",
      "nations의 마지막 원소 : Malaysia\n",
      "nations의 마지막 원소 : Malaysia\n"
     ]
    }
   ],
   "source": [
    "nations = ['Korea', 'China', 'Russia', 'Malaysia']\n",
    "print('nations의 첫 원소 :', nations[0])\n",
    "\n",
    "print('nations의 마지막 원소 :', nations[3])\n",
    "print('nations의 마지막 원소 :', nations[-1])"
   ]
  },
  {
   "cell_type": "code",
   "execution_count": 49,
   "metadata": {},
   "outputs": [
    {
     "name": "stdout",
     "output_type": "stream",
     "text": [
      "[0, 1, 2, 3, 4, 5, 6, 7, 8, 9, 10, 11, 12, 13, 14]\n",
      "[0, 1, 2, 3, 4]\n",
      "[5, 6, 7, 8, 9, 10]\n",
      "[11, 12, 13, 14]\n",
      "[2, 4, 6, 8, 10]\n",
      "[10, 9, 8, 7, 6]\n",
      "[10, 8, 6, 4, 2]\n",
      "[14, 13, 12, 11, 10, 9, 8, 7, 6, 5, 4, 3, 2, 1, 0]\n",
      "[10, 8, 6, 4, 2]\n"
     ]
    }
   ],
   "source": [
    "n_list = list(range(15))\n",
    "print(n_list)\n",
    "\n",
    "s_list1 = n_list[:5]\n",
    "print(s_list1)\n",
    "\n",
    "s_list2 = n_list[5:11]\n",
    "print(s_list2)\n",
    "\n",
    "s_list3 = n_list[11:]\n",
    "print(s_list3)\n",
    "\n",
    "s_list4 = n_list[2:11:2]\n",
    "print(s_list4)\n",
    "\n",
    "s_list5 = n_list[10:5:-1]\n",
    "print(s_list5)\n",
    "\n",
    "s_list6 = n_list[10:1:-2]\n",
    "print(s_list6)\n",
    "\n",
    "rn_list = n_list[::-1]\n",
    "print(rn_list)\n",
    "\n",
    "srn_list1 = rn_list[4:13:2]\n",
    "print(srn_list1)"
   ]
  },
  {
   "cell_type": "code",
   "execution_count": 68,
   "metadata": {},
   "outputs": [
    {
     "name": "stdout",
     "output_type": "stream",
     "text": [
      "a : [1, 2, 3]\n",
      "b : [4, 5, 6]\n",
      "a + b : [1, 2, 3, 4, 5, 6]\n",
      "a * 3 : [1, 2, 3, 1, 2, 3, 1, 2, 3]\n",
      "a * 2 + b * 2 : [1, 2, 3, 1, 2, 3, 4, 5, 6, 4, 5, 6]\n",
      "str(a) + 'hi' : [1, 2, 3]hi\n"
     ]
    }
   ],
   "source": [
    "a = [1, 2, 3]\n",
    "b = [4, 5, 6]\n",
    "print('a :', a)\n",
    "print('b :', b)\n",
    "print('a + b :', a + b)\n",
    "print('a * 3 :',a * 3)\n",
    "print('a * 2 + b * 2 :', a * 2 + b * 2)\n",
    "\n",
    "stra = str(a) + 'hi'\n",
    "print('str(a) + \\'hi\\' :', stra)"
   ]
  },
  {
   "cell_type": "code",
   "execution_count": 72,
   "metadata": {},
   "outputs": [
    {
     "name": "stdout",
     "output_type": "stream",
     "text": [
      "list1 : [1, 2, 3, 4]\n",
      "list2 : [1, 2, 3, 4]\n",
      "list3 : [4, 3, 2, 1]\n",
      "list1 == list2 : True\n",
      "list1 == list3 : False\n",
      "list1 > list2 : False\n",
      "list1 < list2 : False\n",
      "list1 < list3 : True\n"
     ]
    }
   ],
   "source": [
    "list1 = [1, 2, 3, 4]\n",
    "list2 = [1, 2, 3, 4]\n",
    "list3 = [4, 3, 2, 1]\n",
    "\n",
    "print('list1 :', list1)\n",
    "print('list2 :', list2)\n",
    "print('list3 :', list3)\n",
    "print('list1 == list2 :', list1 == list2)\n",
    "print('list1 == list3 :', list1 == list3)\n",
    "\n",
    "print('list1 > list2 :', list1 > list2)\n",
    "print('list1 < list2 :', list1 < list2)\n",
    "print('list1 < list3 :', list1 < list3)"
   ]
  },
  {
   "cell_type": "code",
   "execution_count": 85,
   "metadata": {},
   "outputs": [
    {
     "name": "stdout",
     "output_type": "stream",
     "text": [
      "a = [1, 2, 3]\n",
      "\n",
      "a[1] = 4\n",
      "a = [1, 4, 3]\n",
      "\n",
      "a[1] = [1, 2, 3]\n",
      "a = [1, [1, 2, 3], 3]\n",
      "\n",
      "a[1:2] = [5, 6, 7]\n",
      "a = [1, 5, 6, 7, 3]\n"
     ]
    }
   ],
   "source": [
    "a = [1, 2, 3]\n",
    "\n",
    "print('a =', a)\n",
    "\n",
    "a[1] = 4\n",
    "print('\\na[1] = 4\\na =', a)\n",
    "\n",
    "a[1] = [1, 2, 3]\n",
    "print('\\na[1] = [1, 2, 3]\\na =', a)\n",
    "\n",
    "a[1:2] = [5, 6, 7]\n",
    "print('\\na[1:2] = [5, 6, 7]\\na =', a)"
   ]
  },
  {
   "cell_type": "code",
   "execution_count": 90,
   "metadata": {},
   "outputs": [
    {
     "name": "stdout",
     "output_type": "stream",
     "text": [
      "list1 = [20, 10, 40, 50, 30]\n",
      "list1.sort() = [10, 20, 30, 40, 50]\n",
      "list1.sort(reverse=True) = [50, 40, 30, 20, 10]\n"
     ]
    }
   ],
   "source": [
    "list1 = [20, 10, 40, 50, 30]\n",
    "print('list1 =', list1)\n",
    "\n",
    "list1.sort()\n",
    "print('list1.sort() =', list1)\n",
    "\n",
    "list1.sort(reverse=True)\n",
    "print('list1.sort(reverse=True) =', list1)"
   ]
  },
  {
   "cell_type": "code",
   "execution_count": 114,
   "metadata": {},
   "outputs": [
    {
     "name": "stdout",
     "output_type": "stream",
     "text": [
      "aa = [1, 2, 3]\n",
      "aa.index(3) = 2\n",
      "aa.index(1) = 0\n",
      "\n",
      "aa.insert(0, 4)\n",
      "aa = [4, 1, 2, 3]\n",
      "\n",
      "aa.insert(3, 5)\n",
      "aa = [4, 1, 2, 5, 3]\n",
      "\n",
      "aa.remove(3)\n",
      "aa = [4, 1, 2, 5]\n",
      "\n",
      "aa.pop(3)\n",
      "aa = [4, 1, 2]\n"
     ]
    }
   ],
   "source": [
    "aa = [1, 2, 3]\n",
    "\n",
    "print('aa =', aa)\n",
    "aa.index(3)\n",
    "print('aa.index(3) =', aa.index(3))\n",
    "aa.index(1)\n",
    "print('aa.index(1) =', aa.index(1))\n",
    "\n",
    "aa.insert(0, 4)\n",
    "print('\\naa.insert(0, 4)\\naa =', aa)\n",
    "\n",
    "aa.insert(3, 5)\n",
    "print('\\naa.insert(3, 5)\\naa =', aa)\n",
    "\n",
    "aa.remove(3)\n",
    "print('\\naa.remove(3)\\naa =', aa)\n",
    "\n",
    "aa.pop(3)\n",
    "print('\\naa.pop(3)\\naa =', aa)"
   ]
  },
  {
   "cell_type": "code",
   "execution_count": 129,
   "metadata": {},
   "outputs": [
    {
     "name": "stdout",
     "output_type": "stream",
     "text": [
      "list1 = ['a', 'b', 'c', 'd']\n",
      "list1,pop() = d\n",
      "list1 = ['a', 'b', 'c']\n",
      "\n",
      "list2 = ['a', 'b', 'c', 'd']\n",
      "list2.pop(1) = b\n",
      "\n",
      "list3 = ['a', 'b', 'c', 'd']\n",
      "list3[-1] = d\n",
      "list3.remove(list3[-1])\n",
      "list3 = ['a', 'b', 'c']\n"
     ]
    }
   ],
   "source": [
    "list1 = ['a', 'b', 'c', 'd']\n",
    "\n",
    "print('list1 =', list1)\n",
    "print('list1,pop() =', list1.pop())\n",
    "print('list1 =', list1)\n",
    "\n",
    "list2 = ['a', 'b', 'c', 'd']\n",
    "print('\\nlist2 =', list2)\n",
    "print('list2.pop(1) =', list2.pop(1))\n",
    "\n",
    "list3 = ['a', 'b', 'c', 'd']\n",
    "print('\\nlist3 =', list3)\n",
    "print('list3[-1] =', list3[-1])\n",
    "list3.remove(list3[-1])\n",
    "print('list3.remove(list3[-1])\\nlist3 =', list3)"
   ]
  },
  {
   "cell_type": "code",
   "execution_count": 154,
   "metadata": {},
   "outputs": [
    {
     "name": "stdout",
     "output_type": "stream",
     "text": [
      "[1, 2, 3, 4, 5, 6, 7, 8, 9, 10]\n",
      "[0, 1, 2, 3, 4, 5, 6, 7, 8, 9, 10]\n",
      "[10, 9, 8, 7, 6, 5, 4, 3, 2, 1, 0]\n",
      "nlist의 마지막 원소 = 0\n",
      "nlist =  [10, 9, 8, 7, 6, 5, 4, 3, 2, 1]\n"
     ]
    }
   ],
   "source": [
    "nlist = list(range(1, 11))\n",
    "print(nlist)\n",
    "\n",
    "nlist.insert(0,0)\n",
    "print(nlist)\n",
    "\n",
    "nlist.reverse()\n",
    "print(nlist)\n",
    "\n",
    "print('nlist의 마지막 원소 =', nlist.pop())\n",
    "print('nlist = ', nlist)"
   ]
  },
  {
   "cell_type": "code",
   "execution_count": 167,
   "metadata": {},
   "outputs": [
    {
     "name": "stdout",
     "output_type": "stream",
     "text": [
      "you too\n",
      "Life is too short\n"
     ]
    }
   ],
   "source": [
    "a = ['Life', 'is', 'too', 'short', 'you', 'need', 'python']\n",
    "\n",
    "print(a[4], a[2])\n",
    "\n",
    "print(' '.join(a[:4]))"
   ]
  },
  {
   "cell_type": "code",
   "execution_count": 171,
   "metadata": {},
   "outputs": [
    {
     "name": "stdout",
     "output_type": "stream",
     "text": [
      "[1, 3, 5, 4, 2]\n",
      "[5, 4, 3, 2, 1]\n",
      "[1, 2, 3, 4, 5]\n",
      "[1, 3, 5]\n"
     ]
    }
   ],
   "source": [
    "aaa = [1, 3, 5, 4, 2]\n",
    "print(aaa)\n",
    "\n",
    "aaa.sort(reverse=True)\n",
    "print(aaa)\n",
    "\n",
    "bbb = [1, 2, 3, 4, 5]\n",
    "print(bbb)\n",
    "\n",
    "bbb.remove(2)\n",
    "bbb.remove(4)\n",
    "print(bbb)"
   ]
  },
  {
   "cell_type": "code",
   "execution_count": 198,
   "metadata": {},
   "outputs": [
    {
     "name": "stdout",
     "output_type": "stream",
     "text": [
      "()\n",
      "1\n",
      "<class 'int'>\n",
      "(1,)\n",
      "<class 'tuple'>\n",
      "(1, 2, 3)\n",
      "<class 'tuple'>\n",
      "(1, 2, 3)\n",
      "<class 'tuple'>\n",
      "('c', 2, 'a', 'b')\n",
      "(1, 2, 3, 4)\n",
      "a = 1, type(a) = <class 'int'>\n",
      "b = (1,), type(b) = <class 'tuple'>\n",
      "c = (1,), type(c) = <class 'tuple'>\n"
     ]
    }
   ],
   "source": [
    "t = ()\n",
    "print(t)\n",
    "\n",
    "t = (1)\n",
    "print(t)\n",
    "\n",
    "print(type(t))\n",
    "\n",
    "t = (1,)\n",
    "print(t)\n",
    "\n",
    "print(type(t))\n",
    "\n",
    "t = (1, 2, 3)\n",
    "print(t)\n",
    "print(type(t))\n",
    "\n",
    "t = 1, 2, 3\n",
    "print(t)\n",
    "print(type(t))\n",
    "\n",
    "t1 = ('c', 2, 'a', 'b')\n",
    "print(t1)\n",
    "\n",
    "n_list = [1, 2, 3, 4]\n",
    "tuple4 = tuple(n_list)\n",
    "print(tuple4)\n",
    "\n",
    "\n",
    "a = (1)\n",
    "b = (1,)\n",
    "c = 1,\n",
    "\n",
    "print(f\"a = {a}, type(a) = {type(a)}\")\n",
    "\n",
    "print(f\"b = {b}, type(b) = {type(b)}\")\n",
    "\n",
    "print(f\"c = {c}, type(c) = {type(c)}\")"
   ]
  },
  {
   "cell_type": "code",
   "execution_count": 208,
   "metadata": {},
   "outputs": [
    {
     "name": "stdout",
     "output_type": "stream",
     "text": [
      "(1, 2, 3, 1, 2, 3)\n",
      "(1, 2, 3, 1, 2, 3, 1, 2, 3)\n",
      "(1, 2, 3, 4)\n",
      "((1, 2), (3, 4), (5, 9))\n",
      "(5, 9)\n",
      "5\n",
      "(1, 7, 5, 3, 9)\n",
      "('h', 'e', 'l', 'l', 'o')\n"
     ]
    }
   ],
   "source": [
    "t1 = (1, 2, 3)\n",
    "t2 = t1 + t1\n",
    "print(t2)\n",
    "t3 = t1 * 3\n",
    "print(t3)\n",
    "\n",
    "t4 = t1 + (4,)\n",
    "print(t4)\n",
    "\n",
    "tp = ((1, 2), (3, 4), (5, 9))\n",
    "print(tp)\n",
    "print(tp[2])\n",
    "print(tp[2][0])\n",
    "\n",
    "tp1 = tuple([1,7,5,3,9])\n",
    "print(tp1)\n",
    "\n",
    "tp2 = tuple('hello')\n",
    "print(tp2)"
   ]
  },
  {
   "cell_type": "code",
   "execution_count": 229,
   "metadata": {},
   "outputs": [
    {
     "name": "stdout",
     "output_type": "stream",
     "text": [
      "1부터 100까지(list_sum)의 합: 5050\n",
      "list_sum의 최소값: 1\n",
      "list_sum의 최대값: 100\n"
     ]
    }
   ],
   "source": [
    "list_sum = list(range(1, 101))\n",
    "print('1부터 100까지(list_sum)의 합:', sum(list_sum))\n",
    "print('list_sum의 최소값:', min(list_sum))\n",
    "print('list_sum의 최대값:', max(list_sum))"
   ]
  },
  {
   "cell_type": "code",
   "execution_count": 232,
   "metadata": {},
   "outputs": [
    {
     "name": "stdout",
     "output_type": "stream",
     "text": [
      "('banana', 'apple', 'watermelon')\n",
      "<class 'tuple'>\n",
      "('banana', 'kiwi', 'watermelon')\n",
      "<class 'tuple'>\n"
     ]
    }
   ],
   "source": [
    "t_fruits = ('banana', 'apple', 'watermelon')\n",
    "print(t_fruits)\n",
    "print(type(t_fruits))\n",
    "l_fruits = list(t_fruits)\n",
    "l_fruits[1] = 'kiwi'\n",
    "t_fruits = tuple(l_fruits)\n",
    "print(t_fruits)\n",
    "print(type(t_fruits))"
   ]
  },
  {
   "cell_type": "code",
   "execution_count": 242,
   "metadata": {},
   "outputs": [
    {
     "name": "stdout",
     "output_type": "stream",
     "text": [
      "{'name': 'pey', 'phone': '0119993323', 'birth': '1118'}\n",
      "{'이름': '홍길동', '나이': 26, '몸무게': 82}\n",
      "82\n",
      "{'이름': '홍길동', '나이': 26, '몸무게': 82, '주소': '서울시 강남구 삼성동'}\n",
      "{'이름': '홍길동', '나이': 26, '몸무게': 82}\n",
      "{'이름': '홍길동', '나이': 26, '몸무게': 82, '직업': '율도국의 왕'}\n"
     ]
    }
   ],
   "source": [
    "dic = {'name': 'pey', 'phone': '0119993323', 'birth': '1118'}\n",
    "print(dic)\n",
    "\n",
    "person = { '이름': '홍길동', '나이': 26, '몸무게': 82 }\n",
    "print(person)\n",
    "print(person['몸무게'])\n",
    "\n",
    "person['주소'] = '서울시 강남구 삼성동'\n",
    "print(person)\n",
    "\n",
    "del person['주소']\n",
    "print(person)\n",
    "\n",
    "person['직업'] = '율도국의 왕'\n",
    "print(person)"
   ]
  },
  {
   "cell_type": "code",
   "execution_count": 248,
   "metadata": {},
   "outputs": [
    {
     "name": "stdout",
     "output_type": "stream",
     "text": [
      "{1: 'a'}\n",
      "{1: 'a', 2: 'b'}\n",
      "{1: 'a', 2: 'b', 'name': 'pey'}\n",
      "{2: 'b', 'name': 'pey'}\n"
     ]
    }
   ],
   "source": [
    "dic_a = {1: 'a'}\n",
    "print(dic_a)\n",
    "\n",
    "dic_a[2] = 'b'\n",
    "print(dic_a)\n",
    "\n",
    "dic_a['name'] = 'pey'\n",
    "print(dic_a)\n",
    "\n",
    "del dic_a[1]\n",
    "print(dic_a)"
   ]
  },
  {
   "cell_type": "code",
   "execution_count": 251,
   "metadata": {},
   "outputs": [
    {
     "name": "stdout",
     "output_type": "stream",
     "text": [
      "10\n",
      "99\n"
     ]
    }
   ],
   "source": [
    "score = {'pey': 10, 'julliet': 99}\n",
    "print(score['pey'])\n",
    "print(score['julliet'])"
   ]
  },
  {
   "cell_type": "code",
   "execution_count": 262,
   "metadata": {},
   "outputs": [
    {
     "name": "stdout",
     "output_type": "stream",
     "text": [
      "이름 : 홍길동\n",
      "나이 : 26\n",
      "몸무게 : 82\n",
      "직업 : 율도국의 왕\n",
      "주소 : 전라북도 부안군 위도\n",
      "dict_items([('이름', '홍길동'), ('나이', 26), ('몸무게', 82), ('직업', '율도국의 왕'), ('주소', '전라북도 부안군 위도')])\n",
      "이름: 홍길동\n",
      "나이: 26\n",
      "몸무게: 82\n",
      "직업: 율도국의 왕\n",
      "주소: 전라북도 부안군 위도\n"
     ]
    }
   ],
   "source": [
    "dic = {'이름': '홍길동', '나이': 26, '몸무게': 82, '직업': '율도국의 왕', '주소': '전라북도 부안군 위도'}\n",
    "\n",
    "for key in dic:\n",
    "    print(key,':', dic[key])\n",
    "\n",
    "\n",
    "dic_items = dic.items()\n",
    "print(dic_items)\n",
    "\n",
    "for item in dic_items:\n",
    "    (key, value) = item\n",
    "    print(f'{key}: {value}')\n"
   ]
  },
  {
   "cell_type": "code",
   "execution_count": null,
   "metadata": {},
   "outputs": [],
   "source": []
  }
 ],
 "metadata": {
  "kernelspec": {
   "display_name": "base",
   "language": "python",
   "name": "python3"
  },
  "language_info": {
   "codemirror_mode": {
    "name": "ipython",
    "version": 3
   },
   "file_extension": ".py",
   "mimetype": "text/x-python",
   "name": "python",
   "nbconvert_exporter": "python",
   "pygments_lexer": "ipython3",
   "version": "3.12.7"
  }
 },
 "nbformat": 4,
 "nbformat_minor": 2
}
